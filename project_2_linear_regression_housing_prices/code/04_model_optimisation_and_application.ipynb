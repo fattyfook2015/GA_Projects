{
 "cells": [
  {
   "cell_type": "code",
   "execution_count": 1,
   "metadata": {},
   "outputs": [
    {
     "name": "stderr",
     "output_type": "stream",
     "text": [
      "/opt/anaconda3/lib/python3.7/site-packages/statsmodels/tools/_testing.py:19: FutureWarning: pandas.util.testing is deprecated. Use the functions in the public API at pandas.testing instead.\n",
      "  import pandas.util.testing as tm\n"
     ]
    }
   ],
   "source": [
    "import pandas as pd\n",
    "import numpy as np\n",
    "import seaborn as sns\n",
    "import matplotlib.pyplot as plt\n",
    "\n",
    "from sklearn.model_selection import train_test_split, cross_val_score, KFold\n",
    "from sklearn.linear_model import LinearRegression, LassoCV, RidgeCV, Lasso, Ridge, ElasticNet, ElasticNetCV\n",
    "from sklearn.preprocessing import StandardScaler\n",
    "from sklearn.metrics import r2_score\n",
    "from sklearn.pipeline import Pipeline\n",
    "\n",
    "from scipy.stats import pearsonr"
   ]
  },
  {
   "cell_type": "code",
   "execution_count": 2,
   "metadata": {},
   "outputs": [],
   "source": [
    "#get the dataset\n",
    "\n",
    "df_traindata_cleaned=pd.read_csv('../datasets/df_traindata_cleaned.csv')\n",
    "\n",
    "X=df_traindata_cleaned.drop('SalePrice', axis=1)\n",
    "y=df_traindata_cleaned['SalePrice']\n"
   ]
  },
  {
   "cell_type": "code",
   "execution_count": 3,
   "metadata": {},
   "outputs": [
    {
     "data": {
      "text/plain": [
       "35"
      ]
     },
     "execution_count": 3,
     "metadata": {},
     "output_type": "execute_result"
    }
   ],
   "source": [
    "len(X.columns)"
   ]
  },
  {
   "cell_type": "code",
   "execution_count": 4,
   "metadata": {},
   "outputs": [],
   "source": [
    "# using Pipeline to do scaling with KFold\n",
    "\n",
    "from sklearn.pipeline import Pipeline\n",
    "\n",
    "ss = StandardScaler()\n",
    "lr = LinearRegression()\n",
    "\n",
    "# setting random seed as 42 for our KFold tests, shuffle = True\n",
    "cv = KFold(n_splits=10,shuffle=True, random_state=33)\n",
    "\n",
    "\n"
   ]
  },
  {
   "cell_type": "code",
   "execution_count": 5,
   "metadata": {},
   "outputs": [
    {
     "name": "stdout",
     "output_type": "stream",
     "text": [
      "0.8055319473892262\n"
     ]
    }
   ],
   "source": [
    "# KFold cross_val_score R^2 value for Linear Regression\n",
    "\n",
    "pipeline_lr = Pipeline([('transformer', ss), ('estimator', lr)])\n",
    "\n",
    "lr_mean_cross_val_score = cross_val_score(pipeline_lr, X, y, cv = cv).mean()\n",
    "\n",
    "print(lr_mean_cross_val_score)\n"
   ]
  },
  {
   "cell_type": "code",
   "execution_count": 6,
   "metadata": {},
   "outputs": [
    {
     "name": "stdout",
     "output_type": "stream",
     "text": [
      "15.167168884709232\n"
     ]
    }
   ],
   "source": [
    "# Find an optimal value for Ridge Regression alpha using RidgeCV\n",
    "ridge_alphas = np.logspace(0, 5, 200)\n",
    "\n",
    "optimal_ridge = RidgeCV(alphas=ridge_alphas, cv = cv)\n",
    "optimal_ridge.fit(X, y)\n",
    "\n",
    "print (optimal_ridge.alpha_)"
   ]
  },
  {
   "cell_type": "code",
   "execution_count": 7,
   "metadata": {},
   "outputs": [
    {
     "name": "stderr",
     "output_type": "stream",
     "text": [
      "/opt/anaconda3/lib/python3.7/site-packages/sklearn/model_selection/_search.py:814: DeprecationWarning: The default of the `iid` parameter will change from True to False in version 0.22 and will be removed in 0.24. This will change numeric results when test-set sizes are unequal.\n",
      "  DeprecationWarning)\n"
     ]
    },
    {
     "name": "stdout",
     "output_type": "stream",
     "text": [
      "0.8067882235682259\n"
     ]
    }
   ],
   "source": [
    "# KFold cross_val_score R^2 value for Ridge Regression using optimal alpha\n",
    "\n",
    "pipeline_ridge = Pipeline([('transformer', ss), ('estimator', optimal_ridge)])\n",
    "\n",
    "optimal_ridge_mean_cross_val_score = cross_val_score(pipeline_ridge, X, y, cv = cv).mean()\n",
    "\n",
    "print(optimal_ridge_mean_cross_val_score)\n"
   ]
  },
  {
   "cell_type": "code",
   "execution_count": 8,
   "metadata": {},
   "outputs": [
    {
     "name": "stdout",
     "output_type": "stream",
     "text": [
      "158407.69610015253\n"
     ]
    }
   ],
   "source": [
    "# Find an optimal value for Lasso Regression alpha using LassoCV\n",
    "\n",
    "optimal_lasso = LassoCV(n_alphas=500, cv=cv)\n",
    "optimal_lasso.fit(X, y)\n",
    "\n",
    "print (optimal_lasso.alpha_)"
   ]
  },
  {
   "cell_type": "code",
   "execution_count": 9,
   "metadata": {},
   "outputs": [
    {
     "name": "stdout",
     "output_type": "stream",
     "text": [
      "0.8075325879249349\n"
     ]
    }
   ],
   "source": [
    "# KFold cross_val_score R^2 value for Lasso Regression using optimal alpha\n",
    "\n",
    "pipeline_lasso = Pipeline([('transformer', ss), ('estimator', optimal_lasso)])\n",
    "\n",
    "optimal_lasso_mean_cross_val_score = cross_val_score(pipeline_lasso, X, y, cv = cv).mean()\n",
    "\n",
    "print(optimal_lasso_mean_cross_val_score)"
   ]
  },
  {
   "cell_type": "code",
   "execution_count": 10,
   "metadata": {},
   "outputs": [],
   "source": [
    "# Lasso performs slightly better than the Ridge, but similarly.\n",
    "# Lasso deals primarily with the feature selection of valuable variables,\n",
    "# eliminating ones that are not useful. This also takes care of multicollinearity,\n",
    "# but in a different way: it will choose the \"best\" of the correlated variables\n",
    "# and zero-out the other redundant ones.\n",
    "# There may also be useless variables in the data which it is simply getting rid\n",
    "# of entirely."
   ]
  },
  {
   "cell_type": "code",
   "execution_count": 11,
   "metadata": {},
   "outputs": [
    {
     "name": "stdout",
     "output_type": "stream",
     "text": [
      "158407.69610015253\n",
      "1.0\n"
     ]
    }
   ],
   "source": [
    "# Find optimal parameters for ElasticNet Regression using ElasticNetCV\n",
    "\n",
    "l1_ratios = np.linspace(0.01, 1.0, 25)\n",
    "\n",
    "optimal_enet = ElasticNetCV(l1_ratio=l1_ratios, n_alphas=100, cv=cv,)\n",
    "optimal_enet.fit(X, y)\n",
    "\n",
    "print (optimal_enet.alpha_)\n",
    "print (optimal_enet.l1_ratio_)"
   ]
  },
  {
   "cell_type": "code",
   "execution_count": 12,
   "metadata": {},
   "outputs": [
    {
     "name": "stdout",
     "output_type": "stream",
     "text": [
      "0.8074918830364943\n"
     ]
    }
   ],
   "source": [
    "# KFold cross_val_score R^2 value for ElasticNet Regression using optimal alpha and l1\n",
    "\n",
    "pipeline_elastic = Pipeline([('transformer', ss), ('estimator', optimal_enet)])\n",
    "\n",
    "optimal_elastic_mean_cross_val_score = cross_val_score(pipeline_elastic, X, y, cv = cv).mean()\n",
    "\n",
    "print(optimal_elastic_mean_cross_val_score)"
   ]
  },
  {
   "cell_type": "code",
   "execution_count": 13,
   "metadata": {},
   "outputs": [],
   "source": [
    "# the optimal parameters of ElasticNet also describe a Lasso Regression, as optimal l1_ratio is 1.0"
   ]
  },
  {
   "cell_type": "code",
   "execution_count": 14,
   "metadata": {},
   "outputs": [],
   "source": [
    "# Displaying coefficients for variables in the Ridge Regression Model"
   ]
  },
  {
   "cell_type": "code",
   "execution_count": 15,
   "metadata": {},
   "outputs": [
    {
     "data": {
      "text/plain": [
       "Ridge(alpha=15.167168884709232, copy_X=True, fit_intercept=True, max_iter=None,\n",
       "      normalize=False, random_state=None, solver='auto', tol=0.001)"
      ]
     },
     "execution_count": 15,
     "metadata": {},
     "output_type": "execute_result"
    }
   ],
   "source": [
    "# applying optimal alpha to lasso model\n",
    "\n",
    "ridge = Ridge(alpha=optimal_ridge.alpha_)\n",
    "\n",
    "ridge.fit(X, y)"
   ]
  },
  {
   "cell_type": "code",
   "execution_count": 16,
   "metadata": {},
   "outputs": [
    {
     "data": {
      "text/html": [
       "<div>\n",
       "<style scoped>\n",
       "    .dataframe tbody tr th:only-of-type {\n",
       "        vertical-align: middle;\n",
       "    }\n",
       "\n",
       "    .dataframe tbody tr th {\n",
       "        vertical-align: top;\n",
       "    }\n",
       "\n",
       "    .dataframe thead th {\n",
       "        text-align: right;\n",
       "    }\n",
       "</style>\n",
       "<table border=\"1\" class=\"dataframe\">\n",
       "  <thead>\n",
       "    <tr style=\"text-align: right;\">\n",
       "      <th></th>\n",
       "      <th>variable</th>\n",
       "      <th>coef</th>\n",
       "      <th>abs_coef</th>\n",
       "    </tr>\n",
       "  </thead>\n",
       "  <tbody>\n",
       "    <tr>\n",
       "      <th>18</th>\n",
       "      <td>Neighborhood_NoRidge</td>\n",
       "      <td>17004.712479</td>\n",
       "      <td>17004.712479</td>\n",
       "    </tr>\n",
       "    <tr>\n",
       "      <th>25</th>\n",
       "      <td>Overall Qual</td>\n",
       "      <td>13713.471940</td>\n",
       "      <td>13713.471940</td>\n",
       "    </tr>\n",
       "    <tr>\n",
       "      <th>14</th>\n",
       "      <td>Exter Qual</td>\n",
       "      <td>13651.159356</td>\n",
       "      <td>13651.159356</td>\n",
       "    </tr>\n",
       "    <tr>\n",
       "      <th>6</th>\n",
       "      <td>Kitchen Qual</td>\n",
       "      <td>13161.840707</td>\n",
       "      <td>13161.840707</td>\n",
       "    </tr>\n",
       "    <tr>\n",
       "      <th>16</th>\n",
       "      <td>Roof Style_Hip</td>\n",
       "      <td>12463.144295</td>\n",
       "      <td>12463.144295</td>\n",
       "    </tr>\n",
       "    <tr>\n",
       "      <th>2</th>\n",
       "      <td>Mas Vnr Type_Stone</td>\n",
       "      <td>7952.744627</td>\n",
       "      <td>7952.744627</td>\n",
       "    </tr>\n",
       "    <tr>\n",
       "      <th>10</th>\n",
       "      <td>Bsmt Cond</td>\n",
       "      <td>-6622.480969</td>\n",
       "      <td>6622.480969</td>\n",
       "    </tr>\n",
       "    <tr>\n",
       "      <th>11</th>\n",
       "      <td>Bsmt Qual</td>\n",
       "      <td>6022.440085</td>\n",
       "      <td>6022.440085</td>\n",
       "    </tr>\n",
       "    <tr>\n",
       "      <th>9</th>\n",
       "      <td>Bsmt Exposure</td>\n",
       "      <td>5473.103004</td>\n",
       "      <td>5473.103004</td>\n",
       "    </tr>\n",
       "    <tr>\n",
       "      <th>32</th>\n",
       "      <td>Garage Cars</td>\n",
       "      <td>5346.448467</td>\n",
       "      <td>5346.448467</td>\n",
       "    </tr>\n",
       "    <tr>\n",
       "      <th>20</th>\n",
       "      <td>MS Zoning</td>\n",
       "      <td>3765.839571</td>\n",
       "      <td>3765.839571</td>\n",
       "    </tr>\n",
       "    <tr>\n",
       "      <th>3</th>\n",
       "      <td>Garage Finish</td>\n",
       "      <td>2820.932105</td>\n",
       "      <td>2820.932105</td>\n",
       "    </tr>\n",
       "    <tr>\n",
       "      <th>21</th>\n",
       "      <td>MS SubClass_50</td>\n",
       "      <td>2288.176096</td>\n",
       "      <td>2288.176096</td>\n",
       "    </tr>\n",
       "    <tr>\n",
       "      <th>7</th>\n",
       "      <td>Heating QC</td>\n",
       "      <td>2081.736672</td>\n",
       "      <td>2081.736672</td>\n",
       "    </tr>\n",
       "    <tr>\n",
       "      <th>4</th>\n",
       "      <td>Garage Type_Attchd</td>\n",
       "      <td>-1773.833054</td>\n",
       "      <td>1773.833054</td>\n",
       "    </tr>\n",
       "    <tr>\n",
       "      <th>5</th>\n",
       "      <td>Garage Type_Detchd</td>\n",
       "      <td>-1649.647450</td>\n",
       "      <td>1649.647450</td>\n",
       "    </tr>\n",
       "    <tr>\n",
       "      <th>8</th>\n",
       "      <td>BsmtFin Type 1</td>\n",
       "      <td>1596.963672</td>\n",
       "      <td>1596.963672</td>\n",
       "    </tr>\n",
       "    <tr>\n",
       "      <th>1</th>\n",
       "      <td>Mas Vnr Type_None</td>\n",
       "      <td>1367.547915</td>\n",
       "      <td>1367.547915</td>\n",
       "    </tr>\n",
       "    <tr>\n",
       "      <th>12</th>\n",
       "      <td>Foundation_CBlock</td>\n",
       "      <td>-1359.968147</td>\n",
       "      <td>1359.968147</td>\n",
       "    </tr>\n",
       "    <tr>\n",
       "      <th>30</th>\n",
       "      <td>TotRms AbvGrd</td>\n",
       "      <td>993.430090</td>\n",
       "      <td>993.430090</td>\n",
       "    </tr>\n",
       "  </tbody>\n",
       "</table>\n",
       "</div>"
      ],
      "text/plain": [
       "                variable          coef      abs_coef\n",
       "18  Neighborhood_NoRidge  17004.712479  17004.712479\n",
       "25          Overall Qual  13713.471940  13713.471940\n",
       "14            Exter Qual  13651.159356  13651.159356\n",
       "6           Kitchen Qual  13161.840707  13161.840707\n",
       "16        Roof Style_Hip  12463.144295  12463.144295\n",
       "2     Mas Vnr Type_Stone   7952.744627   7952.744627\n",
       "10             Bsmt Cond  -6622.480969   6622.480969\n",
       "11             Bsmt Qual   6022.440085   6022.440085\n",
       "9          Bsmt Exposure   5473.103004   5473.103004\n",
       "32           Garage Cars   5346.448467   5346.448467\n",
       "20             MS Zoning   3765.839571   3765.839571\n",
       "3          Garage Finish   2820.932105   2820.932105\n",
       "21        MS SubClass_50   2288.176096   2288.176096\n",
       "7             Heating QC   2081.736672   2081.736672\n",
       "4     Garage Type_Attchd  -1773.833054   1773.833054\n",
       "5     Garage Type_Detchd  -1649.647450   1649.647450\n",
       "8         BsmtFin Type 1   1596.963672   1596.963672\n",
       "1      Mas Vnr Type_None   1367.547915   1367.547915\n",
       "12     Foundation_CBlock  -1359.968147   1359.968147\n",
       "30         TotRms AbvGrd    993.430090    993.430090"
      ]
     },
     "execution_count": 16,
     "metadata": {},
     "output_type": "execute_result"
    }
   ],
   "source": [
    "ridge_coefs = pd.DataFrame({'variable':X.columns,\n",
    "                            'coef':ridge.coef_,\n",
    "                            'abs_coef':np.abs(ridge.coef_)})\n",
    "\n",
    "ridge_coefs.sort_values('abs_coef', inplace=True, ascending=False)\n",
    "\n",
    "ridge_coefs.head(20)"
   ]
  },
  {
   "cell_type": "code",
   "execution_count": 17,
   "metadata": {},
   "outputs": [],
   "source": [
    "# Displaying coefficients for variables in the Lasso Regression Model"
   ]
  },
  {
   "cell_type": "code",
   "execution_count": 18,
   "metadata": {},
   "outputs": [
    {
     "data": {
      "text/plain": [
       "Lasso(alpha=158407.69610015253, copy_X=True, fit_intercept=True, max_iter=1000,\n",
       "      normalize=False, positive=False, precompute=False, random_state=None,\n",
       "      selection='cyclic', tol=0.0001, warm_start=False)"
      ]
     },
     "execution_count": 18,
     "metadata": {},
     "output_type": "execute_result"
    }
   ],
   "source": [
    "# applying optimal alpha to lasso model\n",
    "\n",
    "lasso = Lasso(alpha=optimal_lasso.alpha_)\n",
    "\n",
    "lasso.fit(X, y)"
   ]
  },
  {
   "cell_type": "code",
   "execution_count": 19,
   "metadata": {},
   "outputs": [
    {
     "data": {
      "text/html": [
       "<div>\n",
       "<style scoped>\n",
       "    .dataframe tbody tr th:only-of-type {\n",
       "        vertical-align: middle;\n",
       "    }\n",
       "\n",
       "    .dataframe tbody tr th {\n",
       "        vertical-align: top;\n",
       "    }\n",
       "\n",
       "    .dataframe thead th {\n",
       "        text-align: right;\n",
       "    }\n",
       "</style>\n",
       "<table border=\"1\" class=\"dataframe\">\n",
       "  <thead>\n",
       "    <tr style=\"text-align: right;\">\n",
       "      <th></th>\n",
       "      <th>variable</th>\n",
       "      <th>coef</th>\n",
       "      <th>abs_coef</th>\n",
       "    </tr>\n",
       "  </thead>\n",
       "  <tbody>\n",
       "    <tr>\n",
       "      <th>26</th>\n",
       "      <td>Year Built</td>\n",
       "      <td>474.864794</td>\n",
       "      <td>474.864794</td>\n",
       "    </tr>\n",
       "    <tr>\n",
       "      <th>33</th>\n",
       "      <td>Garage Area</td>\n",
       "      <td>75.561246</td>\n",
       "      <td>75.561246</td>\n",
       "    </tr>\n",
       "    <tr>\n",
       "      <th>34</th>\n",
       "      <td>Total Flr SF</td>\n",
       "      <td>45.677134</td>\n",
       "      <td>45.677134</td>\n",
       "    </tr>\n",
       "    <tr>\n",
       "      <th>28</th>\n",
       "      <td>Total Bsmt SF</td>\n",
       "      <td>34.410986</td>\n",
       "      <td>34.410986</td>\n",
       "    </tr>\n",
       "    <tr>\n",
       "      <th>29</th>\n",
       "      <td>Gr Liv Area</td>\n",
       "      <td>22.918702</td>\n",
       "      <td>22.918702</td>\n",
       "    </tr>\n",
       "    <tr>\n",
       "      <th>27</th>\n",
       "      <td>BsmtFin SF 1</td>\n",
       "      <td>16.547036</td>\n",
       "      <td>16.547036</td>\n",
       "    </tr>\n",
       "    <tr>\n",
       "      <th>24</th>\n",
       "      <td>Lot Area</td>\n",
       "      <td>0.220946</td>\n",
       "      <td>0.220946</td>\n",
       "    </tr>\n",
       "    <tr>\n",
       "      <th>30</th>\n",
       "      <td>TotRms AbvGrd</td>\n",
       "      <td>-0.000000</td>\n",
       "      <td>0.000000</td>\n",
       "    </tr>\n",
       "    <tr>\n",
       "      <th>31</th>\n",
       "      <td>Garage Yr Blt</td>\n",
       "      <td>0.000000</td>\n",
       "      <td>0.000000</td>\n",
       "    </tr>\n",
       "    <tr>\n",
       "      <th>18</th>\n",
       "      <td>Neighborhood_NoRidge</td>\n",
       "      <td>0.000000</td>\n",
       "      <td>0.000000</td>\n",
       "    </tr>\n",
       "    <tr>\n",
       "      <th>32</th>\n",
       "      <td>Garage Cars</td>\n",
       "      <td>0.000000</td>\n",
       "      <td>0.000000</td>\n",
       "    </tr>\n",
       "    <tr>\n",
       "      <th>25</th>\n",
       "      <td>Overall Qual</td>\n",
       "      <td>0.000000</td>\n",
       "      <td>0.000000</td>\n",
       "    </tr>\n",
       "    <tr>\n",
       "      <th>23</th>\n",
       "      <td>Lot Frontage</td>\n",
       "      <td>0.000000</td>\n",
       "      <td>0.000000</td>\n",
       "    </tr>\n",
       "    <tr>\n",
       "      <th>22</th>\n",
       "      <td>MS SubClass_60</td>\n",
       "      <td>0.000000</td>\n",
       "      <td>0.000000</td>\n",
       "    </tr>\n",
       "    <tr>\n",
       "      <th>21</th>\n",
       "      <td>MS SubClass_50</td>\n",
       "      <td>-0.000000</td>\n",
       "      <td>0.000000</td>\n",
       "    </tr>\n",
       "    <tr>\n",
       "      <th>20</th>\n",
       "      <td>MS Zoning</td>\n",
       "      <td>0.000000</td>\n",
       "      <td>0.000000</td>\n",
       "    </tr>\n",
       "    <tr>\n",
       "      <th>19</th>\n",
       "      <td>Neighborhood_Somerst</td>\n",
       "      <td>0.000000</td>\n",
       "      <td>0.000000</td>\n",
       "    </tr>\n",
       "    <tr>\n",
       "      <th>0</th>\n",
       "      <td>Mas Vnr Type_BrkFace</td>\n",
       "      <td>0.000000</td>\n",
       "      <td>0.000000</td>\n",
       "    </tr>\n",
       "    <tr>\n",
       "      <th>1</th>\n",
       "      <td>Mas Vnr Type_None</td>\n",
       "      <td>-0.000000</td>\n",
       "      <td>0.000000</td>\n",
       "    </tr>\n",
       "    <tr>\n",
       "      <th>8</th>\n",
       "      <td>BsmtFin Type 1</td>\n",
       "      <td>0.000000</td>\n",
       "      <td>0.000000</td>\n",
       "    </tr>\n",
       "  </tbody>\n",
       "</table>\n",
       "</div>"
      ],
      "text/plain": [
       "                variable        coef    abs_coef\n",
       "26            Year Built  474.864794  474.864794\n",
       "33           Garage Area   75.561246   75.561246\n",
       "34          Total Flr SF   45.677134   45.677134\n",
       "28         Total Bsmt SF   34.410986   34.410986\n",
       "29           Gr Liv Area   22.918702   22.918702\n",
       "27          BsmtFin SF 1   16.547036   16.547036\n",
       "24              Lot Area    0.220946    0.220946\n",
       "30         TotRms AbvGrd   -0.000000    0.000000\n",
       "31         Garage Yr Blt    0.000000    0.000000\n",
       "18  Neighborhood_NoRidge    0.000000    0.000000\n",
       "32           Garage Cars    0.000000    0.000000\n",
       "25          Overall Qual    0.000000    0.000000\n",
       "23          Lot Frontage    0.000000    0.000000\n",
       "22        MS SubClass_60    0.000000    0.000000\n",
       "21        MS SubClass_50   -0.000000    0.000000\n",
       "20             MS Zoning    0.000000    0.000000\n",
       "19  Neighborhood_Somerst    0.000000    0.000000\n",
       "0   Mas Vnr Type_BrkFace    0.000000    0.000000\n",
       "1      Mas Vnr Type_None   -0.000000    0.000000\n",
       "8         BsmtFin Type 1    0.000000    0.000000"
      ]
     },
     "execution_count": 19,
     "metadata": {},
     "output_type": "execute_result"
    }
   ],
   "source": [
    "lasso_coefs = pd.DataFrame({'variable':X.columns,\n",
    "                            'coef':lasso.coef_,\n",
    "                            'abs_coef':np.abs(lasso.coef_)})\n",
    "\n",
    "lasso_coefs.sort_values('abs_coef', inplace=True, ascending=False)\n",
    "\n",
    "lasso_coefs.head(20)"
   ]
  },
  {
   "cell_type": "code",
   "execution_count": 20,
   "metadata": {},
   "outputs": [],
   "source": [
    "# Loading in the holdout dataset to test model\n",
    "\n",
    "df_holdoutdata_cleaned=pd.read_csv('../datasets/df_holdoutdata_cleaned.csv')\n",
    "\n"
   ]
  },
  {
   "cell_type": "code",
   "execution_count": 21,
   "metadata": {},
   "outputs": [
    {
     "name": "stdout",
     "output_type": "stream",
     "text": [
      "(879, 1)\n"
     ]
    },
    {
     "data": {
      "text/html": [
       "<div>\n",
       "<style scoped>\n",
       "    .dataframe tbody tr th:only-of-type {\n",
       "        vertical-align: middle;\n",
       "    }\n",
       "\n",
       "    .dataframe tbody tr th {\n",
       "        vertical-align: top;\n",
       "    }\n",
       "\n",
       "    .dataframe thead th {\n",
       "        text-align: right;\n",
       "    }\n",
       "</style>\n",
       "<table border=\"1\" class=\"dataframe\">\n",
       "  <thead>\n",
       "    <tr style=\"text-align: right;\">\n",
       "      <th></th>\n",
       "      <th>Id</th>\n",
       "    </tr>\n",
       "  </thead>\n",
       "  <tbody>\n",
       "    <tr>\n",
       "      <th>874</th>\n",
       "      <td>1662</td>\n",
       "    </tr>\n",
       "    <tr>\n",
       "      <th>875</th>\n",
       "      <td>1234</td>\n",
       "    </tr>\n",
       "    <tr>\n",
       "      <th>876</th>\n",
       "      <td>1373</td>\n",
       "    </tr>\n",
       "    <tr>\n",
       "      <th>877</th>\n",
       "      <td>1672</td>\n",
       "    </tr>\n",
       "    <tr>\n",
       "      <th>878</th>\n",
       "      <td>1939</td>\n",
       "    </tr>\n",
       "  </tbody>\n",
       "</table>\n",
       "</div>"
      ],
      "text/plain": [
       "       Id\n",
       "874  1662\n",
       "875  1234\n",
       "876  1373\n",
       "877  1672\n",
       "878  1939"
      ]
     },
     "execution_count": 21,
     "metadata": {},
     "output_type": "execute_result"
    }
   ],
   "source": [
    "# extracting Id column together with its values for later concat with y_holdouts\n",
    "holdout_Id_column=pd.DataFrame(df_holdoutdata_cleaned['Id'])\n",
    "\n",
    "print(holdout_Id_column.shape)\n",
    "holdout_Id_column.tail()"
   ]
  },
  {
   "cell_type": "code",
   "execution_count": 22,
   "metadata": {},
   "outputs": [
    {
     "name": "stdout",
     "output_type": "stream",
     "text": [
      "(879, 35)\n"
     ]
    },
    {
     "data": {
      "text/html": [
       "<div>\n",
       "<style scoped>\n",
       "    .dataframe tbody tr th:only-of-type {\n",
       "        vertical-align: middle;\n",
       "    }\n",
       "\n",
       "    .dataframe tbody tr th {\n",
       "        vertical-align: top;\n",
       "    }\n",
       "\n",
       "    .dataframe thead th {\n",
       "        text-align: right;\n",
       "    }\n",
       "</style>\n",
       "<table border=\"1\" class=\"dataframe\">\n",
       "  <thead>\n",
       "    <tr style=\"text-align: right;\">\n",
       "      <th></th>\n",
       "      <th>Mas Vnr Type_BrkFace</th>\n",
       "      <th>Mas Vnr Type_None</th>\n",
       "      <th>Mas Vnr Type_Stone</th>\n",
       "      <th>Garage Finish</th>\n",
       "      <th>Garage Type_Attchd</th>\n",
       "      <th>Garage Type_Detchd</th>\n",
       "      <th>Kitchen Qual</th>\n",
       "      <th>Heating QC</th>\n",
       "      <th>BsmtFin Type 1</th>\n",
       "      <th>Bsmt Exposure</th>\n",
       "      <th>...</th>\n",
       "      <th>Overall Qual</th>\n",
       "      <th>Year Built</th>\n",
       "      <th>BsmtFin SF 1</th>\n",
       "      <th>Total Bsmt SF</th>\n",
       "      <th>Gr Liv Area</th>\n",
       "      <th>TotRms AbvGrd</th>\n",
       "      <th>Garage Yr Blt</th>\n",
       "      <th>Garage Cars</th>\n",
       "      <th>Garage Area</th>\n",
       "      <th>Total Flr SF</th>\n",
       "    </tr>\n",
       "  </thead>\n",
       "  <tbody>\n",
       "    <tr>\n",
       "      <th>874</th>\n",
       "      <td>0</td>\n",
       "      <td>1</td>\n",
       "      <td>0</td>\n",
       "      <td>1</td>\n",
       "      <td>1</td>\n",
       "      <td>0</td>\n",
       "      <td>3</td>\n",
       "      <td>3</td>\n",
       "      <td>5</td>\n",
       "      <td>1</td>\n",
       "      <td>...</td>\n",
       "      <td>6</td>\n",
       "      <td>1974</td>\n",
       "      <td>931</td>\n",
       "      <td>1084</td>\n",
       "      <td>1877</td>\n",
       "      <td>8</td>\n",
       "      <td>1974.0</td>\n",
       "      <td>2</td>\n",
       "      <td>488</td>\n",
       "      <td>1877</td>\n",
       "    </tr>\n",
       "    <tr>\n",
       "      <th>875</th>\n",
       "      <td>1</td>\n",
       "      <td>0</td>\n",
       "      <td>0</td>\n",
       "      <td>2</td>\n",
       "      <td>1</td>\n",
       "      <td>0</td>\n",
       "      <td>4</td>\n",
       "      <td>5</td>\n",
       "      <td>4</td>\n",
       "      <td>1</td>\n",
       "      <td>...</td>\n",
       "      <td>6</td>\n",
       "      <td>1966</td>\n",
       "      <td>575</td>\n",
       "      <td>1104</td>\n",
       "      <td>1988</td>\n",
       "      <td>9</td>\n",
       "      <td>1966.0</td>\n",
       "      <td>2</td>\n",
       "      <td>480</td>\n",
       "      <td>1988</td>\n",
       "    </tr>\n",
       "    <tr>\n",
       "      <th>876</th>\n",
       "      <td>0</td>\n",
       "      <td>1</td>\n",
       "      <td>0</td>\n",
       "      <td>1</td>\n",
       "      <td>1</td>\n",
       "      <td>0</td>\n",
       "      <td>3</td>\n",
       "      <td>5</td>\n",
       "      <td>4</td>\n",
       "      <td>1</td>\n",
       "      <td>...</td>\n",
       "      <td>5</td>\n",
       "      <td>1968</td>\n",
       "      <td>250</td>\n",
       "      <td>952</td>\n",
       "      <td>1211</td>\n",
       "      <td>5</td>\n",
       "      <td>1968.0</td>\n",
       "      <td>1</td>\n",
       "      <td>322</td>\n",
       "      <td>1211</td>\n",
       "    </tr>\n",
       "    <tr>\n",
       "      <th>877</th>\n",
       "      <td>0</td>\n",
       "      <td>1</td>\n",
       "      <td>0</td>\n",
       "      <td>1</td>\n",
       "      <td>0</td>\n",
       "      <td>1</td>\n",
       "      <td>3</td>\n",
       "      <td>3</td>\n",
       "      <td>5</td>\n",
       "      <td>1</td>\n",
       "      <td>...</td>\n",
       "      <td>4</td>\n",
       "      <td>1971</td>\n",
       "      <td>616</td>\n",
       "      <td>864</td>\n",
       "      <td>864</td>\n",
       "      <td>5</td>\n",
       "      <td>1974.0</td>\n",
       "      <td>2</td>\n",
       "      <td>528</td>\n",
       "      <td>864</td>\n",
       "    </tr>\n",
       "    <tr>\n",
       "      <th>878</th>\n",
       "      <td>0</td>\n",
       "      <td>1</td>\n",
       "      <td>0</td>\n",
       "      <td>1</td>\n",
       "      <td>1</td>\n",
       "      <td>0</td>\n",
       "      <td>3</td>\n",
       "      <td>3</td>\n",
       "      <td>4</td>\n",
       "      <td>1</td>\n",
       "      <td>...</td>\n",
       "      <td>5</td>\n",
       "      <td>1955</td>\n",
       "      <td>793</td>\n",
       "      <td>923</td>\n",
       "      <td>925</td>\n",
       "      <td>5</td>\n",
       "      <td>1955.0</td>\n",
       "      <td>1</td>\n",
       "      <td>390</td>\n",
       "      <td>925</td>\n",
       "    </tr>\n",
       "  </tbody>\n",
       "</table>\n",
       "<p>5 rows × 35 columns</p>\n",
       "</div>"
      ],
      "text/plain": [
       "     Mas Vnr Type_BrkFace  Mas Vnr Type_None  Mas Vnr Type_Stone  \\\n",
       "874                     0                  1                   0   \n",
       "875                     1                  0                   0   \n",
       "876                     0                  1                   0   \n",
       "877                     0                  1                   0   \n",
       "878                     0                  1                   0   \n",
       "\n",
       "     Garage Finish  Garage Type_Attchd  Garage Type_Detchd  Kitchen Qual  \\\n",
       "874              1                   1                   0             3   \n",
       "875              2                   1                   0             4   \n",
       "876              1                   1                   0             3   \n",
       "877              1                   0                   1             3   \n",
       "878              1                   1                   0             3   \n",
       "\n",
       "     Heating QC  BsmtFin Type 1  Bsmt Exposure  ...  Overall Qual  Year Built  \\\n",
       "874           3               5              1  ...             6        1974   \n",
       "875           5               4              1  ...             6        1966   \n",
       "876           5               4              1  ...             5        1968   \n",
       "877           3               5              1  ...             4        1971   \n",
       "878           3               4              1  ...             5        1955   \n",
       "\n",
       "     BsmtFin SF 1  Total Bsmt SF  Gr Liv Area  TotRms AbvGrd  Garage Yr Blt  \\\n",
       "874           931           1084         1877              8         1974.0   \n",
       "875           575           1104         1988              9         1966.0   \n",
       "876           250            952         1211              5         1968.0   \n",
       "877           616            864          864              5         1974.0   \n",
       "878           793            923          925              5         1955.0   \n",
       "\n",
       "     Garage Cars  Garage Area  Total Flr SF  \n",
       "874            2          488          1877  \n",
       "875            2          480          1988  \n",
       "876            1          322          1211  \n",
       "877            2          528           864  \n",
       "878            1          390           925  \n",
       "\n",
       "[5 rows x 35 columns]"
      ]
     },
     "execution_count": 22,
     "metadata": {},
     "output_type": "execute_result"
    }
   ],
   "source": [
    "X_holdout=df_holdoutdata_cleaned.drop(columns=['Id'])\n",
    "\n",
    "print(X_holdout.shape)\n",
    "X_holdout.tail()"
   ]
  },
  {
   "cell_type": "code",
   "execution_count": 23,
   "metadata": {},
   "outputs": [],
   "source": [
    "# Predicting SalePrice using Ridge Regression Model"
   ]
  },
  {
   "cell_type": "code",
   "execution_count": 24,
   "metadata": {},
   "outputs": [],
   "source": [
    "y_holdout_ridge=ridge.predict(X_holdout)"
   ]
  },
  {
   "cell_type": "code",
   "execution_count": 25,
   "metadata": {},
   "outputs": [
    {
     "name": "stdout",
     "output_type": "stream",
     "text": [
      "(879,)\n"
     ]
    },
    {
     "data": {
      "text/html": [
       "<div>\n",
       "<style scoped>\n",
       "    .dataframe tbody tr th:only-of-type {\n",
       "        vertical-align: middle;\n",
       "    }\n",
       "\n",
       "    .dataframe tbody tr th {\n",
       "        vertical-align: top;\n",
       "    }\n",
       "\n",
       "    .dataframe thead th {\n",
       "        text-align: right;\n",
       "    }\n",
       "</style>\n",
       "<table border=\"1\" class=\"dataframe\">\n",
       "  <thead>\n",
       "    <tr style=\"text-align: right;\">\n",
       "      <th></th>\n",
       "      <th>0</th>\n",
       "    </tr>\n",
       "  </thead>\n",
       "  <tbody>\n",
       "    <tr>\n",
       "      <th>0</th>\n",
       "      <td>136514.536040</td>\n",
       "    </tr>\n",
       "    <tr>\n",
       "      <th>1</th>\n",
       "      <td>170064.760142</td>\n",
       "    </tr>\n",
       "    <tr>\n",
       "      <th>2</th>\n",
       "      <td>217892.138106</td>\n",
       "    </tr>\n",
       "    <tr>\n",
       "      <th>3</th>\n",
       "      <td>113712.052023</td>\n",
       "    </tr>\n",
       "    <tr>\n",
       "      <th>4</th>\n",
       "      <td>159495.277102</td>\n",
       "    </tr>\n",
       "    <tr>\n",
       "      <th>...</th>\n",
       "      <td>...</td>\n",
       "    </tr>\n",
       "    <tr>\n",
       "      <th>874</th>\n",
       "      <td>178104.256238</td>\n",
       "    </tr>\n",
       "    <tr>\n",
       "      <th>875</th>\n",
       "      <td>215770.992966</td>\n",
       "    </tr>\n",
       "    <tr>\n",
       "      <th>876</th>\n",
       "      <td>131619.611898</td>\n",
       "    </tr>\n",
       "    <tr>\n",
       "      <th>877</th>\n",
       "      <td>104133.628823</td>\n",
       "    </tr>\n",
       "    <tr>\n",
       "      <th>878</th>\n",
       "      <td>111569.475073</td>\n",
       "    </tr>\n",
       "  </tbody>\n",
       "</table>\n",
       "<p>879 rows × 1 columns</p>\n",
       "</div>"
      ],
      "text/plain": [
       "                 0\n",
       "0    136514.536040\n",
       "1    170064.760142\n",
       "2    217892.138106\n",
       "3    113712.052023\n",
       "4    159495.277102\n",
       "..             ...\n",
       "874  178104.256238\n",
       "875  215770.992966\n",
       "876  131619.611898\n",
       "877  104133.628823\n",
       "878  111569.475073\n",
       "\n",
       "[879 rows x 1 columns]"
      ]
     },
     "execution_count": 25,
     "metadata": {},
     "output_type": "execute_result"
    }
   ],
   "source": [
    "print(y_holdout_ridge.shape)\n",
    "pd.DataFrame(y_holdout_ridge)"
   ]
  },
  {
   "cell_type": "code",
   "execution_count": 26,
   "metadata": {},
   "outputs": [],
   "source": [
    "final_result_ridge=pd.concat([holdout_Id_column,pd.DataFrame(y_holdout_ridge)], axis='columns')"
   ]
  },
  {
   "cell_type": "code",
   "execution_count": 27,
   "metadata": {},
   "outputs": [],
   "source": [
    "submission_ridge=final_result_ridge.sort_values(['Id'], ascending=True)"
   ]
  },
  {
   "cell_type": "code",
   "execution_count": 28,
   "metadata": {},
   "outputs": [],
   "source": [
    "submission_ridge.reset_index(inplace=True,drop=True)"
   ]
  },
  {
   "cell_type": "code",
   "execution_count": 29,
   "metadata": {},
   "outputs": [
    {
     "name": "stdout",
     "output_type": "stream",
     "text": [
      "(879, 2)\n"
     ]
    },
    {
     "data": {
      "text/html": [
       "<div>\n",
       "<style scoped>\n",
       "    .dataframe tbody tr th:only-of-type {\n",
       "        vertical-align: middle;\n",
       "    }\n",
       "\n",
       "    .dataframe tbody tr th {\n",
       "        vertical-align: top;\n",
       "    }\n",
       "\n",
       "    .dataframe thead th {\n",
       "        text-align: right;\n",
       "    }\n",
       "</style>\n",
       "<table border=\"1\" class=\"dataframe\">\n",
       "  <thead>\n",
       "    <tr style=\"text-align: right;\">\n",
       "      <th></th>\n",
       "      <th>Id</th>\n",
       "      <th>0</th>\n",
       "    </tr>\n",
       "  </thead>\n",
       "  <tbody>\n",
       "    <tr>\n",
       "      <th>0</th>\n",
       "      <td>2</td>\n",
       "      <td>105022.564315</td>\n",
       "    </tr>\n",
       "    <tr>\n",
       "      <th>1</th>\n",
       "      <td>4</td>\n",
       "      <td>277328.818476</td>\n",
       "    </tr>\n",
       "    <tr>\n",
       "      <th>2</th>\n",
       "      <td>6</td>\n",
       "      <td>187144.246408</td>\n",
       "    </tr>\n",
       "    <tr>\n",
       "      <th>3</th>\n",
       "      <td>7</td>\n",
       "      <td>229683.637730</td>\n",
       "    </tr>\n",
       "    <tr>\n",
       "      <th>4</th>\n",
       "      <td>17</td>\n",
       "      <td>243778.355268</td>\n",
       "    </tr>\n",
       "  </tbody>\n",
       "</table>\n",
       "</div>"
      ],
      "text/plain": [
       "   Id              0\n",
       "0   2  105022.564315\n",
       "1   4  277328.818476\n",
       "2   6  187144.246408\n",
       "3   7  229683.637730\n",
       "4  17  243778.355268"
      ]
     },
     "execution_count": 29,
     "metadata": {},
     "output_type": "execute_result"
    }
   ],
   "source": [
    "print(submission_ridge.shape)\n",
    "submission_ridge.head()"
   ]
  },
  {
   "cell_type": "code",
   "execution_count": 30,
   "metadata": {},
   "outputs": [],
   "source": [
    "submission_ridge.to_csv(r'../datasets/submission_ridge.csv', index = False)"
   ]
  },
  {
   "cell_type": "code",
   "execution_count": 31,
   "metadata": {},
   "outputs": [],
   "source": [
    "# Predicting SalePrice using Lasso Regression Model"
   ]
  },
  {
   "cell_type": "code",
   "execution_count": 32,
   "metadata": {},
   "outputs": [],
   "source": [
    "y_holdout_lasso=lasso.predict(X_holdout)"
   ]
  },
  {
   "cell_type": "code",
   "execution_count": 33,
   "metadata": {},
   "outputs": [
    {
     "name": "stdout",
     "output_type": "stream",
     "text": [
      "(879,)\n"
     ]
    },
    {
     "data": {
      "text/html": [
       "<div>\n",
       "<style scoped>\n",
       "    .dataframe tbody tr th:only-of-type {\n",
       "        vertical-align: middle;\n",
       "    }\n",
       "\n",
       "    .dataframe tbody tr th {\n",
       "        vertical-align: top;\n",
       "    }\n",
       "\n",
       "    .dataframe thead th {\n",
       "        text-align: right;\n",
       "    }\n",
       "</style>\n",
       "<table border=\"1\" class=\"dataframe\">\n",
       "  <thead>\n",
       "    <tr style=\"text-align: right;\">\n",
       "      <th></th>\n",
       "      <th>0</th>\n",
       "    </tr>\n",
       "  </thead>\n",
       "  <tbody>\n",
       "    <tr>\n",
       "      <th>0</th>\n",
       "      <td>170487.647146</td>\n",
       "    </tr>\n",
       "    <tr>\n",
       "      <th>1</th>\n",
       "      <td>248259.496014</td>\n",
       "    </tr>\n",
       "    <tr>\n",
       "      <th>2</th>\n",
       "      <td>183715.217685</td>\n",
       "    </tr>\n",
       "    <tr>\n",
       "      <th>3</th>\n",
       "      <td>111904.536989</td>\n",
       "    </tr>\n",
       "    <tr>\n",
       "      <th>4</th>\n",
       "      <td>187642.789047</td>\n",
       "    </tr>\n",
       "    <tr>\n",
       "      <th>...</th>\n",
       "      <td>...</td>\n",
       "    </tr>\n",
       "    <tr>\n",
       "      <th>874</th>\n",
       "      <td>218362.819029</td>\n",
       "    </tr>\n",
       "    <tr>\n",
       "      <th>875</th>\n",
       "      <td>217844.733420</td>\n",
       "    </tr>\n",
       "    <tr>\n",
       "      <th>876</th>\n",
       "      <td>141530.091644</td>\n",
       "    </tr>\n",
       "    <tr>\n",
       "      <th>877</th>\n",
       "      <td>137911.305440</td>\n",
       "    </tr>\n",
       "    <tr>\n",
       "      <th>878</th>\n",
       "      <td>128896.868589</td>\n",
       "    </tr>\n",
       "  </tbody>\n",
       "</table>\n",
       "<p>879 rows × 1 columns</p>\n",
       "</div>"
      ],
      "text/plain": [
       "                 0\n",
       "0    170487.647146\n",
       "1    248259.496014\n",
       "2    183715.217685\n",
       "3    111904.536989\n",
       "4    187642.789047\n",
       "..             ...\n",
       "874  218362.819029\n",
       "875  217844.733420\n",
       "876  141530.091644\n",
       "877  137911.305440\n",
       "878  128896.868589\n",
       "\n",
       "[879 rows x 1 columns]"
      ]
     },
     "execution_count": 33,
     "metadata": {},
     "output_type": "execute_result"
    }
   ],
   "source": [
    "print(y_holdout_lasso.shape)\n",
    "pd.DataFrame(y_holdout_lasso)"
   ]
  },
  {
   "cell_type": "code",
   "execution_count": 34,
   "metadata": {},
   "outputs": [],
   "source": [
    "final_result_lasso=pd.concat([holdout_Id_column,pd.DataFrame(y_holdout_lasso)], axis='columns')"
   ]
  },
  {
   "cell_type": "code",
   "execution_count": 35,
   "metadata": {},
   "outputs": [],
   "source": [
    "final_result_lasso.rename(columns={0: 'SalePrice'}, errors=\"raise\",inplace=True)"
   ]
  },
  {
   "cell_type": "code",
   "execution_count": 36,
   "metadata": {},
   "outputs": [
    {
     "name": "stdout",
     "output_type": "stream",
     "text": [
      "(879, 2)\n"
     ]
    },
    {
     "data": {
      "text/html": [
       "<div>\n",
       "<style scoped>\n",
       "    .dataframe tbody tr th:only-of-type {\n",
       "        vertical-align: middle;\n",
       "    }\n",
       "\n",
       "    .dataframe tbody tr th {\n",
       "        vertical-align: top;\n",
       "    }\n",
       "\n",
       "    .dataframe thead th {\n",
       "        text-align: right;\n",
       "    }\n",
       "</style>\n",
       "<table border=\"1\" class=\"dataframe\">\n",
       "  <thead>\n",
       "    <tr style=\"text-align: right;\">\n",
       "      <th></th>\n",
       "      <th>Id</th>\n",
       "      <th>SalePrice</th>\n",
       "    </tr>\n",
       "  </thead>\n",
       "  <tbody>\n",
       "    <tr>\n",
       "      <th>0</th>\n",
       "      <td>2658</td>\n",
       "      <td>170487.647146</td>\n",
       "    </tr>\n",
       "    <tr>\n",
       "      <th>1</th>\n",
       "      <td>2718</td>\n",
       "      <td>248259.496014</td>\n",
       "    </tr>\n",
       "    <tr>\n",
       "      <th>2</th>\n",
       "      <td>2414</td>\n",
       "      <td>183715.217685</td>\n",
       "    </tr>\n",
       "    <tr>\n",
       "      <th>3</th>\n",
       "      <td>1989</td>\n",
       "      <td>111904.536989</td>\n",
       "    </tr>\n",
       "    <tr>\n",
       "      <th>4</th>\n",
       "      <td>625</td>\n",
       "      <td>187642.789047</td>\n",
       "    </tr>\n",
       "  </tbody>\n",
       "</table>\n",
       "</div>"
      ],
      "text/plain": [
       "     Id      SalePrice\n",
       "0  2658  170487.647146\n",
       "1  2718  248259.496014\n",
       "2  2414  183715.217685\n",
       "3  1989  111904.536989\n",
       "4   625  187642.789047"
      ]
     },
     "execution_count": 36,
     "metadata": {},
     "output_type": "execute_result"
    }
   ],
   "source": [
    "print(final_result_lasso.shape)\n",
    "final_result_lasso.head()"
   ]
  },
  {
   "cell_type": "code",
   "execution_count": 37,
   "metadata": {},
   "outputs": [],
   "source": [
    "submission_lasso=final_result_lasso.sort_values(['Id'], ascending=True)"
   ]
  },
  {
   "cell_type": "code",
   "execution_count": 38,
   "metadata": {},
   "outputs": [],
   "source": [
    "submission_lasso.reset_index(inplace=True,drop=True)"
   ]
  },
  {
   "cell_type": "code",
   "execution_count": 39,
   "metadata": {},
   "outputs": [
    {
     "name": "stdout",
     "output_type": "stream",
     "text": [
      "(879, 2)\n"
     ]
    },
    {
     "data": {
      "text/html": [
       "<div>\n",
       "<style scoped>\n",
       "    .dataframe tbody tr th:only-of-type {\n",
       "        vertical-align: middle;\n",
       "    }\n",
       "\n",
       "    .dataframe tbody tr th {\n",
       "        vertical-align: top;\n",
       "    }\n",
       "\n",
       "    .dataframe thead th {\n",
       "        text-align: right;\n",
       "    }\n",
       "</style>\n",
       "<table border=\"1\" class=\"dataframe\">\n",
       "  <thead>\n",
       "    <tr style=\"text-align: right;\">\n",
       "      <th></th>\n",
       "      <th>Id</th>\n",
       "      <th>SalePrice</th>\n",
       "    </tr>\n",
       "  </thead>\n",
       "  <tbody>\n",
       "    <tr>\n",
       "      <th>0</th>\n",
       "      <td>2</td>\n",
       "      <td>149370.852948</td>\n",
       "    </tr>\n",
       "    <tr>\n",
       "      <th>1</th>\n",
       "      <td>4</td>\n",
       "      <td>272286.706127</td>\n",
       "    </tr>\n",
       "    <tr>\n",
       "      <th>2</th>\n",
       "      <td>6</td>\n",
       "      <td>199228.929113</td>\n",
       "    </tr>\n",
       "    <tr>\n",
       "      <th>3</th>\n",
       "      <td>7</td>\n",
       "      <td>204161.330487</td>\n",
       "    </tr>\n",
       "    <tr>\n",
       "      <th>4</th>\n",
       "      <td>17</td>\n",
       "      <td>191246.608878</td>\n",
       "    </tr>\n",
       "  </tbody>\n",
       "</table>\n",
       "</div>"
      ],
      "text/plain": [
       "   Id      SalePrice\n",
       "0   2  149370.852948\n",
       "1   4  272286.706127\n",
       "2   6  199228.929113\n",
       "3   7  204161.330487\n",
       "4  17  191246.608878"
      ]
     },
     "execution_count": 39,
     "metadata": {},
     "output_type": "execute_result"
    }
   ],
   "source": [
    "print(submission_lasso.shape)\n",
    "submission_lasso.head()"
   ]
  },
  {
   "cell_type": "code",
   "execution_count": 40,
   "metadata": {},
   "outputs": [],
   "source": [
    "submission_lasso.to_csv(r'../datasets/submission_lasso.csv', index = False)"
   ]
  },
  {
   "cell_type": "code",
   "execution_count": 41,
   "metadata": {},
   "outputs": [],
   "source": [
    "## DONE!"
   ]
  }
 ],
 "metadata": {
  "kernelspec": {
   "display_name": "Python 3",
   "language": "python",
   "name": "python3"
  },
  "language_info": {
   "codemirror_mode": {
    "name": "ipython",
    "version": 3
   },
   "file_extension": ".py",
   "mimetype": "text/x-python",
   "name": "python",
   "nbconvert_exporter": "python",
   "pygments_lexer": "ipython3",
   "version": "3.7.4"
  }
 },
 "nbformat": 4,
 "nbformat_minor": 2
}
