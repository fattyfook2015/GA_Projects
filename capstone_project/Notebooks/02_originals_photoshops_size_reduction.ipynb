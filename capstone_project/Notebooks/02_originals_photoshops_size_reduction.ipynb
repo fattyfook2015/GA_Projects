{
 "cells": [
  {
   "cell_type": "code",
   "execution_count": 1,
   "metadata": {},
   "outputs": [],
   "source": [
    "## script to extract files from originals and photoshops_samples and then to divide into batches of 1000\n",
    "## with remainder into last batch\n",
    "## then move to a folder for each batch"
   ]
  },
  {
   "cell_type": "code",
   "execution_count": 2,
   "metadata": {},
   "outputs": [],
   "source": [
    "import os\n",
    "import shutil\n",
    "import numpy as np\n",
    "import pandas as pd\n",
    "\n",
    "from os import listdir\n",
    "from os.path import isfile, join"
   ]
  },
  {
   "cell_type": "markdown",
   "metadata": {},
   "source": [
    "## Reducing Image Sizes for Originals"
   ]
  },
  {
   "cell_type": "code",
   "execution_count": 3,
   "metadata": {},
   "outputs": [],
   "source": [
    "#!pip install Pillow\n",
    "from PIL import Image\n"
   ]
  },
  {
   "cell_type": "code",
   "execution_count": 4,
   "metadata": {},
   "outputs": [
    {
     "name": "stdout",
     "output_type": "stream",
     "text": [
      "Directory  ../Capstone_Photos/originals_reduced/  Created \n"
     ]
    }
   ],
   "source": [
    "# defining source directory\n",
    "src_dir = '../Capstone_Photos/originals_extracted/'\n",
    "\n",
    "\n",
    "# defining destination directory\n",
    "dest_dir = '../Capstone_Photos/originals_reduced/'\n",
    "\n",
    "# Create target folder if it does not exist\n",
    "dir_name = dest_dir\n",
    "\n",
    "try:\n",
    "    os.mkdir(dir_name)\n",
    "    print(\"Directory \" , dir_name ,  \" Created \") \n",
    "except FileExistsError:\n",
    "    print(\"Directory \" , dir_name ,  \" already exists\")"
   ]
  },
  {
   "cell_type": "code",
   "execution_count": 5,
   "metadata": {},
   "outputs": [],
   "source": [
    "# creating list of all files\n",
    "all_files = [f for f in listdir(src_dir) if isfile(join(src_dir, f))]\n"
   ]
  },
  {
   "cell_type": "code",
   "execution_count": 6,
   "metadata": {},
   "outputs": [
    {
     "data": {
      "text/plain": [
       "1200"
      ]
     },
     "execution_count": 6,
     "metadata": {},
     "output_type": "execute_result"
    }
   ],
   "source": [
    "# no. of total files\n",
    "len(all_files)"
   ]
  },
  {
   "cell_type": "code",
   "execution_count": 7,
   "metadata": {},
   "outputs": [],
   "source": [
    "# For loop to resize original images in proportion by red_ht (reduced_height)\n",
    "# here, 256 by 256 is chosen\n",
    "\n",
    "red_ht = 256\n",
    "red_wd = 256\n",
    "\n",
    "for file_index in range(len(all_files)):\n",
    "    \n",
    "    try:\n",
    "         \n",
    "        image = Image.open(src_dir + all_files[file_index])\n",
    "\n",
    "        image.thumbnail((red_ht, red_wd))\n",
    "        image.save(dest_dir + 'red_' + all_files[file_index])\n",
    "    \n",
    "\n",
    "    except:\n",
    "        pass\n",
    "    \n",
    "    \n",
    "   "
   ]
  },
  {
   "cell_type": "markdown",
   "metadata": {},
   "source": [
    "## Reducing Image Sizes for Photoshops"
   ]
  },
  {
   "cell_type": "code",
   "execution_count": 8,
   "metadata": {},
   "outputs": [
    {
     "name": "stdout",
     "output_type": "stream",
     "text": [
      "Directory  ../Capstone_Photos/photoshops_reduced/  Created \n"
     ]
    }
   ],
   "source": [
    "# defining source directory\n",
    "src_dir = '../Capstone_Photos/photoshops_extracted/'\n",
    "\n",
    "# defining destination directory\n",
    "dest_dir = '../Capstone_Photos/photoshops_reduced/'\n",
    "\n",
    "# Create target folder if it does not exist\n",
    "dir_name = dest_dir\n",
    "\n",
    "try:\n",
    "    os.mkdir(dir_name)\n",
    "    print(\"Directory \" , dir_name ,  \" Created \") \n",
    "except FileExistsError:\n",
    "    print(\"Directory \" , dir_name ,  \" already exists\")"
   ]
  },
  {
   "cell_type": "code",
   "execution_count": 9,
   "metadata": {},
   "outputs": [],
   "source": [
    "# creating list of all files\n",
    "all_files = [f for f in listdir(src_dir) if isfile(join(src_dir, f))]\n"
   ]
  },
  {
   "cell_type": "code",
   "execution_count": 10,
   "metadata": {},
   "outputs": [
    {
     "data": {
      "text/plain": [
       "2904"
      ]
     },
     "execution_count": 10,
     "metadata": {},
     "output_type": "execute_result"
    }
   ],
   "source": [
    "# no. of total files\n",
    "len(all_files)"
   ]
  },
  {
   "cell_type": "code",
   "execution_count": 11,
   "metadata": {},
   "outputs": [],
   "source": [
    "# For loop to resize photoshopped images in proportion by red_ht (reduced_height)\n",
    "\n",
    "for file_index in range(len(all_files)):\n",
    "    \n",
    "    try:\n",
    "         \n",
    "        image = Image.open(src_dir + all_files[file_index])\n",
    "      \n",
    "\n",
    "        image.thumbnail((red_ht, red_wd))\n",
    "        image.save(dest_dir + 'red_' + all_files[file_index])\n",
    "    \n",
    "\n",
    "    except:\n",
    "        pass\n",
    "    "
   ]
  }
 ],
 "metadata": {
  "kernelspec": {
   "display_name": "Python 3",
   "language": "python",
   "name": "python3"
  },
  "language_info": {
   "codemirror_mode": {
    "name": "ipython",
    "version": 3
   },
   "file_extension": ".py",
   "mimetype": "text/x-python",
   "name": "python",
   "nbconvert_exporter": "python",
   "pygments_lexer": "ipython3",
   "version": "3.6.5"
  }
 },
 "nbformat": 4,
 "nbformat_minor": 2
}
