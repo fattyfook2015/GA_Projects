{
 "cells": [
  {
   "cell_type": "code",
   "execution_count": 1,
   "metadata": {},
   "outputs": [],
   "source": [
    "## script to extract files from all subfolders and then to randomly pick 11000 photos\n",
    "## then move to another folder"
   ]
  },
  {
   "cell_type": "code",
   "execution_count": 2,
   "metadata": {},
   "outputs": [],
   "source": [
    "import shutil\n",
    "import fnmatch\n",
    "import numpy as np\n",
    "import os\n",
    "\n",
    "from os import listdir\n",
    "from os.path import isfile, join\n"
   ]
  },
  {
   "cell_type": "code",
   "execution_count": 3,
   "metadata": {},
   "outputs": [],
   "source": [
    "\n",
    "# select no_of_original_images to bootstrap\n",
    "no_of_original_images_to_bootstrap = 200\n",
    "\n",
    "# select no of copies per selected images\n",
    "no_of_bootstrap_copies_per = 6\n",
    "\n",
    "src_dir = '../Capstone_Photos/originals' # source location\n",
    "\n",
    "\n",
    "\n",
    "# list all files in dir\n",
    "files = [f for f in listdir(src_dir) if isfile(join(src_dir, f))]\n",
    "\n",
    "# selected files\n",
    "selected_files = files[0:no_of_original_images_to_bootstrap]\n"
   ]
  },
  {
   "cell_type": "code",
   "execution_count": 4,
   "metadata": {},
   "outputs": [
    {
     "data": {
      "text/plain": [
       "11122"
      ]
     },
     "execution_count": 4,
     "metadata": {},
     "output_type": "execute_result"
    }
   ],
   "source": [
    "len(files)"
   ]
  },
  {
   "cell_type": "code",
   "execution_count": 5,
   "metadata": {},
   "outputs": [
    {
     "data": {
      "text/plain": [
       "200"
      ]
     },
     "execution_count": 5,
     "metadata": {},
     "output_type": "execute_result"
    }
   ],
   "source": [
    "len(selected_files)"
   ]
  },
  {
   "cell_type": "code",
   "execution_count": 6,
   "metadata": {},
   "outputs": [
    {
     "name": "stdout",
     "output_type": "stream",
     "text": [
      "Directory  ../Capstone_Photos/originals_extracted  Created \n"
     ]
    }
   ],
   "source": [
    "# copying files to another folder\n",
    "\n",
    "output_folder = '../Capstone_Photos/originals_extracted'\n",
    "\n",
    "# Create target folder if it does not exist\n",
    "dst_dir = output_folder\n",
    "\n",
    "try:\n",
    "    os.mkdir(dst_dir)\n",
    "    print(\"Directory \" , dst_dir ,  \" Created \") \n",
    "except FileExistsError:\n",
    "    print(\"Directory \" , dst_dir ,  \" already exists\")\n",
    "\n",
    "\n",
    "for x in range(no_of_original_images_to_bootstrap):\n",
    "    for y in range (no_of_bootstrap_copies_per):\n",
    "        shutil.copy(os.path.join(src_dir, selected_files[x]), output_folder, follow_symlinks=True)\n",
    "\n",
    "        dst_file = os.path.join(dst_dir, selected_files[x])\n",
    "        new_file_name = 'a'+ str(y) + selected_files[x]\n",
    "        new_dst_file_name = os.path.join(dst_dir, new_file_name)\n",
    "        os.rename(dst_file, new_dst_file_name)\n",
    "\n"
   ]
  },
  {
   "cell_type": "code",
   "execution_count": 7,
   "metadata": {},
   "outputs": [],
   "source": [
    "# script to extract files from selected photoshops subfolders and then move to another folder"
   ]
  },
  {
   "cell_type": "code",
   "execution_count": 8,
   "metadata": {},
   "outputs": [
    {
     "data": {
      "text/plain": [
       "['26dj31.jpg', '5n6uux.jpg', '56bsxe.jpg', '385c16.jpg', '3qyr5x.jpg']"
      ]
     },
     "execution_count": 8,
     "metadata": {},
     "output_type": "execute_result"
    }
   ],
   "source": [
    "selected_files[0:5]"
   ]
  },
  {
   "cell_type": "code",
   "execution_count": 9,
   "metadata": {},
   "outputs": [
    {
     "data": {
      "text/plain": [
       "'26dj31.jpg'"
      ]
     },
     "execution_count": 9,
     "metadata": {},
     "output_type": "execute_result"
    }
   ],
   "source": [
    "selected_files[0]"
   ]
  },
  {
   "cell_type": "code",
   "execution_count": 10,
   "metadata": {},
   "outputs": [
    {
     "data": {
      "text/plain": [
       "'26dj31'"
      ]
     },
     "execution_count": 10,
     "metadata": {},
     "output_type": "execute_result"
    }
   ],
   "source": [
    "# sample removal of file extension\n",
    "selected_files[0][:-4]"
   ]
  },
  {
   "cell_type": "code",
   "execution_count": 11,
   "metadata": {},
   "outputs": [],
   "source": [
    "# removing file_extensions for list of folders\n",
    "selected_folders = [selected_files[x][:-4] for x in range(len(selected_files))]"
   ]
  },
  {
   "cell_type": "code",
   "execution_count": 12,
   "metadata": {},
   "outputs": [
    {
     "data": {
      "text/plain": [
       "['26dj31', '5n6uux', '56bsxe', '385c16', '3qyr5x']"
      ]
     },
     "execution_count": 12,
     "metadata": {},
     "output_type": "execute_result"
    }
   ],
   "source": [
    "selected_folders[0:5]"
   ]
  },
  {
   "cell_type": "code",
   "execution_count": 13,
   "metadata": {},
   "outputs": [
    {
     "name": "stdout",
     "output_type": "stream",
     "text": [
      "Directory  ../Capstone_Photos/photoshops_extracted  Created \n"
     ]
    }
   ],
   "source": [
    "# copying selected folders to another folder\n",
    "\n",
    "from distutils.dir_util import copy_tree\n",
    "\n",
    "\n",
    "\n",
    "# Create target folder if it does not exist\n",
    "dir_name = '../Capstone_Photos/photoshops_extracted'\n",
    "\n",
    "try:\n",
    "    os.mkdir(dir_name)\n",
    "    print(\"Directory \" , dir_name ,  \" Created \") \n",
    "except FileExistsError:\n",
    "    print(\"Directory \" , dir_name ,  \" already exists\")\n",
    "\n"
   ]
  },
  {
   "cell_type": "code",
   "execution_count": 14,
   "metadata": {},
   "outputs": [],
   "source": [
    "src = '../Capstone_Photos/photoshops/'\n",
    "dst = '../Capstone_Photos/photoshops_extracted'\n",
    "\n",
    "for i in range(len(selected_folders)):\n",
    "    copy_tree(src + selected_folders[i], dst)"
   ]
  }
 ],
 "metadata": {
  "kernelspec": {
   "display_name": "Python 3",
   "language": "python",
   "name": "python3"
  },
  "language_info": {
   "codemirror_mode": {
    "name": "ipython",
    "version": 3
   },
   "file_extension": ".py",
   "mimetype": "text/x-python",
   "name": "python",
   "nbconvert_exporter": "python",
   "pygments_lexer": "ipython3",
   "version": "3.6.5"
  }
 },
 "nbformat": 4,
 "nbformat_minor": 2
}
