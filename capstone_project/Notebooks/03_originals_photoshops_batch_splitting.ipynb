{
 "cells": [
  {
   "cell_type": "code",
   "execution_count": 1,
   "metadata": {},
   "outputs": [],
   "source": [
    "## script to extract files from originals and photoshops_samples and then to divide into batches as desired\n",
    "## with remainder into last batch\n",
    "## then move to a folder for each batch"
   ]
  },
  {
   "cell_type": "code",
   "execution_count": 2,
   "metadata": {},
   "outputs": [],
   "source": [
    "import os\n",
    "import shutil\n",
    "import numpy as np\n",
    "import pandas as pd\n",
    "\n",
    "from os import listdir\n",
    "from os.path import isfile, join"
   ]
  },
  {
   "cell_type": "markdown",
   "metadata": {},
   "source": [
    "## Batching the Originals"
   ]
  },
  {
   "cell_type": "code",
   "execution_count": 3,
   "metadata": {},
   "outputs": [],
   "source": [
    "# defining source directory\n",
    "src_dir = '../Capstone_Photos/originals_reduced/'\n"
   ]
  },
  {
   "cell_type": "code",
   "execution_count": 4,
   "metadata": {},
   "outputs": [],
   "source": [
    "# creating list of all files\n",
    "all_files = [f for f in listdir(src_dir) if isfile(join(src_dir, f))]"
   ]
  },
  {
   "cell_type": "code",
   "execution_count": 5,
   "metadata": {},
   "outputs": [
    {
     "data": {
      "text/plain": [
       "1194"
      ]
     },
     "execution_count": 5,
     "metadata": {},
     "output_type": "execute_result"
    }
   ],
   "source": [
    "# no. of total files\n",
    "len(all_files)"
   ]
  },
  {
   "cell_type": "code",
   "execution_count": 6,
   "metadata": {},
   "outputs": [],
   "source": [
    "# desired size of each batch\n",
    "batch_size = 2500"
   ]
  },
  {
   "cell_type": "code",
   "execution_count": 7,
   "metadata": {},
   "outputs": [
    {
     "data": {
      "text/plain": [
       "0"
      ]
     },
     "execution_count": 7,
     "metadata": {},
     "output_type": "execute_result"
    }
   ],
   "source": [
    "# no. of batches needed, with remainder in last batch\n",
    "len(all_files) // batch_size"
   ]
  },
  {
   "cell_type": "code",
   "execution_count": 8,
   "metadata": {},
   "outputs": [
    {
     "data": {
      "text/plain": [
       "1194"
      ]
     },
     "execution_count": 8,
     "metadata": {},
     "output_type": "execute_result"
    }
   ],
   "source": [
    "# remainder files in final batch\n",
    "len(all_files) % batch_size"
   ]
  },
  {
   "cell_type": "code",
   "execution_count": 9,
   "metadata": {},
   "outputs": [],
   "source": [
    "# creating batch_df\n",
    "batch_df = pd.DataFrame(columns=['batch_list', 'filenames_as_list'])"
   ]
  },
  {
   "cell_type": "code",
   "execution_count": 10,
   "metadata": {},
   "outputs": [],
   "source": [
    "batch_df['batch_list'] = ['ori_batch_' + str(x+1) for x in range((len(all_files) // batch_size)+1)]"
   ]
  },
  {
   "cell_type": "code",
   "execution_count": 11,
   "metadata": {},
   "outputs": [
    {
     "data": {
      "text/html": [
       "<div>\n",
       "<style scoped>\n",
       "    .dataframe tbody tr th:only-of-type {\n",
       "        vertical-align: middle;\n",
       "    }\n",
       "\n",
       "    .dataframe tbody tr th {\n",
       "        vertical-align: top;\n",
       "    }\n",
       "\n",
       "    .dataframe thead th {\n",
       "        text-align: right;\n",
       "    }\n",
       "</style>\n",
       "<table border=\"1\" class=\"dataframe\">\n",
       "  <thead>\n",
       "    <tr style=\"text-align: right;\">\n",
       "      <th></th>\n",
       "      <th>batch_list</th>\n",
       "      <th>filenames_as_list</th>\n",
       "    </tr>\n",
       "  </thead>\n",
       "  <tbody>\n",
       "    <tr>\n",
       "      <th>0</th>\n",
       "      <td>ori_batch_1</td>\n",
       "      <td>NaN</td>\n",
       "    </tr>\n",
       "  </tbody>\n",
       "</table>\n",
       "</div>"
      ],
      "text/plain": [
       "    batch_list filenames_as_list\n",
       "0  ori_batch_1               NaN"
      ]
     },
     "execution_count": 11,
     "metadata": {},
     "output_type": "execute_result"
    }
   ],
   "source": [
    "batch_df.tail()"
   ]
  },
  {
   "cell_type": "code",
   "execution_count": 12,
   "metadata": {},
   "outputs": [],
   "source": [
    "# for loop for adding filenames to each batch\n",
    "\n",
    "index_start = 0\n",
    "index_end = batch_size\n",
    "\n",
    "for x in range(len(batch_df['batch_list'])):\n",
    "    \n",
    "    batch_df['filenames_as_list'][x] = all_files [index_start:index_end]\n",
    "    index_start += batch_size\n",
    "    index_end += batch_size\n",
    "    \n",
    "\n"
   ]
  },
  {
   "cell_type": "code",
   "execution_count": 13,
   "metadata": {},
   "outputs": [
    {
     "data": {
      "text/html": [
       "<div>\n",
       "<style scoped>\n",
       "    .dataframe tbody tr th:only-of-type {\n",
       "        vertical-align: middle;\n",
       "    }\n",
       "\n",
       "    .dataframe tbody tr th {\n",
       "        vertical-align: top;\n",
       "    }\n",
       "\n",
       "    .dataframe thead th {\n",
       "        text-align: right;\n",
       "    }\n",
       "</style>\n",
       "<table border=\"1\" class=\"dataframe\">\n",
       "  <thead>\n",
       "    <tr style=\"text-align: right;\">\n",
       "      <th></th>\n",
       "      <th>batch_list</th>\n",
       "      <th>filenames_as_list</th>\n",
       "    </tr>\n",
       "  </thead>\n",
       "  <tbody>\n",
       "    <tr>\n",
       "      <th>0</th>\n",
       "      <td>ori_batch_1</td>\n",
       "      <td>[red_a433i739.jpg, red_a41qtech.jpg, red_a2rg4...</td>\n",
       "    </tr>\n",
       "  </tbody>\n",
       "</table>\n",
       "</div>"
      ],
      "text/plain": [
       "    batch_list                                  filenames_as_list\n",
       "0  ori_batch_1  [red_a433i739.jpg, red_a41qtech.jpg, red_a2rg4..."
      ]
     },
     "execution_count": 13,
     "metadata": {},
     "output_type": "execute_result"
    }
   ],
   "source": [
    "batch_df"
   ]
  },
  {
   "cell_type": "code",
   "execution_count": 14,
   "metadata": {},
   "outputs": [],
   "source": [
    "batch_df['number_of_files'] = [len(batch_df['filenames_as_list'][x]) for x in batch_df.index]"
   ]
  },
  {
   "cell_type": "code",
   "execution_count": 15,
   "metadata": {},
   "outputs": [
    {
     "data": {
      "text/html": [
       "<div>\n",
       "<style scoped>\n",
       "    .dataframe tbody tr th:only-of-type {\n",
       "        vertical-align: middle;\n",
       "    }\n",
       "\n",
       "    .dataframe tbody tr th {\n",
       "        vertical-align: top;\n",
       "    }\n",
       "\n",
       "    .dataframe thead th {\n",
       "        text-align: right;\n",
       "    }\n",
       "</style>\n",
       "<table border=\"1\" class=\"dataframe\">\n",
       "  <thead>\n",
       "    <tr style=\"text-align: right;\">\n",
       "      <th></th>\n",
       "      <th>batch_list</th>\n",
       "      <th>filenames_as_list</th>\n",
       "      <th>number_of_files</th>\n",
       "    </tr>\n",
       "  </thead>\n",
       "  <tbody>\n",
       "    <tr>\n",
       "      <th>0</th>\n",
       "      <td>ori_batch_1</td>\n",
       "      <td>[red_a433i739.jpg, red_a41qtech.jpg, red_a2rg4...</td>\n",
       "      <td>1194</td>\n",
       "    </tr>\n",
       "  </tbody>\n",
       "</table>\n",
       "</div>"
      ],
      "text/plain": [
       "    batch_list                                  filenames_as_list  \\\n",
       "0  ori_batch_1  [red_a433i739.jpg, red_a41qtech.jpg, red_a2rg4...   \n",
       "\n",
       "   number_of_files  \n",
       "0             1194  "
      ]
     },
     "execution_count": 15,
     "metadata": {},
     "output_type": "execute_result"
    }
   ],
   "source": [
    "batch_df.tail()"
   ]
  },
  {
   "cell_type": "code",
   "execution_count": 16,
   "metadata": {},
   "outputs": [
    {
     "name": "stdout",
     "output_type": "stream",
     "text": [
      "Directory  ../Capstone_Photos/originals_batched  Created \n",
      "Directory  ../Capstone_Photos/originals_batched//ori_batch_1  Created \n"
     ]
    }
   ],
   "source": [
    "# copying files to another folder\n",
    "\n",
    "# Create target folder if it does not exist\n",
    "parent_dir = '../Capstone_Photos/originals_batched' \n",
    "\n",
    "try:\n",
    "    os.mkdir(parent_dir)\n",
    "    print(\"Directory \" , parent_dir ,  \" Created \") \n",
    "except FileExistsError:\n",
    "    print(\"Directory \" , parent_dir ,  \" already exists\")\n",
    "\n",
    "\n",
    "\n",
    "\n",
    "for x in batch_df.index:\n",
    "    \n",
    "    \n",
    "    dir_name = '../Capstone_Photos/originals_batched//' + batch_df['batch_list'][x]\n",
    "    \n",
    "    \n",
    "    \n",
    "    \n",
    "    # Create target folder if it does not exist\n",
    "    try:\n",
    "        os.mkdir(dir_name)\n",
    "        print(\"Directory \" , dir_name ,  \" Created \") \n",
    "    except FileExistsError:\n",
    "        print(\"Directory \" , dir_name ,  \" already exists\")\n",
    "\n",
    "    output_folder = dir_name\n",
    "\n",
    "    for y in range(batch_df['number_of_files'][x]):\n",
    "        shutil.copy(os.path.join(src_dir, batch_df['filenames_as_list'][x][y]), output_folder, follow_symlinks=True)\n"
   ]
  },
  {
   "cell_type": "markdown",
   "metadata": {},
   "source": [
    "## Batching the Photoshops_Samples"
   ]
  },
  {
   "cell_type": "code",
   "execution_count": 17,
   "metadata": {},
   "outputs": [],
   "source": [
    "# defining source directory\n",
    "src_dir = '../Capstone_Photos/photoshops_reduced'\n"
   ]
  },
  {
   "cell_type": "code",
   "execution_count": 18,
   "metadata": {},
   "outputs": [],
   "source": [
    "# creating list of all files\n",
    "all_files = [f for f in listdir(src_dir) if isfile(join(src_dir, f))]\n"
   ]
  },
  {
   "cell_type": "code",
   "execution_count": 19,
   "metadata": {},
   "outputs": [
    {
     "data": {
      "text/plain": [
       "1452"
      ]
     },
     "execution_count": 19,
     "metadata": {},
     "output_type": "execute_result"
    }
   ],
   "source": [
    "# no. of total files\n",
    "len(all_files)"
   ]
  },
  {
   "cell_type": "code",
   "execution_count": 20,
   "metadata": {},
   "outputs": [
    {
     "data": {
      "text/plain": [
       "0"
      ]
     },
     "execution_count": 20,
     "metadata": {},
     "output_type": "execute_result"
    }
   ],
   "source": [
    "# no. of batches needed, with remainder in last batch\n",
    "len(all_files) // batch_size"
   ]
  },
  {
   "cell_type": "code",
   "execution_count": 21,
   "metadata": {},
   "outputs": [
    {
     "data": {
      "text/plain": [
       "1452"
      ]
     },
     "execution_count": 21,
     "metadata": {},
     "output_type": "execute_result"
    }
   ],
   "source": [
    "# remainder files in final batch\n",
    "len(all_files) % batch_size"
   ]
  },
  {
   "cell_type": "code",
   "execution_count": 22,
   "metadata": {},
   "outputs": [],
   "source": [
    "# cleaning previously used batch_df\n",
    "batch_df = pd.DataFrame(columns=batch_df.columns)\n"
   ]
  },
  {
   "cell_type": "code",
   "execution_count": 23,
   "metadata": {},
   "outputs": [],
   "source": [
    "batch_df['batch_list'] = ['ps_batch_' + str(x+1) for x in range((len(all_files) // batch_size)+1)]"
   ]
  },
  {
   "cell_type": "code",
   "execution_count": 24,
   "metadata": {},
   "outputs": [
    {
     "data": {
      "text/html": [
       "<div>\n",
       "<style scoped>\n",
       "    .dataframe tbody tr th:only-of-type {\n",
       "        vertical-align: middle;\n",
       "    }\n",
       "\n",
       "    .dataframe tbody tr th {\n",
       "        vertical-align: top;\n",
       "    }\n",
       "\n",
       "    .dataframe thead th {\n",
       "        text-align: right;\n",
       "    }\n",
       "</style>\n",
       "<table border=\"1\" class=\"dataframe\">\n",
       "  <thead>\n",
       "    <tr style=\"text-align: right;\">\n",
       "      <th></th>\n",
       "      <th>batch_list</th>\n",
       "      <th>filenames_as_list</th>\n",
       "      <th>number_of_files</th>\n",
       "    </tr>\n",
       "  </thead>\n",
       "  <tbody>\n",
       "    <tr>\n",
       "      <th>0</th>\n",
       "      <td>ps_batch_1</td>\n",
       "      <td>NaN</td>\n",
       "      <td>NaN</td>\n",
       "    </tr>\n",
       "  </tbody>\n",
       "</table>\n",
       "</div>"
      ],
      "text/plain": [
       "   batch_list filenames_as_list number_of_files\n",
       "0  ps_batch_1               NaN             NaN"
      ]
     },
     "execution_count": 24,
     "metadata": {},
     "output_type": "execute_result"
    }
   ],
   "source": [
    "batch_df.tail()"
   ]
  },
  {
   "cell_type": "code",
   "execution_count": 25,
   "metadata": {},
   "outputs": [],
   "source": [
    "# for loop for adding filenames to each batch\n",
    "\n",
    "index_start = 0\n",
    "index_end = batch_size\n",
    "\n",
    "for x in range(len(batch_df['batch_list'])):\n",
    "    \n",
    "    batch_df['filenames_as_list'][x] = all_files [index_start:index_end]\n",
    "    index_start += batch_size\n",
    "    index_end += batch_size"
   ]
  },
  {
   "cell_type": "code",
   "execution_count": 26,
   "metadata": {},
   "outputs": [
    {
     "data": {
      "text/html": [
       "<div>\n",
       "<style scoped>\n",
       "    .dataframe tbody tr th:only-of-type {\n",
       "        vertical-align: middle;\n",
       "    }\n",
       "\n",
       "    .dataframe tbody tr th {\n",
       "        vertical-align: top;\n",
       "    }\n",
       "\n",
       "    .dataframe thead th {\n",
       "        text-align: right;\n",
       "    }\n",
       "</style>\n",
       "<table border=\"1\" class=\"dataframe\">\n",
       "  <thead>\n",
       "    <tr style=\"text-align: right;\">\n",
       "      <th></th>\n",
       "      <th>batch_list</th>\n",
       "      <th>filenames_as_list</th>\n",
       "      <th>number_of_files</th>\n",
       "    </tr>\n",
       "  </thead>\n",
       "  <tbody>\n",
       "    <tr>\n",
       "      <th>0</th>\n",
       "      <td>ps_batch_1</td>\n",
       "      <td>[red_dq4wpht_0.jpg, red_cmdluiq_0.jpg, red_cy0...</td>\n",
       "      <td>NaN</td>\n",
       "    </tr>\n",
       "  </tbody>\n",
       "</table>\n",
       "</div>"
      ],
      "text/plain": [
       "   batch_list                                  filenames_as_list  \\\n",
       "0  ps_batch_1  [red_dq4wpht_0.jpg, red_cmdluiq_0.jpg, red_cy0...   \n",
       "\n",
       "  number_of_files  \n",
       "0             NaN  "
      ]
     },
     "execution_count": 26,
     "metadata": {},
     "output_type": "execute_result"
    }
   ],
   "source": [
    "batch_df"
   ]
  },
  {
   "cell_type": "code",
   "execution_count": 27,
   "metadata": {},
   "outputs": [],
   "source": [
    "batch_df['number_of_files'] = [len(batch_df['filenames_as_list'][x]) for x in batch_df.index]"
   ]
  },
  {
   "cell_type": "code",
   "execution_count": 28,
   "metadata": {},
   "outputs": [
    {
     "data": {
      "text/html": [
       "<div>\n",
       "<style scoped>\n",
       "    .dataframe tbody tr th:only-of-type {\n",
       "        vertical-align: middle;\n",
       "    }\n",
       "\n",
       "    .dataframe tbody tr th {\n",
       "        vertical-align: top;\n",
       "    }\n",
       "\n",
       "    .dataframe thead th {\n",
       "        text-align: right;\n",
       "    }\n",
       "</style>\n",
       "<table border=\"1\" class=\"dataframe\">\n",
       "  <thead>\n",
       "    <tr style=\"text-align: right;\">\n",
       "      <th></th>\n",
       "      <th>batch_list</th>\n",
       "      <th>filenames_as_list</th>\n",
       "      <th>number_of_files</th>\n",
       "    </tr>\n",
       "  </thead>\n",
       "  <tbody>\n",
       "    <tr>\n",
       "      <th>0</th>\n",
       "      <td>ps_batch_1</td>\n",
       "      <td>[red_dq4wpht_0.jpg, red_cmdluiq_0.jpg, red_cy0...</td>\n",
       "      <td>1452</td>\n",
       "    </tr>\n",
       "  </tbody>\n",
       "</table>\n",
       "</div>"
      ],
      "text/plain": [
       "   batch_list                                  filenames_as_list  \\\n",
       "0  ps_batch_1  [red_dq4wpht_0.jpg, red_cmdluiq_0.jpg, red_cy0...   \n",
       "\n",
       "   number_of_files  \n",
       "0             1452  "
      ]
     },
     "execution_count": 28,
     "metadata": {},
     "output_type": "execute_result"
    }
   ],
   "source": [
    "batch_df.tail()"
   ]
  },
  {
   "cell_type": "code",
   "execution_count": 29,
   "metadata": {},
   "outputs": [
    {
     "name": "stdout",
     "output_type": "stream",
     "text": [
      "Directory  ../Capstone_Photos/photoshops_batched  Created \n",
      "Directory  ../Capstone_Photos/photoshops_batched//ps_batch_1  Created \n"
     ]
    }
   ],
   "source": [
    "# copying files to another folder\n",
    "\n",
    "# Create target folder if it does not exist\n",
    "parent_dir = '../Capstone_Photos/photoshops_batched' \n",
    "\n",
    "try:\n",
    "    os.mkdir(parent_dir)\n",
    "    print(\"Directory \" , parent_dir ,  \" Created \") \n",
    "except FileExistsError:\n",
    "    print(\"Directory \" , parent_dir ,  \" already exists\")\n",
    "\n",
    "\n",
    "\n",
    "for x in batch_df.index:\n",
    "\n",
    "    dir_name = '../Capstone_Photos/photoshops_batched//' + batch_df['batch_list'][x]\n",
    "    \n",
    "    # Create target folder if it does not exist\n",
    "    try:\n",
    "        os.mkdir(dir_name)\n",
    "        print(\"Directory \" , dir_name ,  \" Created \") \n",
    "    except FileExistsError:\n",
    "        print(\"Directory \" , dir_name ,  \" already exists\")\n",
    "\n",
    "    output_folder = dir_name\n",
    "\n",
    "    for y in range(batch_df['number_of_files'][x]):\n",
    "        shutil.copy(os.path.join(src_dir, batch_df['filenames_as_list'][x][y]), output_folder, follow_symlinks=True)\n"
   ]
  }
 ],
 "metadata": {
  "kernelspec": {
   "display_name": "Python 3",
   "language": "python",
   "name": "python3"
  },
  "language_info": {
   "codemirror_mode": {
    "name": "ipython",
    "version": 3
   },
   "file_extension": ".py",
   "mimetype": "text/x-python",
   "name": "python",
   "nbconvert_exporter": "python",
   "pygments_lexer": "ipython3",
   "version": "3.7.4"
  }
 },
 "nbformat": 4,
 "nbformat_minor": 2
}
