{
 "cells": [
  {
   "cell_type": "code",
   "execution_count": 1,
   "metadata": {},
   "outputs": [],
   "source": [
    "# Standard data science imports:\n",
    "import pandas as pd\n",
    "import numpy as np\n",
    "import matplotlib.pyplot as plt\n",
    "%matplotlib inline"
   ]
  },
  {
   "cell_type": "code",
   "execution_count": 2,
   "metadata": {},
   "outputs": [],
   "source": [
    "# read in Tales From The Front Desk\n",
    "\n",
    "data_frontdesk=pd.read_csv('../datasets/talesfromthefrontdesk.csv')\n"
   ]
  },
  {
   "cell_type": "code",
   "execution_count": 3,
   "metadata": {},
   "outputs": [
    {
     "name": "stdout",
     "output_type": "stream",
     "text": [
      "(1111, 105)\n"
     ]
    },
    {
     "data": {
      "text/html": [
       "<div>\n",
       "<style scoped>\n",
       "    .dataframe tbody tr th:only-of-type {\n",
       "        vertical-align: middle;\n",
       "    }\n",
       "\n",
       "    .dataframe tbody tr th {\n",
       "        vertical-align: top;\n",
       "    }\n",
       "\n",
       "    .dataframe thead th {\n",
       "        text-align: right;\n",
       "    }\n",
       "</style>\n",
       "<table border=\"1\" class=\"dataframe\">\n",
       "  <thead>\n",
       "    <tr style=\"text-align: right;\">\n",
       "      <th></th>\n",
       "      <th>approved_at_utc</th>\n",
       "      <th>subreddit</th>\n",
       "      <th>selftext</th>\n",
       "      <th>author_fullname</th>\n",
       "      <th>saved</th>\n",
       "      <th>mod_reason_title</th>\n",
       "      <th>gilded</th>\n",
       "      <th>clicked</th>\n",
       "      <th>title</th>\n",
       "      <th>link_flair_richtext</th>\n",
       "      <th>...</th>\n",
       "      <th>parent_whitelist_status</th>\n",
       "      <th>stickied</th>\n",
       "      <th>url</th>\n",
       "      <th>subreddit_subscribers</th>\n",
       "      <th>created_utc</th>\n",
       "      <th>num_crossposts</th>\n",
       "      <th>media</th>\n",
       "      <th>is_video</th>\n",
       "      <th>crosspost_parent_list</th>\n",
       "      <th>crosspost_parent</th>\n",
       "    </tr>\n",
       "  </thead>\n",
       "  <tbody>\n",
       "    <tr>\n",
       "      <th>0</th>\n",
       "      <td>NaN</td>\n",
       "      <td>TalesFromTheFrontDesk</td>\n",
       "      <td>Want to talk about something that isn't a fron...</td>\n",
       "      <td>t2_6l4z3</td>\n",
       "      <td>False</td>\n",
       "      <td>NaN</td>\n",
       "      <td>0</td>\n",
       "      <td>False</td>\n",
       "      <td>Free For All Thread</td>\n",
       "      <td>[]</td>\n",
       "      <td>...</td>\n",
       "      <td>all_ads</td>\n",
       "      <td>True</td>\n",
       "      <td>https://www.reddit.com/r/TalesFromTheFrontDesk...</td>\n",
       "      <td>279366</td>\n",
       "      <td>1.582928e+09</td>\n",
       "      <td>0</td>\n",
       "      <td>NaN</td>\n",
       "      <td>False</td>\n",
       "      <td>NaN</td>\n",
       "      <td>NaN</td>\n",
       "    </tr>\n",
       "    <tr>\n",
       "      <th>1</th>\n",
       "      <td>NaN</td>\n",
       "      <td>TalesFromTheFrontDesk</td>\n",
       "      <td>Want to talk about something that isn't a fron...</td>\n",
       "      <td>t2_6l4z3</td>\n",
       "      <td>False</td>\n",
       "      <td>NaN</td>\n",
       "      <td>0</td>\n",
       "      <td>False</td>\n",
       "      <td>Free For All Thread</td>\n",
       "      <td>[]</td>\n",
       "      <td>...</td>\n",
       "      <td>all_ads</td>\n",
       "      <td>True</td>\n",
       "      <td>https://www.reddit.com/r/TalesFromTheFrontDesk...</td>\n",
       "      <td>279366</td>\n",
       "      <td>1.583532e+09</td>\n",
       "      <td>0</td>\n",
       "      <td>NaN</td>\n",
       "      <td>False</td>\n",
       "      <td>NaN</td>\n",
       "      <td>NaN</td>\n",
       "    </tr>\n",
       "    <tr>\n",
       "      <th>2</th>\n",
       "      <td>NaN</td>\n",
       "      <td>TalesFromTheFrontDesk</td>\n",
       "      <td>I made a post sometime last week about my conc...</td>\n",
       "      <td>t2_3vktid47</td>\n",
       "      <td>False</td>\n",
       "      <td>NaN</td>\n",
       "      <td>0</td>\n",
       "      <td>False</td>\n",
       "      <td>Questionable Employee is Back!</td>\n",
       "      <td>[{'e': 'text', 't': 'Medium'}]</td>\n",
       "      <td>...</td>\n",
       "      <td>all_ads</td>\n",
       "      <td>False</td>\n",
       "      <td>https://www.reddit.com/r/TalesFromTheFrontDesk...</td>\n",
       "      <td>279366</td>\n",
       "      <td>1.583549e+09</td>\n",
       "      <td>0</td>\n",
       "      <td>NaN</td>\n",
       "      <td>False</td>\n",
       "      <td>NaN</td>\n",
       "      <td>NaN</td>\n",
       "    </tr>\n",
       "    <tr>\n",
       "      <th>3</th>\n",
       "      <td>NaN</td>\n",
       "      <td>TalesFromTheFrontDesk</td>\n",
       "      <td>Ayyyeee , Ive never had a tale to tell before ...</td>\n",
       "      <td>t2_4gz3ju3s</td>\n",
       "      <td>False</td>\n",
       "      <td>NaN</td>\n",
       "      <td>1</td>\n",
       "      <td>False</td>\n",
       "      <td>Guests' friend throws beer in my face this mor...</td>\n",
       "      <td>[{'e': 'text', 't': 'Medium'}]</td>\n",
       "      <td>...</td>\n",
       "      <td>all_ads</td>\n",
       "      <td>False</td>\n",
       "      <td>https://www.reddit.com/r/TalesFromTheFrontDesk...</td>\n",
       "      <td>279366</td>\n",
       "      <td>1.583504e+09</td>\n",
       "      <td>0</td>\n",
       "      <td>NaN</td>\n",
       "      <td>False</td>\n",
       "      <td>NaN</td>\n",
       "      <td>NaN</td>\n",
       "    </tr>\n",
       "    <tr>\n",
       "      <th>4</th>\n",
       "      <td>NaN</td>\n",
       "      <td>TalesFromTheFrontDesk</td>\n",
       "      <td>This is an update to my last post concerning a...</td>\n",
       "      <td>t2_2lvu9o2f</td>\n",
       "      <td>False</td>\n",
       "      <td>NaN</td>\n",
       "      <td>0</td>\n",
       "      <td>False</td>\n",
       "      <td>No Exceptions Part II (Update)</td>\n",
       "      <td>[{'e': 'text', 't': 'Short'}]</td>\n",
       "      <td>...</td>\n",
       "      <td>all_ads</td>\n",
       "      <td>False</td>\n",
       "      <td>https://www.reddit.com/r/TalesFromTheFrontDesk...</td>\n",
       "      <td>279366</td>\n",
       "      <td>1.583560e+09</td>\n",
       "      <td>0</td>\n",
       "      <td>NaN</td>\n",
       "      <td>False</td>\n",
       "      <td>NaN</td>\n",
       "      <td>NaN</td>\n",
       "    </tr>\n",
       "  </tbody>\n",
       "</table>\n",
       "<p>5 rows × 105 columns</p>\n",
       "</div>"
      ],
      "text/plain": [
       "   approved_at_utc              subreddit  \\\n",
       "0              NaN  TalesFromTheFrontDesk   \n",
       "1              NaN  TalesFromTheFrontDesk   \n",
       "2              NaN  TalesFromTheFrontDesk   \n",
       "3              NaN  TalesFromTheFrontDesk   \n",
       "4              NaN  TalesFromTheFrontDesk   \n",
       "\n",
       "                                            selftext author_fullname  saved  \\\n",
       "0  Want to talk about something that isn't a fron...        t2_6l4z3  False   \n",
       "1  Want to talk about something that isn't a fron...        t2_6l4z3  False   \n",
       "2  I made a post sometime last week about my conc...     t2_3vktid47  False   \n",
       "3  Ayyyeee , Ive never had a tale to tell before ...     t2_4gz3ju3s  False   \n",
       "4  This is an update to my last post concerning a...     t2_2lvu9o2f  False   \n",
       "\n",
       "   mod_reason_title  gilded  clicked  \\\n",
       "0               NaN       0    False   \n",
       "1               NaN       0    False   \n",
       "2               NaN       0    False   \n",
       "3               NaN       1    False   \n",
       "4               NaN       0    False   \n",
       "\n",
       "                                               title  \\\n",
       "0                                Free For All Thread   \n",
       "1                                Free For All Thread   \n",
       "2                     Questionable Employee is Back!   \n",
       "3  Guests' friend throws beer in my face this mor...   \n",
       "4                     No Exceptions Part II (Update)   \n",
       "\n",
       "              link_flair_richtext  ... parent_whitelist_status  stickied  \\\n",
       "0                              []  ...                 all_ads      True   \n",
       "1                              []  ...                 all_ads      True   \n",
       "2  [{'e': 'text', 't': 'Medium'}]  ...                 all_ads     False   \n",
       "3  [{'e': 'text', 't': 'Medium'}]  ...                 all_ads     False   \n",
       "4   [{'e': 'text', 't': 'Short'}]  ...                 all_ads     False   \n",
       "\n",
       "                                                 url subreddit_subscribers  \\\n",
       "0  https://www.reddit.com/r/TalesFromTheFrontDesk...                279366   \n",
       "1  https://www.reddit.com/r/TalesFromTheFrontDesk...                279366   \n",
       "2  https://www.reddit.com/r/TalesFromTheFrontDesk...                279366   \n",
       "3  https://www.reddit.com/r/TalesFromTheFrontDesk...                279366   \n",
       "4  https://www.reddit.com/r/TalesFromTheFrontDesk...                279366   \n",
       "\n",
       "    created_utc  num_crossposts  media is_video  crosspost_parent_list  \\\n",
       "0  1.582928e+09               0    NaN    False                    NaN   \n",
       "1  1.583532e+09               0    NaN    False                    NaN   \n",
       "2  1.583549e+09               0    NaN    False                    NaN   \n",
       "3  1.583504e+09               0    NaN    False                    NaN   \n",
       "4  1.583560e+09               0    NaN    False                    NaN   \n",
       "\n",
       "  crosspost_parent  \n",
       "0              NaN  \n",
       "1              NaN  \n",
       "2              NaN  \n",
       "3              NaN  \n",
       "4              NaN  \n",
       "\n",
       "[5 rows x 105 columns]"
      ]
     },
     "execution_count": 3,
     "metadata": {},
     "output_type": "execute_result"
    }
   ],
   "source": [
    "print(data_frontdesk.shape)\n",
    "data_frontdesk.head()"
   ]
  },
  {
   "cell_type": "code",
   "execution_count": 4,
   "metadata": {},
   "outputs": [],
   "source": [
    "# read in Tales From Your Server\n",
    "\n",
    "data_yourserver=pd.read_csv('../datasets/talesfromyourserver.csv')"
   ]
  },
  {
   "cell_type": "code",
   "execution_count": 5,
   "metadata": {},
   "outputs": [
    {
     "name": "stdout",
     "output_type": "stream",
     "text": [
      "(1096, 106)\n"
     ]
    },
    {
     "data": {
      "text/html": [
       "<div>\n",
       "<style scoped>\n",
       "    .dataframe tbody tr th:only-of-type {\n",
       "        vertical-align: middle;\n",
       "    }\n",
       "\n",
       "    .dataframe tbody tr th {\n",
       "        vertical-align: top;\n",
       "    }\n",
       "\n",
       "    .dataframe thead th {\n",
       "        text-align: right;\n",
       "    }\n",
       "</style>\n",
       "<table border=\"1\" class=\"dataframe\">\n",
       "  <thead>\n",
       "    <tr style=\"text-align: right;\">\n",
       "      <th></th>\n",
       "      <th>approved_at_utc</th>\n",
       "      <th>subreddit</th>\n",
       "      <th>selftext</th>\n",
       "      <th>author_fullname</th>\n",
       "      <th>saved</th>\n",
       "      <th>mod_reason_title</th>\n",
       "      <th>gilded</th>\n",
       "      <th>clicked</th>\n",
       "      <th>title</th>\n",
       "      <th>link_flair_richtext</th>\n",
       "      <th>...</th>\n",
       "      <th>subreddit_subscribers</th>\n",
       "      <th>created_utc</th>\n",
       "      <th>num_crossposts</th>\n",
       "      <th>media</th>\n",
       "      <th>is_video</th>\n",
       "      <th>post_hint</th>\n",
       "      <th>preview</th>\n",
       "      <th>crosspost_parent_list</th>\n",
       "      <th>crosspost_parent</th>\n",
       "      <th>author_cakeday</th>\n",
       "    </tr>\n",
       "  </thead>\n",
       "  <tbody>\n",
       "    <tr>\n",
       "      <th>0</th>\n",
       "      <td>NaN</td>\n",
       "      <td>TalesFromYourServer</td>\n",
       "      <td>Whether you're a new server, busser, host, or ...</td>\n",
       "      <td>t2_8er8z</td>\n",
       "      <td>False</td>\n",
       "      <td>NaN</td>\n",
       "      <td>0</td>\n",
       "      <td>False</td>\n",
       "      <td>Dedicated thread for new server advice</td>\n",
       "      <td>[]</td>\n",
       "      <td>...</td>\n",
       "      <td>327901</td>\n",
       "      <td>1.573670e+09</td>\n",
       "      <td>0</td>\n",
       "      <td>NaN</td>\n",
       "      <td>False</td>\n",
       "      <td>NaN</td>\n",
       "      <td>NaN</td>\n",
       "      <td>NaN</td>\n",
       "      <td>NaN</td>\n",
       "      <td>NaN</td>\n",
       "    </tr>\n",
       "    <tr>\n",
       "      <th>1</th>\n",
       "      <td>NaN</td>\n",
       "      <td>TalesFromYourServer</td>\n",
       "      <td>Guy was a joiner of a 3 top.  We are a crazy b...</td>\n",
       "      <td>t2_3mi9b6r0</td>\n",
       "      <td>False</td>\n",
       "      <td>NaN</td>\n",
       "      <td>0</td>\n",
       "      <td>False</td>\n",
       "      <td>Guy with complicated drink has a melt down</td>\n",
       "      <td>[]</td>\n",
       "      <td>...</td>\n",
       "      <td>327901</td>\n",
       "      <td>1.583553e+09</td>\n",
       "      <td>0</td>\n",
       "      <td>NaN</td>\n",
       "      <td>False</td>\n",
       "      <td>NaN</td>\n",
       "      <td>NaN</td>\n",
       "      <td>NaN</td>\n",
       "      <td>NaN</td>\n",
       "      <td>NaN</td>\n",
       "    </tr>\n",
       "    <tr>\n",
       "      <th>2</th>\n",
       "      <td>NaN</td>\n",
       "      <td>TalesFromYourServer</td>\n",
       "      <td>We close at at 10. \\n\\nIt's 9:10pm and the bar...</td>\n",
       "      <td>t2_mo5am</td>\n",
       "      <td>False</td>\n",
       "      <td>NaN</td>\n",
       "      <td>0</td>\n",
       "      <td>False</td>\n",
       "      <td>'Real' Considerate Guests Arriving Within an H...</td>\n",
       "      <td>[]</td>\n",
       "      <td>...</td>\n",
       "      <td>327901</td>\n",
       "      <td>1.583467e+09</td>\n",
       "      <td>0</td>\n",
       "      <td>NaN</td>\n",
       "      <td>False</td>\n",
       "      <td>NaN</td>\n",
       "      <td>NaN</td>\n",
       "      <td>NaN</td>\n",
       "      <td>NaN</td>\n",
       "      <td>NaN</td>\n",
       "    </tr>\n",
       "    <tr>\n",
       "      <th>3</th>\n",
       "      <td>NaN</td>\n",
       "      <td>TalesFromYourServer</td>\n",
       "      <td>Foreign travelers are always a great source of...</td>\n",
       "      <td>t2_h5emv</td>\n",
       "      <td>False</td>\n",
       "      <td>NaN</td>\n",
       "      <td>0</td>\n",
       "      <td>False</td>\n",
       "      <td>Adventures in Foreign Tourists</td>\n",
       "      <td>[]</td>\n",
       "      <td>...</td>\n",
       "      <td>327901</td>\n",
       "      <td>1.583553e+09</td>\n",
       "      <td>0</td>\n",
       "      <td>NaN</td>\n",
       "      <td>False</td>\n",
       "      <td>NaN</td>\n",
       "      <td>NaN</td>\n",
       "      <td>NaN</td>\n",
       "      <td>NaN</td>\n",
       "      <td>NaN</td>\n",
       "    </tr>\n",
       "    <tr>\n",
       "      <th>4</th>\n",
       "      <td>NaN</td>\n",
       "      <td>TalesFromYourServer</td>\n",
       "      <td>Buffet server here in Vegas.\\n\\n\\nCoworker wal...</td>\n",
       "      <td>t2_caxux</td>\n",
       "      <td>False</td>\n",
       "      <td>NaN</td>\n",
       "      <td>0</td>\n",
       "      <td>False</td>\n",
       "      <td>I guess it was only a matter of time (coronavi...</td>\n",
       "      <td>[]</td>\n",
       "      <td>...</td>\n",
       "      <td>327901</td>\n",
       "      <td>1.583567e+09</td>\n",
       "      <td>0</td>\n",
       "      <td>NaN</td>\n",
       "      <td>False</td>\n",
       "      <td>NaN</td>\n",
       "      <td>NaN</td>\n",
       "      <td>NaN</td>\n",
       "      <td>NaN</td>\n",
       "      <td>NaN</td>\n",
       "    </tr>\n",
       "  </tbody>\n",
       "</table>\n",
       "<p>5 rows × 106 columns</p>\n",
       "</div>"
      ],
      "text/plain": [
       "   approved_at_utc            subreddit  \\\n",
       "0              NaN  TalesFromYourServer   \n",
       "1              NaN  TalesFromYourServer   \n",
       "2              NaN  TalesFromYourServer   \n",
       "3              NaN  TalesFromYourServer   \n",
       "4              NaN  TalesFromYourServer   \n",
       "\n",
       "                                            selftext author_fullname  saved  \\\n",
       "0  Whether you're a new server, busser, host, or ...        t2_8er8z  False   \n",
       "1  Guy was a joiner of a 3 top.  We are a crazy b...     t2_3mi9b6r0  False   \n",
       "2  We close at at 10. \\n\\nIt's 9:10pm and the bar...        t2_mo5am  False   \n",
       "3  Foreign travelers are always a great source of...        t2_h5emv  False   \n",
       "4  Buffet server here in Vegas.\\n\\n\\nCoworker wal...        t2_caxux  False   \n",
       "\n",
       "   mod_reason_title  gilded  clicked  \\\n",
       "0               NaN       0    False   \n",
       "1               NaN       0    False   \n",
       "2               NaN       0    False   \n",
       "3               NaN       0    False   \n",
       "4               NaN       0    False   \n",
       "\n",
       "                                               title link_flair_richtext  ...  \\\n",
       "0             Dedicated thread for new server advice                  []  ...   \n",
       "1         Guy with complicated drink has a melt down                  []  ...   \n",
       "2  'Real' Considerate Guests Arriving Within an H...                  []  ...   \n",
       "3                     Adventures in Foreign Tourists                  []  ...   \n",
       "4  I guess it was only a matter of time (coronavi...                  []  ...   \n",
       "\n",
       "  subreddit_subscribers   created_utc  num_crossposts  media  is_video  \\\n",
       "0                327901  1.573670e+09               0    NaN     False   \n",
       "1                327901  1.583553e+09               0    NaN     False   \n",
       "2                327901  1.583467e+09               0    NaN     False   \n",
       "3                327901  1.583553e+09               0    NaN     False   \n",
       "4                327901  1.583567e+09               0    NaN     False   \n",
       "\n",
       "   post_hint  preview crosspost_parent_list  crosspost_parent author_cakeday  \n",
       "0        NaN      NaN                   NaN               NaN            NaN  \n",
       "1        NaN      NaN                   NaN               NaN            NaN  \n",
       "2        NaN      NaN                   NaN               NaN            NaN  \n",
       "3        NaN      NaN                   NaN               NaN            NaN  \n",
       "4        NaN      NaN                   NaN               NaN            NaN  \n",
       "\n",
       "[5 rows x 106 columns]"
      ]
     },
     "execution_count": 5,
     "metadata": {},
     "output_type": "execute_result"
    }
   ],
   "source": [
    "print(data_yourserver.shape)\n",
    "data_yourserver.head()"
   ]
  },
  {
   "cell_type": "code",
   "execution_count": null,
   "metadata": {},
   "outputs": [],
   "source": []
  },
  {
   "cell_type": "code",
   "execution_count": 6,
   "metadata": {},
   "outputs": [],
   "source": [
    "## keeping rows with no duplicates of a column value for data_frontdesk\n",
    "\n",
    "\n",
    "unq_frontdesk=data_frontdesk.drop_duplicates('selftext')"
   ]
  },
  {
   "cell_type": "code",
   "execution_count": 7,
   "metadata": {},
   "outputs": [
    {
     "name": "stdout",
     "output_type": "stream",
     "text": [
      "(870, 105)\n"
     ]
    },
    {
     "data": {
      "text/html": [
       "<div>\n",
       "<style scoped>\n",
       "    .dataframe tbody tr th:only-of-type {\n",
       "        vertical-align: middle;\n",
       "    }\n",
       "\n",
       "    .dataframe tbody tr th {\n",
       "        vertical-align: top;\n",
       "    }\n",
       "\n",
       "    .dataframe thead th {\n",
       "        text-align: right;\n",
       "    }\n",
       "</style>\n",
       "<table border=\"1\" class=\"dataframe\">\n",
       "  <thead>\n",
       "    <tr style=\"text-align: right;\">\n",
       "      <th></th>\n",
       "      <th>approved_at_utc</th>\n",
       "      <th>subreddit</th>\n",
       "      <th>selftext</th>\n",
       "      <th>author_fullname</th>\n",
       "      <th>saved</th>\n",
       "      <th>mod_reason_title</th>\n",
       "      <th>gilded</th>\n",
       "      <th>clicked</th>\n",
       "      <th>title</th>\n",
       "      <th>link_flair_richtext</th>\n",
       "      <th>...</th>\n",
       "      <th>parent_whitelist_status</th>\n",
       "      <th>stickied</th>\n",
       "      <th>url</th>\n",
       "      <th>subreddit_subscribers</th>\n",
       "      <th>created_utc</th>\n",
       "      <th>num_crossposts</th>\n",
       "      <th>media</th>\n",
       "      <th>is_video</th>\n",
       "      <th>crosspost_parent_list</th>\n",
       "      <th>crosspost_parent</th>\n",
       "    </tr>\n",
       "  </thead>\n",
       "  <tbody>\n",
       "    <tr>\n",
       "      <th>0</th>\n",
       "      <td>NaN</td>\n",
       "      <td>TalesFromTheFrontDesk</td>\n",
       "      <td>Want to talk about something that isn't a fron...</td>\n",
       "      <td>t2_6l4z3</td>\n",
       "      <td>False</td>\n",
       "      <td>NaN</td>\n",
       "      <td>0</td>\n",
       "      <td>False</td>\n",
       "      <td>Free For All Thread</td>\n",
       "      <td>[]</td>\n",
       "      <td>...</td>\n",
       "      <td>all_ads</td>\n",
       "      <td>True</td>\n",
       "      <td>https://www.reddit.com/r/TalesFromTheFrontDesk...</td>\n",
       "      <td>279366</td>\n",
       "      <td>1.582928e+09</td>\n",
       "      <td>0</td>\n",
       "      <td>NaN</td>\n",
       "      <td>False</td>\n",
       "      <td>NaN</td>\n",
       "      <td>NaN</td>\n",
       "    </tr>\n",
       "    <tr>\n",
       "      <th>2</th>\n",
       "      <td>NaN</td>\n",
       "      <td>TalesFromTheFrontDesk</td>\n",
       "      <td>I made a post sometime last week about my conc...</td>\n",
       "      <td>t2_3vktid47</td>\n",
       "      <td>False</td>\n",
       "      <td>NaN</td>\n",
       "      <td>0</td>\n",
       "      <td>False</td>\n",
       "      <td>Questionable Employee is Back!</td>\n",
       "      <td>[{'e': 'text', 't': 'Medium'}]</td>\n",
       "      <td>...</td>\n",
       "      <td>all_ads</td>\n",
       "      <td>False</td>\n",
       "      <td>https://www.reddit.com/r/TalesFromTheFrontDesk...</td>\n",
       "      <td>279366</td>\n",
       "      <td>1.583549e+09</td>\n",
       "      <td>0</td>\n",
       "      <td>NaN</td>\n",
       "      <td>False</td>\n",
       "      <td>NaN</td>\n",
       "      <td>NaN</td>\n",
       "    </tr>\n",
       "    <tr>\n",
       "      <th>3</th>\n",
       "      <td>NaN</td>\n",
       "      <td>TalesFromTheFrontDesk</td>\n",
       "      <td>Ayyyeee , Ive never had a tale to tell before ...</td>\n",
       "      <td>t2_4gz3ju3s</td>\n",
       "      <td>False</td>\n",
       "      <td>NaN</td>\n",
       "      <td>1</td>\n",
       "      <td>False</td>\n",
       "      <td>Guests' friend throws beer in my face this mor...</td>\n",
       "      <td>[{'e': 'text', 't': 'Medium'}]</td>\n",
       "      <td>...</td>\n",
       "      <td>all_ads</td>\n",
       "      <td>False</td>\n",
       "      <td>https://www.reddit.com/r/TalesFromTheFrontDesk...</td>\n",
       "      <td>279366</td>\n",
       "      <td>1.583504e+09</td>\n",
       "      <td>0</td>\n",
       "      <td>NaN</td>\n",
       "      <td>False</td>\n",
       "      <td>NaN</td>\n",
       "      <td>NaN</td>\n",
       "    </tr>\n",
       "    <tr>\n",
       "      <th>4</th>\n",
       "      <td>NaN</td>\n",
       "      <td>TalesFromTheFrontDesk</td>\n",
       "      <td>This is an update to my last post concerning a...</td>\n",
       "      <td>t2_2lvu9o2f</td>\n",
       "      <td>False</td>\n",
       "      <td>NaN</td>\n",
       "      <td>0</td>\n",
       "      <td>False</td>\n",
       "      <td>No Exceptions Part II (Update)</td>\n",
       "      <td>[{'e': 'text', 't': 'Short'}]</td>\n",
       "      <td>...</td>\n",
       "      <td>all_ads</td>\n",
       "      <td>False</td>\n",
       "      <td>https://www.reddit.com/r/TalesFromTheFrontDesk...</td>\n",
       "      <td>279366</td>\n",
       "      <td>1.583560e+09</td>\n",
       "      <td>0</td>\n",
       "      <td>NaN</td>\n",
       "      <td>False</td>\n",
       "      <td>NaN</td>\n",
       "      <td>NaN</td>\n",
       "    </tr>\n",
       "    <tr>\n",
       "      <th>5</th>\n",
       "      <td>NaN</td>\n",
       "      <td>TalesFromTheFrontDesk</td>\n",
       "      <td>...About our hotel needing a renovation.\\n\\n&amp;a...</td>\n",
       "      <td>t2_rooj7wj</td>\n",
       "      <td>False</td>\n",
       "      <td>NaN</td>\n",
       "      <td>0</td>\n",
       "      <td>False</td>\n",
       "      <td>Thank you so much for the negative review</td>\n",
       "      <td>[{'e': 'text', 't': 'Short'}]</td>\n",
       "      <td>...</td>\n",
       "      <td>all_ads</td>\n",
       "      <td>False</td>\n",
       "      <td>https://www.reddit.com/r/TalesFromTheFrontDesk...</td>\n",
       "      <td>279366</td>\n",
       "      <td>1.583532e+09</td>\n",
       "      <td>0</td>\n",
       "      <td>NaN</td>\n",
       "      <td>False</td>\n",
       "      <td>NaN</td>\n",
       "      <td>NaN</td>\n",
       "    </tr>\n",
       "  </tbody>\n",
       "</table>\n",
       "<p>5 rows × 105 columns</p>\n",
       "</div>"
      ],
      "text/plain": [
       "   approved_at_utc              subreddit  \\\n",
       "0              NaN  TalesFromTheFrontDesk   \n",
       "2              NaN  TalesFromTheFrontDesk   \n",
       "3              NaN  TalesFromTheFrontDesk   \n",
       "4              NaN  TalesFromTheFrontDesk   \n",
       "5              NaN  TalesFromTheFrontDesk   \n",
       "\n",
       "                                            selftext author_fullname  saved  \\\n",
       "0  Want to talk about something that isn't a fron...        t2_6l4z3  False   \n",
       "2  I made a post sometime last week about my conc...     t2_3vktid47  False   \n",
       "3  Ayyyeee , Ive never had a tale to tell before ...     t2_4gz3ju3s  False   \n",
       "4  This is an update to my last post concerning a...     t2_2lvu9o2f  False   \n",
       "5  ...About our hotel needing a renovation.\\n\\n&a...      t2_rooj7wj  False   \n",
       "\n",
       "   mod_reason_title  gilded  clicked  \\\n",
       "0               NaN       0    False   \n",
       "2               NaN       0    False   \n",
       "3               NaN       1    False   \n",
       "4               NaN       0    False   \n",
       "5               NaN       0    False   \n",
       "\n",
       "                                               title  \\\n",
       "0                                Free For All Thread   \n",
       "2                     Questionable Employee is Back!   \n",
       "3  Guests' friend throws beer in my face this mor...   \n",
       "4                     No Exceptions Part II (Update)   \n",
       "5          Thank you so much for the negative review   \n",
       "\n",
       "              link_flair_richtext  ... parent_whitelist_status  stickied  \\\n",
       "0                              []  ...                 all_ads      True   \n",
       "2  [{'e': 'text', 't': 'Medium'}]  ...                 all_ads     False   \n",
       "3  [{'e': 'text', 't': 'Medium'}]  ...                 all_ads     False   \n",
       "4   [{'e': 'text', 't': 'Short'}]  ...                 all_ads     False   \n",
       "5   [{'e': 'text', 't': 'Short'}]  ...                 all_ads     False   \n",
       "\n",
       "                                                 url subreddit_subscribers  \\\n",
       "0  https://www.reddit.com/r/TalesFromTheFrontDesk...                279366   \n",
       "2  https://www.reddit.com/r/TalesFromTheFrontDesk...                279366   \n",
       "3  https://www.reddit.com/r/TalesFromTheFrontDesk...                279366   \n",
       "4  https://www.reddit.com/r/TalesFromTheFrontDesk...                279366   \n",
       "5  https://www.reddit.com/r/TalesFromTheFrontDesk...                279366   \n",
       "\n",
       "    created_utc  num_crossposts  media is_video  crosspost_parent_list  \\\n",
       "0  1.582928e+09               0    NaN    False                    NaN   \n",
       "2  1.583549e+09               0    NaN    False                    NaN   \n",
       "3  1.583504e+09               0    NaN    False                    NaN   \n",
       "4  1.583560e+09               0    NaN    False                    NaN   \n",
       "5  1.583532e+09               0    NaN    False                    NaN   \n",
       "\n",
       "  crosspost_parent  \n",
       "0              NaN  \n",
       "2              NaN  \n",
       "3              NaN  \n",
       "4              NaN  \n",
       "5              NaN  \n",
       "\n",
       "[5 rows x 105 columns]"
      ]
     },
     "execution_count": 7,
     "metadata": {},
     "output_type": "execute_result"
    }
   ],
   "source": [
    "print(unq_frontdesk.shape)\n",
    "unq_frontdesk.head()"
   ]
  },
  {
   "cell_type": "code",
   "execution_count": 8,
   "metadata": {},
   "outputs": [],
   "source": [
    "## keeping rows with no duplicates of a column value for data_yourserver\n",
    "\n",
    "\n",
    "unq_yourserver=data_yourserver.drop_duplicates('selftext')"
   ]
  },
  {
   "cell_type": "code",
   "execution_count": 9,
   "metadata": {},
   "outputs": [
    {
     "name": "stdout",
     "output_type": "stream",
     "text": [
      "(951, 106)\n"
     ]
    },
    {
     "data": {
      "text/html": [
       "<div>\n",
       "<style scoped>\n",
       "    .dataframe tbody tr th:only-of-type {\n",
       "        vertical-align: middle;\n",
       "    }\n",
       "\n",
       "    .dataframe tbody tr th {\n",
       "        vertical-align: top;\n",
       "    }\n",
       "\n",
       "    .dataframe thead th {\n",
       "        text-align: right;\n",
       "    }\n",
       "</style>\n",
       "<table border=\"1\" class=\"dataframe\">\n",
       "  <thead>\n",
       "    <tr style=\"text-align: right;\">\n",
       "      <th></th>\n",
       "      <th>approved_at_utc</th>\n",
       "      <th>subreddit</th>\n",
       "      <th>selftext</th>\n",
       "      <th>author_fullname</th>\n",
       "      <th>saved</th>\n",
       "      <th>mod_reason_title</th>\n",
       "      <th>gilded</th>\n",
       "      <th>clicked</th>\n",
       "      <th>title</th>\n",
       "      <th>link_flair_richtext</th>\n",
       "      <th>...</th>\n",
       "      <th>subreddit_subscribers</th>\n",
       "      <th>created_utc</th>\n",
       "      <th>num_crossposts</th>\n",
       "      <th>media</th>\n",
       "      <th>is_video</th>\n",
       "      <th>post_hint</th>\n",
       "      <th>preview</th>\n",
       "      <th>crosspost_parent_list</th>\n",
       "      <th>crosspost_parent</th>\n",
       "      <th>author_cakeday</th>\n",
       "    </tr>\n",
       "  </thead>\n",
       "  <tbody>\n",
       "    <tr>\n",
       "      <th>0</th>\n",
       "      <td>NaN</td>\n",
       "      <td>TalesFromYourServer</td>\n",
       "      <td>Whether you're a new server, busser, host, or ...</td>\n",
       "      <td>t2_8er8z</td>\n",
       "      <td>False</td>\n",
       "      <td>NaN</td>\n",
       "      <td>0</td>\n",
       "      <td>False</td>\n",
       "      <td>Dedicated thread for new server advice</td>\n",
       "      <td>[]</td>\n",
       "      <td>...</td>\n",
       "      <td>327901</td>\n",
       "      <td>1.573670e+09</td>\n",
       "      <td>0</td>\n",
       "      <td>NaN</td>\n",
       "      <td>False</td>\n",
       "      <td>NaN</td>\n",
       "      <td>NaN</td>\n",
       "      <td>NaN</td>\n",
       "      <td>NaN</td>\n",
       "      <td>NaN</td>\n",
       "    </tr>\n",
       "    <tr>\n",
       "      <th>1</th>\n",
       "      <td>NaN</td>\n",
       "      <td>TalesFromYourServer</td>\n",
       "      <td>Guy was a joiner of a 3 top.  We are a crazy b...</td>\n",
       "      <td>t2_3mi9b6r0</td>\n",
       "      <td>False</td>\n",
       "      <td>NaN</td>\n",
       "      <td>0</td>\n",
       "      <td>False</td>\n",
       "      <td>Guy with complicated drink has a melt down</td>\n",
       "      <td>[]</td>\n",
       "      <td>...</td>\n",
       "      <td>327901</td>\n",
       "      <td>1.583553e+09</td>\n",
       "      <td>0</td>\n",
       "      <td>NaN</td>\n",
       "      <td>False</td>\n",
       "      <td>NaN</td>\n",
       "      <td>NaN</td>\n",
       "      <td>NaN</td>\n",
       "      <td>NaN</td>\n",
       "      <td>NaN</td>\n",
       "    </tr>\n",
       "    <tr>\n",
       "      <th>2</th>\n",
       "      <td>NaN</td>\n",
       "      <td>TalesFromYourServer</td>\n",
       "      <td>We close at at 10. \\n\\nIt's 9:10pm and the bar...</td>\n",
       "      <td>t2_mo5am</td>\n",
       "      <td>False</td>\n",
       "      <td>NaN</td>\n",
       "      <td>0</td>\n",
       "      <td>False</td>\n",
       "      <td>'Real' Considerate Guests Arriving Within an H...</td>\n",
       "      <td>[]</td>\n",
       "      <td>...</td>\n",
       "      <td>327901</td>\n",
       "      <td>1.583467e+09</td>\n",
       "      <td>0</td>\n",
       "      <td>NaN</td>\n",
       "      <td>False</td>\n",
       "      <td>NaN</td>\n",
       "      <td>NaN</td>\n",
       "      <td>NaN</td>\n",
       "      <td>NaN</td>\n",
       "      <td>NaN</td>\n",
       "    </tr>\n",
       "    <tr>\n",
       "      <th>3</th>\n",
       "      <td>NaN</td>\n",
       "      <td>TalesFromYourServer</td>\n",
       "      <td>Foreign travelers are always a great source of...</td>\n",
       "      <td>t2_h5emv</td>\n",
       "      <td>False</td>\n",
       "      <td>NaN</td>\n",
       "      <td>0</td>\n",
       "      <td>False</td>\n",
       "      <td>Adventures in Foreign Tourists</td>\n",
       "      <td>[]</td>\n",
       "      <td>...</td>\n",
       "      <td>327901</td>\n",
       "      <td>1.583553e+09</td>\n",
       "      <td>0</td>\n",
       "      <td>NaN</td>\n",
       "      <td>False</td>\n",
       "      <td>NaN</td>\n",
       "      <td>NaN</td>\n",
       "      <td>NaN</td>\n",
       "      <td>NaN</td>\n",
       "      <td>NaN</td>\n",
       "    </tr>\n",
       "    <tr>\n",
       "      <th>4</th>\n",
       "      <td>NaN</td>\n",
       "      <td>TalesFromYourServer</td>\n",
       "      <td>Buffet server here in Vegas.\\n\\n\\nCoworker wal...</td>\n",
       "      <td>t2_caxux</td>\n",
       "      <td>False</td>\n",
       "      <td>NaN</td>\n",
       "      <td>0</td>\n",
       "      <td>False</td>\n",
       "      <td>I guess it was only a matter of time (coronavi...</td>\n",
       "      <td>[]</td>\n",
       "      <td>...</td>\n",
       "      <td>327901</td>\n",
       "      <td>1.583567e+09</td>\n",
       "      <td>0</td>\n",
       "      <td>NaN</td>\n",
       "      <td>False</td>\n",
       "      <td>NaN</td>\n",
       "      <td>NaN</td>\n",
       "      <td>NaN</td>\n",
       "      <td>NaN</td>\n",
       "      <td>NaN</td>\n",
       "    </tr>\n",
       "  </tbody>\n",
       "</table>\n",
       "<p>5 rows × 106 columns</p>\n",
       "</div>"
      ],
      "text/plain": [
       "   approved_at_utc            subreddit  \\\n",
       "0              NaN  TalesFromYourServer   \n",
       "1              NaN  TalesFromYourServer   \n",
       "2              NaN  TalesFromYourServer   \n",
       "3              NaN  TalesFromYourServer   \n",
       "4              NaN  TalesFromYourServer   \n",
       "\n",
       "                                            selftext author_fullname  saved  \\\n",
       "0  Whether you're a new server, busser, host, or ...        t2_8er8z  False   \n",
       "1  Guy was a joiner of a 3 top.  We are a crazy b...     t2_3mi9b6r0  False   \n",
       "2  We close at at 10. \\n\\nIt's 9:10pm and the bar...        t2_mo5am  False   \n",
       "3  Foreign travelers are always a great source of...        t2_h5emv  False   \n",
       "4  Buffet server here in Vegas.\\n\\n\\nCoworker wal...        t2_caxux  False   \n",
       "\n",
       "   mod_reason_title  gilded  clicked  \\\n",
       "0               NaN       0    False   \n",
       "1               NaN       0    False   \n",
       "2               NaN       0    False   \n",
       "3               NaN       0    False   \n",
       "4               NaN       0    False   \n",
       "\n",
       "                                               title link_flair_richtext  ...  \\\n",
       "0             Dedicated thread for new server advice                  []  ...   \n",
       "1         Guy with complicated drink has a melt down                  []  ...   \n",
       "2  'Real' Considerate Guests Arriving Within an H...                  []  ...   \n",
       "3                     Adventures in Foreign Tourists                  []  ...   \n",
       "4  I guess it was only a matter of time (coronavi...                  []  ...   \n",
       "\n",
       "  subreddit_subscribers   created_utc  num_crossposts  media  is_video  \\\n",
       "0                327901  1.573670e+09               0    NaN     False   \n",
       "1                327901  1.583553e+09               0    NaN     False   \n",
       "2                327901  1.583467e+09               0    NaN     False   \n",
       "3                327901  1.583553e+09               0    NaN     False   \n",
       "4                327901  1.583567e+09               0    NaN     False   \n",
       "\n",
       "   post_hint  preview crosspost_parent_list  crosspost_parent author_cakeday  \n",
       "0        NaN      NaN                   NaN               NaN            NaN  \n",
       "1        NaN      NaN                   NaN               NaN            NaN  \n",
       "2        NaN      NaN                   NaN               NaN            NaN  \n",
       "3        NaN      NaN                   NaN               NaN            NaN  \n",
       "4        NaN      NaN                   NaN               NaN            NaN  \n",
       "\n",
       "[5 rows x 106 columns]"
      ]
     },
     "execution_count": 9,
     "metadata": {},
     "output_type": "execute_result"
    }
   ],
   "source": [
    "print(unq_yourserver.shape)\n",
    "unq_yourserver.head()"
   ]
  },
  {
   "cell_type": "code",
   "execution_count": 10,
   "metadata": {},
   "outputs": [
    {
     "data": {
      "text/plain": [
       "TalesFromTheFrontDesk    870\n",
       "Name: subreddit, dtype: int64"
      ]
     },
     "execution_count": 10,
     "metadata": {},
     "output_type": "execute_result"
    }
   ],
   "source": [
    "unq_frontdesk['subreddit'].value_counts()"
   ]
  },
  {
   "cell_type": "code",
   "execution_count": 11,
   "metadata": {},
   "outputs": [
    {
     "data": {
      "text/plain": [
       "TalesFromYourServer    951\n",
       "Name: subreddit, dtype: int64"
      ]
     },
     "execution_count": 11,
     "metadata": {},
     "output_type": "execute_result"
    }
   ],
   "source": [
    "unq_yourserver['subreddit'].value_counts()"
   ]
  },
  {
   "cell_type": "code",
   "execution_count": 12,
   "metadata": {},
   "outputs": [
    {
     "data": {
      "text/html": [
       "<div>\n",
       "<style scoped>\n",
       "    .dataframe tbody tr th:only-of-type {\n",
       "        vertical-align: middle;\n",
       "    }\n",
       "\n",
       "    .dataframe tbody tr th {\n",
       "        vertical-align: top;\n",
       "    }\n",
       "\n",
       "    .dataframe thead th {\n",
       "        text-align: right;\n",
       "    }\n",
       "</style>\n",
       "<table border=\"1\" class=\"dataframe\">\n",
       "  <thead>\n",
       "    <tr style=\"text-align: right;\">\n",
       "      <th></th>\n",
       "      <th>approved_at_utc</th>\n",
       "      <th>subreddit</th>\n",
       "      <th>selftext</th>\n",
       "      <th>author_fullname</th>\n",
       "      <th>saved</th>\n",
       "      <th>mod_reason_title</th>\n",
       "      <th>gilded</th>\n",
       "      <th>clicked</th>\n",
       "      <th>title</th>\n",
       "      <th>link_flair_richtext</th>\n",
       "      <th>...</th>\n",
       "      <th>parent_whitelist_status</th>\n",
       "      <th>stickied</th>\n",
       "      <th>url</th>\n",
       "      <th>subreddit_subscribers</th>\n",
       "      <th>created_utc</th>\n",
       "      <th>num_crossposts</th>\n",
       "      <th>media</th>\n",
       "      <th>is_video</th>\n",
       "      <th>crosspost_parent_list</th>\n",
       "      <th>crosspost_parent</th>\n",
       "    </tr>\n",
       "  </thead>\n",
       "  <tbody>\n",
       "    <tr>\n",
       "      <th>287</th>\n",
       "      <td>NaN</td>\n",
       "      <td>TalesFromTheFrontDesk</td>\n",
       "      <td>NaN</td>\n",
       "      <td>t2_x97op0f</td>\n",
       "      <td>False</td>\n",
       "      <td>NaN</td>\n",
       "      <td>0</td>\n",
       "      <td>False</td>\n",
       "      <td>Dude makes a nuisance of himself, gets too hig...</td>\n",
       "      <td>[{'e': 'text', 't': 'Medium'}]</td>\n",
       "      <td>...</td>\n",
       "      <td>all_ads</td>\n",
       "      <td>False</td>\n",
       "      <td>/r/talesfromsecurity/comments/f2ndeq/dude_make...</td>\n",
       "      <td>279369</td>\n",
       "      <td>1.581492e+09</td>\n",
       "      <td>0</td>\n",
       "      <td>NaN</td>\n",
       "      <td>False</td>\n",
       "      <td>[{'approved_at_utc': None, 'subreddit': 'tales...</td>\n",
       "      <td>t3_f2ndeq</td>\n",
       "    </tr>\n",
       "  </tbody>\n",
       "</table>\n",
       "<p>1 rows × 105 columns</p>\n",
       "</div>"
      ],
      "text/plain": [
       "     approved_at_utc              subreddit selftext author_fullname  saved  \\\n",
       "287              NaN  TalesFromTheFrontDesk      NaN      t2_x97op0f  False   \n",
       "\n",
       "     mod_reason_title  gilded  clicked  \\\n",
       "287               NaN       0    False   \n",
       "\n",
       "                                                 title  \\\n",
       "287  Dude makes a nuisance of himself, gets too hig...   \n",
       "\n",
       "                link_flair_richtext  ... parent_whitelist_status  stickied  \\\n",
       "287  [{'e': 'text', 't': 'Medium'}]  ...                 all_ads     False   \n",
       "\n",
       "                                                   url subreddit_subscribers  \\\n",
       "287  /r/talesfromsecurity/comments/f2ndeq/dude_make...                279369   \n",
       "\n",
       "      created_utc  num_crossposts  media is_video  \\\n",
       "287  1.581492e+09               0    NaN    False   \n",
       "\n",
       "                                 crosspost_parent_list crosspost_parent  \n",
       "287  [{'approved_at_utc': None, 'subreddit': 'tales...        t3_f2ndeq  \n",
       "\n",
       "[1 rows x 105 columns]"
      ]
     },
     "execution_count": 12,
     "metadata": {},
     "output_type": "execute_result"
    }
   ],
   "source": [
    "unq_frontdesk[unq_frontdesk['selftext'].isnull()]"
   ]
  },
  {
   "cell_type": "code",
   "execution_count": 13,
   "metadata": {},
   "outputs": [
    {
     "data": {
      "text/plain": [
       "'Dude makes a nuisance of himself, gets too high, and ends up banned and in the hospital.'"
      ]
     },
     "execution_count": 13,
     "metadata": {},
     "output_type": "execute_result"
    }
   ],
   "source": [
    "# Checking title of post to see if it can be inputed as the selftext instead.\n",
    "unq_frontdesk['title'].loc[287]\n",
    "\n",
    "# Title seems to be exactly that, not a full selftext mistakenly put into title.\n"
   ]
  },
  {
   "cell_type": "code",
   "execution_count": 14,
   "metadata": {},
   "outputs": [
    {
     "data": {
      "text/html": [
       "<div>\n",
       "<style scoped>\n",
       "    .dataframe tbody tr th:only-of-type {\n",
       "        vertical-align: middle;\n",
       "    }\n",
       "\n",
       "    .dataframe tbody tr th {\n",
       "        vertical-align: top;\n",
       "    }\n",
       "\n",
       "    .dataframe thead th {\n",
       "        text-align: right;\n",
       "    }\n",
       "</style>\n",
       "<table border=\"1\" class=\"dataframe\">\n",
       "  <thead>\n",
       "    <tr style=\"text-align: right;\">\n",
       "      <th></th>\n",
       "      <th>approved_at_utc</th>\n",
       "      <th>subreddit</th>\n",
       "      <th>selftext</th>\n",
       "      <th>author_fullname</th>\n",
       "      <th>saved</th>\n",
       "      <th>mod_reason_title</th>\n",
       "      <th>gilded</th>\n",
       "      <th>clicked</th>\n",
       "      <th>title</th>\n",
       "      <th>link_flair_richtext</th>\n",
       "      <th>...</th>\n",
       "      <th>subreddit_subscribers</th>\n",
       "      <th>created_utc</th>\n",
       "      <th>num_crossposts</th>\n",
       "      <th>media</th>\n",
       "      <th>is_video</th>\n",
       "      <th>post_hint</th>\n",
       "      <th>preview</th>\n",
       "      <th>crosspost_parent_list</th>\n",
       "      <th>crosspost_parent</th>\n",
       "      <th>author_cakeday</th>\n",
       "    </tr>\n",
       "  </thead>\n",
       "  <tbody>\n",
       "    <tr>\n",
       "      <th>212</th>\n",
       "      <td>NaN</td>\n",
       "      <td>TalesFromYourServer</td>\n",
       "      <td>NaN</td>\n",
       "      <td>t2_1215ne</td>\n",
       "      <td>False</td>\n",
       "      <td>NaN</td>\n",
       "      <td>0</td>\n",
       "      <td>False</td>\n",
       "      <td>Is it Ash Wednesday? I gotta prepare myself fo...</td>\n",
       "      <td>[]</td>\n",
       "      <td>...</td>\n",
       "      <td>327902</td>\n",
       "      <td>1.582710e+09</td>\n",
       "      <td>0</td>\n",
       "      <td>NaN</td>\n",
       "      <td>False</td>\n",
       "      <td>NaN</td>\n",
       "      <td>NaN</td>\n",
       "      <td>NaN</td>\n",
       "      <td>NaN</td>\n",
       "      <td>NaN</td>\n",
       "    </tr>\n",
       "  </tbody>\n",
       "</table>\n",
       "<p>1 rows × 106 columns</p>\n",
       "</div>"
      ],
      "text/plain": [
       "     approved_at_utc            subreddit selftext author_fullname  saved  \\\n",
       "212              NaN  TalesFromYourServer      NaN       t2_1215ne  False   \n",
       "\n",
       "     mod_reason_title  gilded  clicked  \\\n",
       "212               NaN       0    False   \n",
       "\n",
       "                                                 title link_flair_richtext  \\\n",
       "212  Is it Ash Wednesday? I gotta prepare myself fo...                  []   \n",
       "\n",
       "     ... subreddit_subscribers   created_utc  num_crossposts  media  is_video  \\\n",
       "212  ...                327902  1.582710e+09               0    NaN     False   \n",
       "\n",
       "     post_hint  preview crosspost_parent_list  crosspost_parent author_cakeday  \n",
       "212        NaN      NaN                   NaN               NaN            NaN  \n",
       "\n",
       "[1 rows x 106 columns]"
      ]
     },
     "execution_count": 14,
     "metadata": {},
     "output_type": "execute_result"
    }
   ],
   "source": [
    "unq_yourserver[unq_yourserver['selftext'].isnull()]"
   ]
  },
  {
   "cell_type": "code",
   "execution_count": 15,
   "metadata": {},
   "outputs": [
    {
     "data": {
      "text/plain": [
       "'Is it Ash Wednesday? I gotta prepare myself for everyone coming in with shit smeared on their head.'"
      ]
     },
     "execution_count": 15,
     "metadata": {},
     "output_type": "execute_result"
    }
   ],
   "source": [
    "# Checking title of post to see if it can be inputed as the selftext instead.\n",
    "unq_yourserver['title'].loc[212]\n",
    "\n",
    "# Title seems to be exactly that, not a full selftext mistakenly put into title.\n",
    "\n",
    "# This row will be removed later."
   ]
  },
  {
   "cell_type": "code",
   "execution_count": 16,
   "metadata": {},
   "outputs": [
    {
     "name": "stdout",
     "output_type": "stream",
     "text": [
      "(870, 2)\n"
     ]
    },
    {
     "data": {
      "text/html": [
       "<div>\n",
       "<style scoped>\n",
       "    .dataframe tbody tr th:only-of-type {\n",
       "        vertical-align: middle;\n",
       "    }\n",
       "\n",
       "    .dataframe tbody tr th {\n",
       "        vertical-align: top;\n",
       "    }\n",
       "\n",
       "    .dataframe thead th {\n",
       "        text-align: right;\n",
       "    }\n",
       "</style>\n",
       "<table border=\"1\" class=\"dataframe\">\n",
       "  <thead>\n",
       "    <tr style=\"text-align: right;\">\n",
       "      <th></th>\n",
       "      <th>selftext</th>\n",
       "      <th>subreddit</th>\n",
       "    </tr>\n",
       "  </thead>\n",
       "  <tbody>\n",
       "    <tr>\n",
       "      <th>0</th>\n",
       "      <td>Want to talk about something that isn't a fron...</td>\n",
       "      <td>TalesFromTheFrontDesk</td>\n",
       "    </tr>\n",
       "    <tr>\n",
       "      <th>2</th>\n",
       "      <td>I made a post sometime last week about my conc...</td>\n",
       "      <td>TalesFromTheFrontDesk</td>\n",
       "    </tr>\n",
       "    <tr>\n",
       "      <th>3</th>\n",
       "      <td>Ayyyeee , Ive never had a tale to tell before ...</td>\n",
       "      <td>TalesFromTheFrontDesk</td>\n",
       "    </tr>\n",
       "    <tr>\n",
       "      <th>4</th>\n",
       "      <td>This is an update to my last post concerning a...</td>\n",
       "      <td>TalesFromTheFrontDesk</td>\n",
       "    </tr>\n",
       "    <tr>\n",
       "      <th>5</th>\n",
       "      <td>...About our hotel needing a renovation.\\n\\n&amp;a...</td>\n",
       "      <td>TalesFromTheFrontDesk</td>\n",
       "    </tr>\n",
       "  </tbody>\n",
       "</table>\n",
       "</div>"
      ],
      "text/plain": [
       "                                            selftext              subreddit\n",
       "0  Want to talk about something that isn't a fron...  TalesFromTheFrontDesk\n",
       "2  I made a post sometime last week about my conc...  TalesFromTheFrontDesk\n",
       "3  Ayyyeee , Ive never had a tale to tell before ...  TalesFromTheFrontDesk\n",
       "4  This is an update to my last post concerning a...  TalesFromTheFrontDesk\n",
       "5  ...About our hotel needing a renovation.\\n\\n&a...  TalesFromTheFrontDesk"
      ]
     },
     "execution_count": 16,
     "metadata": {},
     "output_type": "execute_result"
    }
   ],
   "source": [
    "# reducing dataframe for frontdesk to columns of interest\n",
    "\n",
    "df_frontdesk=unq_frontdesk[['selftext','subreddit']]\n",
    "\n",
    "print(df_frontdesk.shape)\n",
    "df_frontdesk.head()"
   ]
  },
  {
   "cell_type": "code",
   "execution_count": 17,
   "metadata": {},
   "outputs": [
    {
     "name": "stdout",
     "output_type": "stream",
     "text": [
      "(951, 2)\n"
     ]
    },
    {
     "data": {
      "text/html": [
       "<div>\n",
       "<style scoped>\n",
       "    .dataframe tbody tr th:only-of-type {\n",
       "        vertical-align: middle;\n",
       "    }\n",
       "\n",
       "    .dataframe tbody tr th {\n",
       "        vertical-align: top;\n",
       "    }\n",
       "\n",
       "    .dataframe thead th {\n",
       "        text-align: right;\n",
       "    }\n",
       "</style>\n",
       "<table border=\"1\" class=\"dataframe\">\n",
       "  <thead>\n",
       "    <tr style=\"text-align: right;\">\n",
       "      <th></th>\n",
       "      <th>selftext</th>\n",
       "      <th>subreddit</th>\n",
       "    </tr>\n",
       "  </thead>\n",
       "  <tbody>\n",
       "    <tr>\n",
       "      <th>0</th>\n",
       "      <td>Whether you're a new server, busser, host, or ...</td>\n",
       "      <td>TalesFromYourServer</td>\n",
       "    </tr>\n",
       "    <tr>\n",
       "      <th>1</th>\n",
       "      <td>Guy was a joiner of a 3 top.  We are a crazy b...</td>\n",
       "      <td>TalesFromYourServer</td>\n",
       "    </tr>\n",
       "    <tr>\n",
       "      <th>2</th>\n",
       "      <td>We close at at 10. \\n\\nIt's 9:10pm and the bar...</td>\n",
       "      <td>TalesFromYourServer</td>\n",
       "    </tr>\n",
       "    <tr>\n",
       "      <th>3</th>\n",
       "      <td>Foreign travelers are always a great source of...</td>\n",
       "      <td>TalesFromYourServer</td>\n",
       "    </tr>\n",
       "    <tr>\n",
       "      <th>4</th>\n",
       "      <td>Buffet server here in Vegas.\\n\\n\\nCoworker wal...</td>\n",
       "      <td>TalesFromYourServer</td>\n",
       "    </tr>\n",
       "  </tbody>\n",
       "</table>\n",
       "</div>"
      ],
      "text/plain": [
       "                                            selftext            subreddit\n",
       "0  Whether you're a new server, busser, host, or ...  TalesFromYourServer\n",
       "1  Guy was a joiner of a 3 top.  We are a crazy b...  TalesFromYourServer\n",
       "2  We close at at 10. \\n\\nIt's 9:10pm and the bar...  TalesFromYourServer\n",
       "3  Foreign travelers are always a great source of...  TalesFromYourServer\n",
       "4  Buffet server here in Vegas.\\n\\n\\nCoworker wal...  TalesFromYourServer"
      ]
     },
     "execution_count": 17,
     "metadata": {},
     "output_type": "execute_result"
    }
   ],
   "source": [
    "# reducing dataframe for yourserver to columns of interest\n",
    "\n",
    "df_yourserver=unq_yourserver[['selftext','subreddit']]\n",
    "\n",
    "print(df_yourserver.shape)\n",
    "df_yourserver.head()"
   ]
  },
  {
   "cell_type": "code",
   "execution_count": 18,
   "metadata": {},
   "outputs": [],
   "source": [
    "# combining both dataframes to form a full dataset mixed with both subreddits\n",
    "\n",
    "df_initial_combined=pd.concat([df_frontdesk,df_yourserver])\n"
   ]
  },
  {
   "cell_type": "code",
   "execution_count": 19,
   "metadata": {},
   "outputs": [],
   "source": [
    "# shuffling and resetting indexes after concat\n",
    "\n",
    "from sklearn.utils import shuffle\n",
    "\n",
    "df_initial_combined = shuffle(df_initial_combined, random_state=42)\n",
    "\n",
    "df_initial_combined.reset_index(inplace=True,drop=True)"
   ]
  },
  {
   "cell_type": "code",
   "execution_count": 20,
   "metadata": {},
   "outputs": [
    {
     "name": "stdout",
     "output_type": "stream",
     "text": [
      "(1821, 2)\n"
     ]
    },
    {
     "data": {
      "text/html": [
       "<div>\n",
       "<style scoped>\n",
       "    .dataframe tbody tr th:only-of-type {\n",
       "        vertical-align: middle;\n",
       "    }\n",
       "\n",
       "    .dataframe tbody tr th {\n",
       "        vertical-align: top;\n",
       "    }\n",
       "\n",
       "    .dataframe thead th {\n",
       "        text-align: right;\n",
       "    }\n",
       "</style>\n",
       "<table border=\"1\" class=\"dataframe\">\n",
       "  <thead>\n",
       "    <tr style=\"text-align: right;\">\n",
       "      <th></th>\n",
       "      <th>selftext</th>\n",
       "      <th>subreddit</th>\n",
       "    </tr>\n",
       "  </thead>\n",
       "  <tbody>\n",
       "    <tr>\n",
       "      <th>0</th>\n",
       "      <td>Has anybody ever been threatened with a knife ...</td>\n",
       "      <td>TalesFromYourServer</td>\n",
       "    </tr>\n",
       "    <tr>\n",
       "      <th>1</th>\n",
       "      <td>So, last night we had a massive snow storm. My...</td>\n",
       "      <td>TalesFromYourServer</td>\n",
       "    </tr>\n",
       "    <tr>\n",
       "      <th>2</th>\n",
       "      <td>Hello all! I’ve got lots of stories from my 5+...</td>\n",
       "      <td>TalesFromTheFrontDesk</td>\n",
       "    </tr>\n",
       "    <tr>\n",
       "      <th>3</th>\n",
       "      <td>Hello everyone. Your two nights a week NA here...</td>\n",
       "      <td>TalesFromTheFrontDesk</td>\n",
       "    </tr>\n",
       "    <tr>\n",
       "      <th>4</th>\n",
       "      <td>It’s still so on point but we need an updated ...</td>\n",
       "      <td>TalesFromYourServer</td>\n",
       "    </tr>\n",
       "  </tbody>\n",
       "</table>\n",
       "</div>"
      ],
      "text/plain": [
       "                                            selftext              subreddit\n",
       "0  Has anybody ever been threatened with a knife ...    TalesFromYourServer\n",
       "1  So, last night we had a massive snow storm. My...    TalesFromYourServer\n",
       "2  Hello all! I’ve got lots of stories from my 5+...  TalesFromTheFrontDesk\n",
       "3  Hello everyone. Your two nights a week NA here...  TalesFromTheFrontDesk\n",
       "4  It’s still so on point but we need an updated ...    TalesFromYourServer"
      ]
     },
     "execution_count": 20,
     "metadata": {},
     "output_type": "execute_result"
    }
   ],
   "source": [
    "\n",
    "print(df_initial_combined.shape)\n",
    "\n",
    "df_initial_combined.head()"
   ]
  },
  {
   "cell_type": "markdown",
   "metadata": {},
   "source": [
    "## Classification of Subreddits"
   ]
  },
  {
   "cell_type": "code",
   "execution_count": 21,
   "metadata": {},
   "outputs": [],
   "source": [
    "##### insert data dictionary here, showing TalesFromTheFrontDesk as class 1, TalesFromYourServer as class 0"
   ]
  },
  {
   "cell_type": "code",
   "execution_count": 22,
   "metadata": {},
   "outputs": [],
   "source": [
    "# changing subreddit string values: TalesFromTheFrontDesk to 1, TalesFromYourServer to 0\n",
    "\n",
    "df_initial_combined['subreddit']=df_initial_combined['subreddit'].map({'TalesFromTheFrontDesk':1,'TalesFromYourServer':0})\n",
    "\n"
   ]
  },
  {
   "cell_type": "code",
   "execution_count": 23,
   "metadata": {},
   "outputs": [
    {
     "name": "stdout",
     "output_type": "stream",
     "text": [
      "(1821, 2)\n"
     ]
    },
    {
     "data": {
      "text/html": [
       "<div>\n",
       "<style scoped>\n",
       "    .dataframe tbody tr th:only-of-type {\n",
       "        vertical-align: middle;\n",
       "    }\n",
       "\n",
       "    .dataframe tbody tr th {\n",
       "        vertical-align: top;\n",
       "    }\n",
       "\n",
       "    .dataframe thead th {\n",
       "        text-align: right;\n",
       "    }\n",
       "</style>\n",
       "<table border=\"1\" class=\"dataframe\">\n",
       "  <thead>\n",
       "    <tr style=\"text-align: right;\">\n",
       "      <th></th>\n",
       "      <th>selftext</th>\n",
       "      <th>subreddit</th>\n",
       "    </tr>\n",
       "  </thead>\n",
       "  <tbody>\n",
       "    <tr>\n",
       "      <th>0</th>\n",
       "      <td>Has anybody ever been threatened with a knife ...</td>\n",
       "      <td>0</td>\n",
       "    </tr>\n",
       "    <tr>\n",
       "      <th>1</th>\n",
       "      <td>So, last night we had a massive snow storm. My...</td>\n",
       "      <td>0</td>\n",
       "    </tr>\n",
       "    <tr>\n",
       "      <th>2</th>\n",
       "      <td>Hello all! I’ve got lots of stories from my 5+...</td>\n",
       "      <td>1</td>\n",
       "    </tr>\n",
       "    <tr>\n",
       "      <th>3</th>\n",
       "      <td>Hello everyone. Your two nights a week NA here...</td>\n",
       "      <td>1</td>\n",
       "    </tr>\n",
       "    <tr>\n",
       "      <th>4</th>\n",
       "      <td>It’s still so on point but we need an updated ...</td>\n",
       "      <td>0</td>\n",
       "    </tr>\n",
       "  </tbody>\n",
       "</table>\n",
       "</div>"
      ],
      "text/plain": [
       "                                            selftext  subreddit\n",
       "0  Has anybody ever been threatened with a knife ...          0\n",
       "1  So, last night we had a massive snow storm. My...          0\n",
       "2  Hello all! I’ve got lots of stories from my 5+...          1\n",
       "3  Hello everyone. Your two nights a week NA here...          1\n",
       "4  It’s still so on point but we need an updated ...          0"
      ]
     },
     "execution_count": 23,
     "metadata": {},
     "output_type": "execute_result"
    }
   ],
   "source": [
    "print(df_initial_combined.shape)\n",
    "df_initial_combined.head()"
   ]
  },
  {
   "cell_type": "code",
   "execution_count": 24,
   "metadata": {},
   "outputs": [
    {
     "data": {
      "text/plain": [
       "selftext     2\n",
       "subreddit    0\n",
       "dtype: int64"
      ]
     },
     "execution_count": 24,
     "metadata": {},
     "output_type": "execute_result"
    }
   ],
   "source": [
    "# confirming that only 2 nan values detected earlier\n",
    "\n",
    "df_initial_combined.isnull().sum()"
   ]
  },
  {
   "cell_type": "code",
   "execution_count": 25,
   "metadata": {},
   "outputs": [
    {
     "data": {
      "text/html": [
       "<div>\n",
       "<style scoped>\n",
       "    .dataframe tbody tr th:only-of-type {\n",
       "        vertical-align: middle;\n",
       "    }\n",
       "\n",
       "    .dataframe tbody tr th {\n",
       "        vertical-align: top;\n",
       "    }\n",
       "\n",
       "    .dataframe thead th {\n",
       "        text-align: right;\n",
       "    }\n",
       "</style>\n",
       "<table border=\"1\" class=\"dataframe\">\n",
       "  <thead>\n",
       "    <tr style=\"text-align: right;\">\n",
       "      <th></th>\n",
       "      <th>selftext</th>\n",
       "      <th>subreddit</th>\n",
       "    </tr>\n",
       "  </thead>\n",
       "  <tbody>\n",
       "    <tr>\n",
       "      <th>609</th>\n",
       "      <td>NaN</td>\n",
       "      <td>1</td>\n",
       "    </tr>\n",
       "    <tr>\n",
       "      <th>1780</th>\n",
       "      <td>NaN</td>\n",
       "      <td>0</td>\n",
       "    </tr>\n",
       "  </tbody>\n",
       "</table>\n",
       "</div>"
      ],
      "text/plain": [
       "     selftext  subreddit\n",
       "609       NaN          1\n",
       "1780      NaN          0"
      ]
     },
     "execution_count": 25,
     "metadata": {},
     "output_type": "execute_result"
    }
   ],
   "source": [
    "df_initial_combined[df_initial_combined['selftext'].isnull()]"
   ]
  },
  {
   "cell_type": "markdown",
   "metadata": {},
   "source": [
    "As per investigation above, just 2 rows with missing selftext. Investigated and decision made to drop them."
   ]
  },
  {
   "cell_type": "code",
   "execution_count": 26,
   "metadata": {},
   "outputs": [],
   "source": [
    "# dropping nan values\n",
    "\n",
    "df_initial_combined.dropna(inplace=True)"
   ]
  },
  {
   "cell_type": "code",
   "execution_count": 27,
   "metadata": {},
   "outputs": [
    {
     "data": {
      "text/plain": [
       "selftext     0\n",
       "subreddit    0\n",
       "dtype: int64"
      ]
     },
     "execution_count": 27,
     "metadata": {},
     "output_type": "execute_result"
    }
   ],
   "source": [
    "# confirming no more nan values\n",
    "\n",
    "df_initial_combined.isnull().sum()"
   ]
  },
  {
   "cell_type": "code",
   "execution_count": 28,
   "metadata": {},
   "outputs": [
    {
     "name": "stdout",
     "output_type": "stream",
     "text": [
      "(1819, 2)\n"
     ]
    },
    {
     "data": {
      "text/html": [
       "<div>\n",
       "<style scoped>\n",
       "    .dataframe tbody tr th:only-of-type {\n",
       "        vertical-align: middle;\n",
       "    }\n",
       "\n",
       "    .dataframe tbody tr th {\n",
       "        vertical-align: top;\n",
       "    }\n",
       "\n",
       "    .dataframe thead th {\n",
       "        text-align: right;\n",
       "    }\n",
       "</style>\n",
       "<table border=\"1\" class=\"dataframe\">\n",
       "  <thead>\n",
       "    <tr style=\"text-align: right;\">\n",
       "      <th></th>\n",
       "      <th>selftext</th>\n",
       "      <th>subreddit</th>\n",
       "    </tr>\n",
       "  </thead>\n",
       "  <tbody>\n",
       "    <tr>\n",
       "      <th>0</th>\n",
       "      <td>Has anybody ever been threatened with a knife ...</td>\n",
       "      <td>0</td>\n",
       "    </tr>\n",
       "    <tr>\n",
       "      <th>1</th>\n",
       "      <td>So, last night we had a massive snow storm. My...</td>\n",
       "      <td>0</td>\n",
       "    </tr>\n",
       "    <tr>\n",
       "      <th>2</th>\n",
       "      <td>Hello all! I’ve got lots of stories from my 5+...</td>\n",
       "      <td>1</td>\n",
       "    </tr>\n",
       "    <tr>\n",
       "      <th>3</th>\n",
       "      <td>Hello everyone. Your two nights a week NA here...</td>\n",
       "      <td>1</td>\n",
       "    </tr>\n",
       "    <tr>\n",
       "      <th>4</th>\n",
       "      <td>It’s still so on point but we need an updated ...</td>\n",
       "      <td>0</td>\n",
       "    </tr>\n",
       "  </tbody>\n",
       "</table>\n",
       "</div>"
      ],
      "text/plain": [
       "                                            selftext  subreddit\n",
       "0  Has anybody ever been threatened with a knife ...          0\n",
       "1  So, last night we had a massive snow storm. My...          0\n",
       "2  Hello all! I’ve got lots of stories from my 5+...          1\n",
       "3  Hello everyone. Your two nights a week NA here...          1\n",
       "4  It’s still so on point but we need an updated ...          0"
      ]
     },
     "execution_count": 28,
     "metadata": {},
     "output_type": "execute_result"
    }
   ],
   "source": [
    "print(df_initial_combined.shape)\n",
    "df_initial_combined.head()"
   ]
  },
  {
   "cell_type": "markdown",
   "metadata": {},
   "source": [
    "## Mirrored-Duplicate Posts in both Subreddits"
   ]
  },
  {
   "cell_type": "code",
   "execution_count": 29,
   "metadata": {},
   "outputs": [
    {
     "name": "stdout",
     "output_type": "stream",
     "text": [
      "<bound method Series.duplicated of 0       Has anybody ever been threatened with a knife ...\n",
      "1       So, last night we had a massive snow storm. My...\n",
      "2       Hello all! I’ve got lots of stories from my 5+...\n",
      "3       Hello everyone. Your two nights a week NA here...\n",
      "4       It’s still so on point but we need an updated ...\n",
      "                              ...                        \n",
      "1816    This happened last night, it was my first tabl...\n",
      "1817    Here’s what we get to deal with at my job: peo...\n",
      "1818    Lots of interesting things seem to happen at t...\n",
      "1819    i’m the only one on the floor tomorrow night. ...\n",
      "1820    I had a 6 pack of tables 3 two seaters on one ...\n",
      "Name: selftext, Length: 1819, dtype: object>\n"
     ]
    }
   ],
   "source": [
    "print(df_initial_combined['selftext'].duplicated)\n",
    "\n",
    "# count shows 0 duplicates on 'selftext'"
   ]
  },
  {
   "cell_type": "code",
   "execution_count": 30,
   "metadata": {},
   "outputs": [
    {
     "name": "stdout",
     "output_type": "stream",
     "text": [
      "(1819, 2)\n"
     ]
    },
    {
     "data": {
      "text/html": [
       "<div>\n",
       "<style scoped>\n",
       "    .dataframe tbody tr th:only-of-type {\n",
       "        vertical-align: middle;\n",
       "    }\n",
       "\n",
       "    .dataframe tbody tr th {\n",
       "        vertical-align: top;\n",
       "    }\n",
       "\n",
       "    .dataframe thead th {\n",
       "        text-align: right;\n",
       "    }\n",
       "</style>\n",
       "<table border=\"1\" class=\"dataframe\">\n",
       "  <thead>\n",
       "    <tr style=\"text-align: right;\">\n",
       "      <th></th>\n",
       "      <th>selftext</th>\n",
       "      <th>subreddit</th>\n",
       "    </tr>\n",
       "  </thead>\n",
       "  <tbody>\n",
       "    <tr>\n",
       "      <th>0</th>\n",
       "      <td>Has anybody ever been threatened with a knife ...</td>\n",
       "      <td>0</td>\n",
       "    </tr>\n",
       "    <tr>\n",
       "      <th>1</th>\n",
       "      <td>So, last night we had a massive snow storm. My...</td>\n",
       "      <td>0</td>\n",
       "    </tr>\n",
       "    <tr>\n",
       "      <th>2</th>\n",
       "      <td>Hello all! I’ve got lots of stories from my 5+...</td>\n",
       "      <td>1</td>\n",
       "    </tr>\n",
       "    <tr>\n",
       "      <th>3</th>\n",
       "      <td>Hello everyone. Your two nights a week NA here...</td>\n",
       "      <td>1</td>\n",
       "    </tr>\n",
       "    <tr>\n",
       "      <th>4</th>\n",
       "      <td>It’s still so on point but we need an updated ...</td>\n",
       "      <td>0</td>\n",
       "    </tr>\n",
       "  </tbody>\n",
       "</table>\n",
       "</div>"
      ],
      "text/plain": [
       "                                            selftext  subreddit\n",
       "0  Has anybody ever been threatened with a knife ...          0\n",
       "1  So, last night we had a massive snow storm. My...          0\n",
       "2  Hello all! I’ve got lots of stories from my 5+...          1\n",
       "3  Hello everyone. Your two nights a week NA here...          1\n",
       "4  It’s still so on point but we need an updated ...          0"
      ]
     },
     "execution_count": 30,
     "metadata": {},
     "output_type": "execute_result"
    }
   ],
   "source": [
    "# just in case, dropping any mirrored-duplicate posts on both reddits, and if they appear, keep first one\n",
    "\n",
    "df_final_combined=df_initial_combined.drop_duplicates('selftext')\n",
    "\n",
    "print(df_final_combined.shape)\n",
    "df_final_combined.head()"
   ]
  },
  {
   "cell_type": "markdown",
   "metadata": {},
   "source": [
    "## Start with Train Test Split"
   ]
  },
  {
   "cell_type": "code",
   "execution_count": 31,
   "metadata": {},
   "outputs": [],
   "source": [
    "from sklearn.model_selection import train_test_split\n"
   ]
  },
  {
   "cell_type": "code",
   "execution_count": 32,
   "metadata": {},
   "outputs": [],
   "source": [
    "# defining X as predictor variable and y as target\n",
    "X = df_final_combined.selftext\n",
    "y = df_final_combined.subreddit"
   ]
  },
  {
   "cell_type": "code",
   "execution_count": 33,
   "metadata": {},
   "outputs": [],
   "source": [
    "X_train_not_cleaned, X_test_not_cleaned, y_train, y_test = train_test_split(X, y, stratify=y, random_state=42)"
   ]
  },
  {
   "cell_type": "markdown",
   "metadata": {},
   "source": [
    "## Baseline Model"
   ]
  },
  {
   "cell_type": "code",
   "execution_count": 34,
   "metadata": {},
   "outputs": [
    {
     "data": {
      "text/plain": [
       "0    0.521994\n",
       "1    0.478006\n",
       "Name: subreddit, dtype: float64"
      ]
     },
     "execution_count": 34,
     "metadata": {},
     "output_type": "execute_result"
    }
   ],
   "source": [
    "# naive assumption of all posts belonging to majority class gives us accuracy of ~52.20%.\n",
    "# note that the two classes are relatively balanced.\n",
    "\n",
    "y_train.value_counts(normalize=True)"
   ]
  },
  {
   "cell_type": "code",
   "execution_count": 35,
   "metadata": {},
   "outputs": [
    {
     "name": "stdout",
     "output_type": "stream",
     "text": [
      "Baseline Model Score is accuracy of 0.52, based on naive assumption of all posts belonging to majority class.\n"
     ]
    }
   ],
   "source": [
    "print(\"Baseline Model Score is accuracy of 0.52, based on naive assumption of all posts belonging to majority class.\")"
   ]
  },
  {
   "cell_type": "markdown",
   "metadata": {},
   "source": [
    "## Cleaning 'selftext': Tokenizing , Stemming and Lemmatizing"
   ]
  },
  {
   "cell_type": "code",
   "execution_count": 36,
   "metadata": {},
   "outputs": [],
   "source": [
    "import re\n",
    "\n",
    "from nltk.stem import WordNetLemmatizer\n",
    "lemmatizer = WordNetLemmatizer()\n"
   ]
  },
  {
   "cell_type": "code",
   "execution_count": 37,
   "metadata": {},
   "outputs": [],
   "source": [
    "# note that stopwords='english' will only be applied at modeling pipeline stage, in case we wish to use\n",
    "# it as a gridsearch parameter.\n",
    "\n",
    "def posts_cleaner_func(raw_post):\n",
    "    # Function to convert a raw post to a string of words\n",
    "    # The input is a single string (a raw post), and \n",
    "    # the output is a single string (a post with http removed, non-letters removed, converted to lower case)\n",
    "    \n",
    "    # 1. Remove http, while keeping words after it.\n",
    "    http_gone = re.sub(\"\\(http.+\\)\", \" \", raw_post)\n",
    "    \n",
    "    # 2. Remove non-letters.\n",
    "    letters_only = re.sub(\"[^a-zA-Z]\", \" \", http_gone)\n",
    "    \n",
    "    # 3. Convert to lower case, split into individual words.\n",
    "    words = letters_only.lower().split()\n",
    "\n",
    "    # 4. Lematize words.\n",
    "    lemmatizer = WordNetLemmatizer ()\n",
    "    meaningful_words = [lemmatizer.lemmatize(w) for w in words]\n",
    "     \n",
    "    # 5. Join the words back into one string separated by space, \n",
    "    # and return the result.\n",
    "    return(\" \".join(meaningful_words))"
   ]
  },
  {
   "cell_type": "code",
   "execution_count": 38,
   "metadata": {},
   "outputs": [
    {
     "name": "stdout",
     "output_type": "stream",
     "text": [
      "Cleaning and parsing the training set posts...\n",
      "Post 100 of 1819.\n",
      "Post 200 of 1819.\n",
      "Post 300 of 1819.\n",
      "Post 400 of 1819.\n",
      "Post 500 of 1819.\n",
      "Post 600 of 1819.\n",
      "Post 700 of 1819.\n",
      "Post 800 of 1819.\n",
      "Post 900 of 1819.\n",
      "Post 1000 of 1819.\n",
      "Post 1100 of 1819.\n",
      "Post 1200 of 1819.\n",
      "Post 1300 of 1819.\n",
      "Cleaning and parsing the testing set posts...\n",
      "Review 1400 of 1819.\n",
      "Review 1500 of 1819.\n",
      "Review 1600 of 1819.\n",
      "Review 1700 of 1819.\n",
      "Review 1800 of 1819.\n"
     ]
    }
   ],
   "source": [
    "print(\"Cleaning and parsing the training set posts...\")\n",
    "\n",
    "# Initializing empty lists to hold the cleaned posts.\n",
    "X_train = []\n",
    "X_test = []\n",
    "\n",
    "j = 0\n",
    "for train_post in pd.DataFrame(X_train_not_cleaned)['selftext']:\n",
    "    \n",
    "    # Cleans training posts, then append to X_train.\n",
    "    X_train.append(posts_cleaner_func(train_post))\n",
    "    \n",
    "    # If the index is divisible by 100, print a message\n",
    "    if (j + 1) % 100 == 0:\n",
    "        print(f'Post {j + 1} of {df_initial_combined.shape[0]}.')\n",
    "    \n",
    "    j += 1\n",
    "\n",
    "# Let's do the same for our testing set.\n",
    "\n",
    "print(\"Cleaning and parsing the testing set posts...\")\n",
    "\n",
    "for test_post in pd.DataFrame(X_test_not_cleaned)['selftext']:\n",
    "    # Cleans test posts, then append to X_test.\n",
    "    X_test.append(posts_cleaner_func(test_post))\n",
    "    \n",
    "    # If the index is divisible by 100, print a message\n",
    "    if (j + 1) % 100 == 0:\n",
    "        print(f'Review {j + 1} of {df_initial_combined.shape[0]}.')\n",
    "        \n",
    "    j += 1"
   ]
  },
  {
   "cell_type": "code",
   "execution_count": 39,
   "metadata": {},
   "outputs": [
    {
     "name": "stdout",
     "output_type": "stream",
     "text": [
      "(1364, 1)\n"
     ]
    },
    {
     "data": {
      "text/html": [
       "<div>\n",
       "<style scoped>\n",
       "    .dataframe tbody tr th:only-of-type {\n",
       "        vertical-align: middle;\n",
       "    }\n",
       "\n",
       "    .dataframe tbody tr th {\n",
       "        vertical-align: top;\n",
       "    }\n",
       "\n",
       "    .dataframe thead th {\n",
       "        text-align: right;\n",
       "    }\n",
       "</style>\n",
       "<table border=\"1\" class=\"dataframe\">\n",
       "  <thead>\n",
       "    <tr style=\"text-align: right;\">\n",
       "      <th></th>\n",
       "      <th>selftext</th>\n",
       "    </tr>\n",
       "  </thead>\n",
       "  <tbody>\n",
       "    <tr>\n",
       "      <th>1395</th>\n",
       "      <td>One of our housekeepers is pretty known for be...</td>\n",
       "    </tr>\n",
       "    <tr>\n",
       "      <th>858</th>\n",
       "      <td>I run a small hotel with a hand-operated eleva...</td>\n",
       "    </tr>\n",
       "    <tr>\n",
       "      <th>969</th>\n",
       "      <td>Tonight, I had a couple of obviously homeless ...</td>\n",
       "    </tr>\n",
       "    <tr>\n",
       "      <th>1494</th>\n",
       "      <td>I’m not looking forward into going to work ton...</td>\n",
       "    </tr>\n",
       "    <tr>\n",
       "      <th>1720</th>\n",
       "      <td>An earlier post today about a lady not underst...</td>\n",
       "    </tr>\n",
       "  </tbody>\n",
       "</table>\n",
       "</div>"
      ],
      "text/plain": [
       "                                               selftext\n",
       "1395  One of our housekeepers is pretty known for be...\n",
       "858   I run a small hotel with a hand-operated eleva...\n",
       "969   Tonight, I had a couple of obviously homeless ...\n",
       "1494  I’m not looking forward into going to work ton...\n",
       "1720  An earlier post today about a lady not underst..."
      ]
     },
     "execution_count": 39,
     "metadata": {},
     "output_type": "execute_result"
    }
   ],
   "source": [
    "# Checking pre-cleaned X_train data.\n",
    "\n",
    "print(pd.DataFrame(X_train_not_cleaned).shape)\n",
    "pd.DataFrame(X_train_not_cleaned).head()"
   ]
  },
  {
   "cell_type": "code",
   "execution_count": 40,
   "metadata": {},
   "outputs": [
    {
     "name": "stdout",
     "output_type": "stream",
     "text": [
      "(1364, 1)\n"
     ]
    },
    {
     "data": {
      "text/html": [
       "<div>\n",
       "<style scoped>\n",
       "    .dataframe tbody tr th:only-of-type {\n",
       "        vertical-align: middle;\n",
       "    }\n",
       "\n",
       "    .dataframe tbody tr th {\n",
       "        vertical-align: top;\n",
       "    }\n",
       "\n",
       "    .dataframe thead th {\n",
       "        text-align: right;\n",
       "    }\n",
       "</style>\n",
       "<table border=\"1\" class=\"dataframe\">\n",
       "  <thead>\n",
       "    <tr style=\"text-align: right;\">\n",
       "      <th></th>\n",
       "      <th>selftext</th>\n",
       "    </tr>\n",
       "  </thead>\n",
       "  <tbody>\n",
       "    <tr>\n",
       "      <th>0</th>\n",
       "      <td>one of our housekeeper is pretty known for bei...</td>\n",
       "    </tr>\n",
       "    <tr>\n",
       "      <th>1</th>\n",
       "      <td>i run a small hotel with a hand operated eleva...</td>\n",
       "    </tr>\n",
       "    <tr>\n",
       "      <th>2</th>\n",
       "      <td>tonight i had a couple of obviously homeless f...</td>\n",
       "    </tr>\n",
       "    <tr>\n",
       "      <th>3</th>\n",
       "      <td>i m not looking forward into going to work ton...</td>\n",
       "    </tr>\n",
       "    <tr>\n",
       "      <th>4</th>\n",
       "      <td>an earlier post today about a lady not underst...</td>\n",
       "    </tr>\n",
       "  </tbody>\n",
       "</table>\n",
       "</div>"
      ],
      "text/plain": [
       "                                            selftext\n",
       "0  one of our housekeeper is pretty known for bei...\n",
       "1  i run a small hotel with a hand operated eleva...\n",
       "2  tonight i had a couple of obviously homeless f...\n",
       "3  i m not looking forward into going to work ton...\n",
       "4  an earlier post today about a lady not underst..."
      ]
     },
     "execution_count": 40,
     "metadata": {},
     "output_type": "execute_result"
    }
   ],
   "source": [
    "# Quick comparison with pre-cleaned X_train data above to see successful cleaning.\n",
    "\n",
    "print((pd.DataFrame(X_train, columns=['selftext']).shape))\n",
    "pd.DataFrame(X_train,columns=['selftext']).head()\n",
    "\n",
    "\n",
    "# note that when X_train as a list is converted to DataFrame, index is reset, but this is not an issue\n",
    "# as we are not using iloc nor loc.\n",
    "# We are not shuffling the rows, so X and y rows will still be aligned."
   ]
  },
  {
   "cell_type": "code",
   "execution_count": 41,
   "metadata": {},
   "outputs": [],
   "source": [
    "# writing to csv files for usage in separate models in individual jupyter notebooks.\n",
    "# note that no vectorization treatment has been applied to these datasets yet.\n",
    "# vectorization will be applied as part of a pipeline combined with classifier to form the models.\n",
    "\n",
    "pd.DataFrame(X_train, columns=['selftext']).to_csv(r'../datasets/X_train.csv', index = False)\n",
    "pd.DataFrame(X_test, columns=['selftext']).to_csv(r'../datasets/X_test.csv', index = False)\n",
    "pd.DataFrame(y_train).to_csv(r'../datasets/y_train.csv', index = False)\n",
    "pd.DataFrame(y_test).to_csv(r'../datasets/y_test.csv', index = False)\n"
   ]
  },
  {
   "cell_type": "markdown",
   "metadata": {},
   "source": [
    "## Naive Count Vectorization"
   ]
  },
  {
   "cell_type": "markdown",
   "metadata": {},
   "source": [
    "Start by instantiating a naive cvec first (pre-cleaning), to showcase the impact of stopwords and cleaning."
   ]
  },
  {
   "cell_type": "code",
   "execution_count": 42,
   "metadata": {},
   "outputs": [],
   "source": [
    "# Model imports\n",
    "\n",
    "from sklearn.pipeline import Pipeline\n",
    "from sklearn.model_selection import GridSearchCV\n",
    "from sklearn.linear_model import LogisticRegression\n",
    "from sklearn.feature_extraction.text import CountVectorizer, TfidfVectorizer\n"
   ]
  },
  {
   "cell_type": "code",
   "execution_count": 43,
   "metadata": {},
   "outputs": [],
   "source": [
    "# Instantiating Count Vectorizer object, with token pattern = \"[a-z]+[']?[a-z]*\".\n",
    "# It will allow words like 'I've' stay as they are.\n",
    "# It will also remove pure numbers.\n",
    "\n",
    "cvec_naive = CountVectorizer(token_pattern=\"[a-z]+[']?[a-z]*\", lowercase=True)\n"
   ]
  },
  {
   "cell_type": "code",
   "execution_count": 44,
   "metadata": {},
   "outputs": [],
   "source": [
    "X_train_cvec_naive = cvec_naive.fit_transform(X_train_not_cleaned).todense()\n",
    "X_train_cvec_naive_df = pd.DataFrame(X_train_cvec_naive, columns = cvec_naive.get_feature_names())"
   ]
  },
  {
   "cell_type": "code",
   "execution_count": 45,
   "metadata": {},
   "outputs": [
    {
     "name": "stdout",
     "output_type": "stream",
     "text": [
      "(1364, 14790)\n"
     ]
    },
    {
     "data": {
      "text/html": [
       "<div>\n",
       "<style scoped>\n",
       "    .dataframe tbody tr th:only-of-type {\n",
       "        vertical-align: middle;\n",
       "    }\n",
       "\n",
       "    .dataframe tbody tr th {\n",
       "        vertical-align: top;\n",
       "    }\n",
       "\n",
       "    .dataframe thead th {\n",
       "        text-align: right;\n",
       "    }\n",
       "</style>\n",
       "<table border=\"1\" class=\"dataframe\">\n",
       "  <thead>\n",
       "    <tr style=\"text-align: right;\">\n",
       "      <th></th>\n",
       "      <th>a</th>\n",
       "      <th>aa</th>\n",
       "      <th>aaa</th>\n",
       "      <th>aaaannnnd</th>\n",
       "      <th>aaand</th>\n",
       "      <th>aany</th>\n",
       "      <th>aaron</th>\n",
       "      <th>aback</th>\n",
       "      <th>abandon</th>\n",
       "      <th>abandoned</th>\n",
       "      <th>...</th>\n",
       "      <th>ziprecruiter</th>\n",
       "      <th>zirconium</th>\n",
       "      <th>zmtfx</th>\n",
       "      <th>zone</th>\n",
       "      <th>zoned</th>\n",
       "      <th>zones</th>\n",
       "      <th>zoning</th>\n",
       "      <th>zoo</th>\n",
       "      <th>zwei</th>\n",
       "      <th>zz</th>\n",
       "    </tr>\n",
       "  </thead>\n",
       "  <tbody>\n",
       "    <tr>\n",
       "      <th>0</th>\n",
       "      <td>10</td>\n",
       "      <td>0</td>\n",
       "      <td>0</td>\n",
       "      <td>0</td>\n",
       "      <td>0</td>\n",
       "      <td>0</td>\n",
       "      <td>0</td>\n",
       "      <td>0</td>\n",
       "      <td>0</td>\n",
       "      <td>0</td>\n",
       "      <td>...</td>\n",
       "      <td>0</td>\n",
       "      <td>0</td>\n",
       "      <td>0</td>\n",
       "      <td>0</td>\n",
       "      <td>0</td>\n",
       "      <td>0</td>\n",
       "      <td>0</td>\n",
       "      <td>0</td>\n",
       "      <td>0</td>\n",
       "      <td>0</td>\n",
       "    </tr>\n",
       "    <tr>\n",
       "      <th>1</th>\n",
       "      <td>15</td>\n",
       "      <td>0</td>\n",
       "      <td>0</td>\n",
       "      <td>0</td>\n",
       "      <td>0</td>\n",
       "      <td>0</td>\n",
       "      <td>0</td>\n",
       "      <td>0</td>\n",
       "      <td>0</td>\n",
       "      <td>0</td>\n",
       "      <td>...</td>\n",
       "      <td>0</td>\n",
       "      <td>0</td>\n",
       "      <td>0</td>\n",
       "      <td>0</td>\n",
       "      <td>0</td>\n",
       "      <td>0</td>\n",
       "      <td>0</td>\n",
       "      <td>0</td>\n",
       "      <td>0</td>\n",
       "      <td>0</td>\n",
       "    </tr>\n",
       "    <tr>\n",
       "      <th>2</th>\n",
       "      <td>7</td>\n",
       "      <td>0</td>\n",
       "      <td>0</td>\n",
       "      <td>0</td>\n",
       "      <td>0</td>\n",
       "      <td>0</td>\n",
       "      <td>0</td>\n",
       "      <td>0</td>\n",
       "      <td>0</td>\n",
       "      <td>0</td>\n",
       "      <td>...</td>\n",
       "      <td>0</td>\n",
       "      <td>0</td>\n",
       "      <td>0</td>\n",
       "      <td>0</td>\n",
       "      <td>0</td>\n",
       "      <td>0</td>\n",
       "      <td>0</td>\n",
       "      <td>0</td>\n",
       "      <td>0</td>\n",
       "      <td>0</td>\n",
       "    </tr>\n",
       "    <tr>\n",
       "      <th>3</th>\n",
       "      <td>23</td>\n",
       "      <td>0</td>\n",
       "      <td>0</td>\n",
       "      <td>0</td>\n",
       "      <td>0</td>\n",
       "      <td>0</td>\n",
       "      <td>0</td>\n",
       "      <td>0</td>\n",
       "      <td>0</td>\n",
       "      <td>0</td>\n",
       "      <td>...</td>\n",
       "      <td>0</td>\n",
       "      <td>0</td>\n",
       "      <td>0</td>\n",
       "      <td>0</td>\n",
       "      <td>0</td>\n",
       "      <td>0</td>\n",
       "      <td>0</td>\n",
       "      <td>0</td>\n",
       "      <td>0</td>\n",
       "      <td>0</td>\n",
       "    </tr>\n",
       "    <tr>\n",
       "      <th>4</th>\n",
       "      <td>23</td>\n",
       "      <td>0</td>\n",
       "      <td>0</td>\n",
       "      <td>0</td>\n",
       "      <td>0</td>\n",
       "      <td>0</td>\n",
       "      <td>0</td>\n",
       "      <td>0</td>\n",
       "      <td>0</td>\n",
       "      <td>0</td>\n",
       "      <td>...</td>\n",
       "      <td>0</td>\n",
       "      <td>0</td>\n",
       "      <td>0</td>\n",
       "      <td>0</td>\n",
       "      <td>0</td>\n",
       "      <td>0</td>\n",
       "      <td>0</td>\n",
       "      <td>0</td>\n",
       "      <td>0</td>\n",
       "      <td>0</td>\n",
       "    </tr>\n",
       "  </tbody>\n",
       "</table>\n",
       "<p>5 rows × 14790 columns</p>\n",
       "</div>"
      ],
      "text/plain": [
       "    a  aa  aaa  aaaannnnd  aaand  aany  aaron  aback  abandon  abandoned  ...  \\\n",
       "0  10   0    0          0      0     0      0      0        0          0  ...   \n",
       "1  15   0    0          0      0     0      0      0        0          0  ...   \n",
       "2   7   0    0          0      0     0      0      0        0          0  ...   \n",
       "3  23   0    0          0      0     0      0      0        0          0  ...   \n",
       "4  23   0    0          0      0     0      0      0        0          0  ...   \n",
       "\n",
       "   ziprecruiter  zirconium  zmtfx  zone  zoned  zones  zoning  zoo  zwei  zz  \n",
       "0             0          0      0     0      0      0       0    0     0   0  \n",
       "1             0          0      0     0      0      0       0    0     0   0  \n",
       "2             0          0      0     0      0      0       0    0     0   0  \n",
       "3             0          0      0     0      0      0       0    0     0   0  \n",
       "4             0          0      0     0      0      0       0    0     0   0  \n",
       "\n",
       "[5 rows x 14790 columns]"
      ]
     },
     "execution_count": 45,
     "metadata": {},
     "output_type": "execute_result"
    }
   ],
   "source": [
    "print(X_train_cvec_naive.shape)\n",
    "X_train_cvec_naive_df.head()"
   ]
  },
  {
   "cell_type": "code",
   "execution_count": 46,
   "metadata": {},
   "outputs": [],
   "source": [
    "# instantiate another cvec but with English stop_words\n",
    "\n",
    "from sklearn.feature_extraction import stop_words"
   ]
  },
  {
   "cell_type": "code",
   "execution_count": 47,
   "metadata": {},
   "outputs": [],
   "source": [
    "cvec_stop = CountVectorizer(token_pattern=\"[a-z]+[']?[a-z]*\", lowercase=True, stop_words = 'english')"
   ]
  },
  {
   "cell_type": "code",
   "execution_count": 48,
   "metadata": {},
   "outputs": [
    {
     "data": {
      "text/plain": [
       "(1364, 14491)"
      ]
     },
     "execution_count": 48,
     "metadata": {},
     "output_type": "execute_result"
    }
   ],
   "source": [
    "X_train_cvec_stop = cvec_stop.fit_transform(X_train_not_cleaned).todense()\n",
    "X_train_cvec_stop_df = pd.DataFrame(X_train_cvec_stop, columns = cvec_stop.get_feature_names())\n",
    "X_train_cvec_stop_df.shape"
   ]
  },
  {
   "cell_type": "code",
   "execution_count": 49,
   "metadata": {},
   "outputs": [
    {
     "name": "stdout",
     "output_type": "stream",
     "text": [
      "Inclusion of English stopwords eliminated a further 299 features prior to any modeling.\n"
     ]
    }
   ],
   "source": [
    "# checking no. of features removed by using 'english' stopwords\n",
    "\n",
    "X_train_cvec_naive_df.shape[1] - X_train_cvec_stop_df.shape[1]\n",
    "\n",
    "print(f\"Inclusion of English stopwords eliminated a further {X_train_cvec_naive_df.shape[1] - X_train_cvec_stop_df.shape[1]} features prior to any modeling.\")"
   ]
  },
  {
   "cell_type": "code",
   "execution_count": 50,
   "metadata": {},
   "outputs": [
    {
     "name": "stdout",
     "output_type": "stream",
     "text": [
      "After elimination of sklearn's 'english' stopwords, we have 14491 remaining words, which are also our features.\n"
     ]
    }
   ],
   "source": [
    "print(f\"After elimination of sklearn's 'english' stopwords, we have {len(cvec_stop.get_feature_names())} remaining words, which are also our features.\")"
   ]
  },
  {
   "cell_type": "markdown",
   "metadata": {},
   "source": [
    "## Pre-Cleaning, Pre-Modeling Count Vectorization Corpus Word Count"
   ]
  },
  {
   "cell_type": "markdown",
   "metadata": {},
   "source": [
    "Creating a DataFrame for the above Total Word Count, and then check, for each specified frequency (2, 10, 50, etc), what is the associated number of features (words) that appear in the corpus."
   ]
  },
  {
   "cell_type": "code",
   "execution_count": 51,
   "metadata": {},
   "outputs": [
    {
     "data": {
      "text/plain": [
       "just            2478.0\n",
       "room            1887.0\n",
       "like            1600.0\n",
       "t               1529.0\n",
       "i'm             1297.0\n",
       "                 ...  \n",
       "psychiatrist       1.0\n",
       "facepalm           1.0\n",
       "psych              1.0\n",
       "pst                1.0\n",
       "rsvp               1.0\n",
       "Name: Total, Length: 14491, dtype: float64"
      ]
     },
     "execution_count": 51,
     "metadata": {},
     "output_type": "execute_result"
    }
   ],
   "source": [
    "# find out how many times each word appear in the corpus by creating a 'Total' row at the end of the dataframe:\n",
    "X_train_cvec_stop_df.loc['Total',:]= X_train_cvec_stop_df.sum(axis=0)\n",
    "X_train_cvec_stop_df.loc['Total',:].sort_values(ascending=False)"
   ]
  },
  {
   "cell_type": "code",
   "execution_count": 52,
   "metadata": {},
   "outputs": [
    {
     "name": "stdout",
     "output_type": "stream",
     "text": [
      "(14491, 1)\n"
     ]
    },
    {
     "data": {
      "text/html": [
       "<div>\n",
       "<style scoped>\n",
       "    .dataframe tbody tr th:only-of-type {\n",
       "        vertical-align: middle;\n",
       "    }\n",
       "\n",
       "    .dataframe tbody tr th {\n",
       "        vertical-align: top;\n",
       "    }\n",
       "\n",
       "    .dataframe thead th {\n",
       "        text-align: right;\n",
       "    }\n",
       "</style>\n",
       "<table border=\"1\" class=\"dataframe\">\n",
       "  <thead>\n",
       "    <tr style=\"text-align: right;\">\n",
       "      <th></th>\n",
       "      <th>Total</th>\n",
       "    </tr>\n",
       "  </thead>\n",
       "  <tbody>\n",
       "    <tr>\n",
       "      <th>just</th>\n",
       "      <td>2478.0</td>\n",
       "    </tr>\n",
       "    <tr>\n",
       "      <th>room</th>\n",
       "      <td>1887.0</td>\n",
       "    </tr>\n",
       "    <tr>\n",
       "      <th>like</th>\n",
       "      <td>1600.0</td>\n",
       "    </tr>\n",
       "    <tr>\n",
       "      <th>t</th>\n",
       "      <td>1529.0</td>\n",
       "    </tr>\n",
       "    <tr>\n",
       "      <th>i'm</th>\n",
       "      <td>1297.0</td>\n",
       "    </tr>\n",
       "  </tbody>\n",
       "</table>\n",
       "</div>"
      ],
      "text/plain": [
       "       Total\n",
       "just  2478.0\n",
       "room  1887.0\n",
       "like  1600.0\n",
       "t     1529.0\n",
       "i'm   1297.0"
      ]
     },
     "execution_count": 52,
     "metadata": {},
     "output_type": "execute_result"
    }
   ],
   "source": [
    "X_train_total_CVEC_stop = pd.DataFrame(X_train_cvec_stop_df.loc['Total',:].sort_values(ascending=False))\n",
    "print(X_train_total_CVEC_stop.shape)\n",
    "X_train_total_CVEC_stop.head()"
   ]
  },
  {
   "cell_type": "code",
   "execution_count": 53,
   "metadata": {},
   "outputs": [
    {
     "name": "stdout",
     "output_type": "stream",
     "text": [
      "8167\n",
      "11943\n",
      "13721\n",
      "14445\n",
      "14479\n",
      "14487\n"
     ]
    }
   ],
   "source": [
    "# No. of post-Count Vectorization words fulfilling various appearance count thresholds:\n",
    "\n",
    "print(len(X_train_total_CVEC_stop.loc[X_train_total_CVEC_stop['Total'] <= 2]))\n",
    "print(len(X_train_total_CVEC_stop.loc[X_train_total_CVEC_stop['Total'] <= 10]))\n",
    "print(len(X_train_total_CVEC_stop.loc[X_train_total_CVEC_stop['Total'] <= 50]))\n",
    "print(len(X_train_total_CVEC_stop.loc[X_train_total_CVEC_stop['Total'] <= 500]))\n",
    "print(len(X_train_total_CVEC_stop.loc[X_train_total_CVEC_stop['Total'] <= 1000]))\n",
    "print(len(X_train_total_CVEC_stop.loc[X_train_total_CVEC_stop['Total'] <= 1500]))\n",
    "\n",
    "\n"
   ]
  },
  {
   "cell_type": "code",
   "execution_count": 54,
   "metadata": {},
   "outputs": [
    {
     "data": {
      "image/png": "[encoded data removed]",
      "text/plain": [
       "<Figure size 432x288 with 1 Axes>"
      ]
     },
     "metadata": {
      "needs_background": "light"
     },
     "output_type": "display_data"
    }
   ],
   "source": [
    "# plot histogram to observe the distribution\n",
    "\n",
    "X_train_total_CVEC_stop[X_train_total_CVEC_stop.Total > 1000].plot(kind='bar');"
   ]
  },
  {
   "cell_type": "code",
   "execution_count": 55,
   "metadata": {},
   "outputs": [
    {
     "data": {
      "text/plain": [
       "12"
      ]
     },
     "execution_count": 55,
     "metadata": {},
     "output_type": "execute_result"
    }
   ],
   "source": [
    "# number of words that appeared more than 1000 times\n",
    "\n",
    "len(X_train_total_CVEC_stop[X_train_total_CVEC_stop.Total > 1000])"
   ]
  },
  {
   "cell_type": "markdown",
   "metadata": {},
   "source": [
    "## Pre-Cleaning, Pre-Modeling Count Vectorization WordCloud Visualization"
   ]
  },
  {
   "cell_type": "code",
   "execution_count": 56,
   "metadata": {},
   "outputs": [],
   "source": [
    "# Import Wordcloud \n",
    "\n",
    "from os import path\n",
    "from PIL import Image\n",
    "from wordcloud import WordCloud, STOPWORDS, ImageColorGenerator\n"
   ]
  },
  {
   "cell_type": "code",
   "execution_count": 57,
   "metadata": {},
   "outputs": [],
   "source": [
    "# instantiating wordcloud_string for visualisation\n",
    "\n",
    "# converting float in X_train_total_CVEC_stop['Total'] to int for usage to form wordcloud_string:\n",
    "X_train_total_CVEC_stop['Total']=X_train_total_CVEC_stop['Total'].apply(lambda i: int(i))\n",
    "\n",
    "# forming wordcloud_string based on word counts of X_train_total_CVEC_stop\n",
    "\n",
    "wordcloud_string = ''\n",
    "i = 0\n",
    "\n",
    "# while loop to keep adding each word with a blank space after it, multiplied by its count:\n",
    "while i < len(X_train_total_CVEC_stop):\n",
    "        wordcloud_string += ((X_train_total_CVEC_stop.index[i]+' ')*X_train_total_CVEC_stop['Total'][i])\n",
    "        i = i + 1\n"
   ]
  },
  {
   "cell_type": "code",
   "execution_count": 58,
   "metadata": {},
   "outputs": [
    {
     "data": {
      "image/png": "[encoded data removed]",
      "text/plain": [
       "<Figure size 720x360 with 1 Axes>"
      ]
     },
     "metadata": {
      "needs_background": "light"
     },
     "output_type": "display_data"
    }
   ],
   "source": [
    "# Wordcloud shows the relative frequency of remaining features/words\n",
    "# in training data left after cleaning and stopword removal.\n",
    "# stopwords keyword will remove 'english' stopwords\n",
    "\n",
    "stopwords = set(stop_words.ENGLISH_STOP_WORDS)\n",
    "wordcloud = WordCloud(stopwords=stopwords, background_color=\"white\",\n",
    "                      contour_width=5, contour_color='firebrick', collocations=False).generate(wordcloud_string)\n",
    "\n",
    "plt.figure(figsize=(10,5))\n",
    "plt.imshow(wordcloud, interpolation='bilinear')\n",
    "plt.axis(\"off\")\n",
    "plt.show()\n",
    "\n",
    "# This is the Pre-Model Count Vectorization WordCloud on X_train_total_CVEC_stop:"
   ]
  },
  {
   "cell_type": "code",
   "execution_count": 59,
   "metadata": {},
   "outputs": [],
   "source": [
    "# These will be compared later with models' post-cleaning wordclouds and wordcounts."
   ]
  },
  {
   "cell_type": "markdown",
   "metadata": {},
   "source": [
    "## Naive TFIDF Vectorization"
   ]
  },
  {
   "cell_type": "markdown",
   "metadata": {},
   "source": [
    "Start by instantiating a naive tvec first (pre-cleaning), to inspect initial tvec weights."
   ]
  },
  {
   "cell_type": "code",
   "execution_count": 60,
   "metadata": {},
   "outputs": [],
   "source": [
    "# Instantiating TFIDF Vectorizer object, with token pattern = \"[a-z]+[']?[a-z]*\".\n",
    "# It will allow words like 'I've' stay as they are.\n",
    "# It will also remove pure numbers.\n",
    "\n",
    "tvec_naive = TfidfVectorizer(token_pattern=\"[a-z]+[']?[a-z]*\", lowercase=True)\n"
   ]
  },
  {
   "cell_type": "code",
   "execution_count": 61,
   "metadata": {},
   "outputs": [],
   "source": [
    "X_train_tvec_naive = tvec_naive.fit_transform(X_train_not_cleaned).todense()\n",
    "X_train_tvec_naive_df = pd.DataFrame(X_train_tvec_naive, columns = tvec_naive.get_feature_names())"
   ]
  },
  {
   "cell_type": "code",
   "execution_count": 62,
   "metadata": {},
   "outputs": [
    {
     "name": "stdout",
     "output_type": "stream",
     "text": [
      "(1364, 14790)\n"
     ]
    },
    {
     "data": {
      "text/html": [
       "<div>\n",
       "<style scoped>\n",
       "    .dataframe tbody tr th:only-of-type {\n",
       "        vertical-align: middle;\n",
       "    }\n",
       "\n",
       "    .dataframe tbody tr th {\n",
       "        vertical-align: top;\n",
       "    }\n",
       "\n",
       "    .dataframe thead th {\n",
       "        text-align: right;\n",
       "    }\n",
       "</style>\n",
       "<table border=\"1\" class=\"dataframe\">\n",
       "  <thead>\n",
       "    <tr style=\"text-align: right;\">\n",
       "      <th></th>\n",
       "      <th>a</th>\n",
       "      <th>aa</th>\n",
       "      <th>aaa</th>\n",
       "      <th>aaaannnnd</th>\n",
       "      <th>aaand</th>\n",
       "      <th>aany</th>\n",
       "      <th>aaron</th>\n",
       "      <th>aback</th>\n",
       "      <th>abandon</th>\n",
       "      <th>abandoned</th>\n",
       "      <th>...</th>\n",
       "      <th>ziprecruiter</th>\n",
       "      <th>zirconium</th>\n",
       "      <th>zmtfx</th>\n",
       "      <th>zone</th>\n",
       "      <th>zoned</th>\n",
       "      <th>zones</th>\n",
       "      <th>zoning</th>\n",
       "      <th>zoo</th>\n",
       "      <th>zwei</th>\n",
       "      <th>zz</th>\n",
       "    </tr>\n",
       "  </thead>\n",
       "  <tbody>\n",
       "    <tr>\n",
       "      <th>0</th>\n",
       "      <td>0.134205</td>\n",
       "      <td>0.0</td>\n",
       "      <td>0.0</td>\n",
       "      <td>0.0</td>\n",
       "      <td>0.0</td>\n",
       "      <td>0.0</td>\n",
       "      <td>0.0</td>\n",
       "      <td>0.0</td>\n",
       "      <td>0.0</td>\n",
       "      <td>0.0</td>\n",
       "      <td>...</td>\n",
       "      <td>0.0</td>\n",
       "      <td>0.0</td>\n",
       "      <td>0.0</td>\n",
       "      <td>0.0</td>\n",
       "      <td>0.0</td>\n",
       "      <td>0.0</td>\n",
       "      <td>0.0</td>\n",
       "      <td>0.0</td>\n",
       "      <td>0.0</td>\n",
       "      <td>0.0</td>\n",
       "    </tr>\n",
       "    <tr>\n",
       "      <th>1</th>\n",
       "      <td>0.223560</td>\n",
       "      <td>0.0</td>\n",
       "      <td>0.0</td>\n",
       "      <td>0.0</td>\n",
       "      <td>0.0</td>\n",
       "      <td>0.0</td>\n",
       "      <td>0.0</td>\n",
       "      <td>0.0</td>\n",
       "      <td>0.0</td>\n",
       "      <td>0.0</td>\n",
       "      <td>...</td>\n",
       "      <td>0.0</td>\n",
       "      <td>0.0</td>\n",
       "      <td>0.0</td>\n",
       "      <td>0.0</td>\n",
       "      <td>0.0</td>\n",
       "      <td>0.0</td>\n",
       "      <td>0.0</td>\n",
       "      <td>0.0</td>\n",
       "      <td>0.0</td>\n",
       "      <td>0.0</td>\n",
       "    </tr>\n",
       "    <tr>\n",
       "      <th>2</th>\n",
       "      <td>0.178565</td>\n",
       "      <td>0.0</td>\n",
       "      <td>0.0</td>\n",
       "      <td>0.0</td>\n",
       "      <td>0.0</td>\n",
       "      <td>0.0</td>\n",
       "      <td>0.0</td>\n",
       "      <td>0.0</td>\n",
       "      <td>0.0</td>\n",
       "      <td>0.0</td>\n",
       "      <td>...</td>\n",
       "      <td>0.0</td>\n",
       "      <td>0.0</td>\n",
       "      <td>0.0</td>\n",
       "      <td>0.0</td>\n",
       "      <td>0.0</td>\n",
       "      <td>0.0</td>\n",
       "      <td>0.0</td>\n",
       "      <td>0.0</td>\n",
       "      <td>0.0</td>\n",
       "      <td>0.0</td>\n",
       "    </tr>\n",
       "    <tr>\n",
       "      <th>3</th>\n",
       "      <td>0.107346</td>\n",
       "      <td>0.0</td>\n",
       "      <td>0.0</td>\n",
       "      <td>0.0</td>\n",
       "      <td>0.0</td>\n",
       "      <td>0.0</td>\n",
       "      <td>0.0</td>\n",
       "      <td>0.0</td>\n",
       "      <td>0.0</td>\n",
       "      <td>0.0</td>\n",
       "      <td>...</td>\n",
       "      <td>0.0</td>\n",
       "      <td>0.0</td>\n",
       "      <td>0.0</td>\n",
       "      <td>0.0</td>\n",
       "      <td>0.0</td>\n",
       "      <td>0.0</td>\n",
       "      <td>0.0</td>\n",
       "      <td>0.0</td>\n",
       "      <td>0.0</td>\n",
       "      <td>0.0</td>\n",
       "    </tr>\n",
       "    <tr>\n",
       "      <th>4</th>\n",
       "      <td>0.153707</td>\n",
       "      <td>0.0</td>\n",
       "      <td>0.0</td>\n",
       "      <td>0.0</td>\n",
       "      <td>0.0</td>\n",
       "      <td>0.0</td>\n",
       "      <td>0.0</td>\n",
       "      <td>0.0</td>\n",
       "      <td>0.0</td>\n",
       "      <td>0.0</td>\n",
       "      <td>...</td>\n",
       "      <td>0.0</td>\n",
       "      <td>0.0</td>\n",
       "      <td>0.0</td>\n",
       "      <td>0.0</td>\n",
       "      <td>0.0</td>\n",
       "      <td>0.0</td>\n",
       "      <td>0.0</td>\n",
       "      <td>0.0</td>\n",
       "      <td>0.0</td>\n",
       "      <td>0.0</td>\n",
       "    </tr>\n",
       "  </tbody>\n",
       "</table>\n",
       "<p>5 rows × 14790 columns</p>\n",
       "</div>"
      ],
      "text/plain": [
       "          a   aa  aaa  aaaannnnd  aaand  aany  aaron  aback  abandon  \\\n",
       "0  0.134205  0.0  0.0        0.0    0.0   0.0    0.0    0.0      0.0   \n",
       "1  0.223560  0.0  0.0        0.0    0.0   0.0    0.0    0.0      0.0   \n",
       "2  0.178565  0.0  0.0        0.0    0.0   0.0    0.0    0.0      0.0   \n",
       "3  0.107346  0.0  0.0        0.0    0.0   0.0    0.0    0.0      0.0   \n",
       "4  0.153707  0.0  0.0        0.0    0.0   0.0    0.0    0.0      0.0   \n",
       "\n",
       "   abandoned  ...  ziprecruiter  zirconium  zmtfx  zone  zoned  zones  zoning  \\\n",
       "0        0.0  ...           0.0        0.0    0.0   0.0    0.0    0.0     0.0   \n",
       "1        0.0  ...           0.0        0.0    0.0   0.0    0.0    0.0     0.0   \n",
       "2        0.0  ...           0.0        0.0    0.0   0.0    0.0    0.0     0.0   \n",
       "3        0.0  ...           0.0        0.0    0.0   0.0    0.0    0.0     0.0   \n",
       "4        0.0  ...           0.0        0.0    0.0   0.0    0.0    0.0     0.0   \n",
       "\n",
       "   zoo  zwei   zz  \n",
       "0  0.0   0.0  0.0  \n",
       "1  0.0   0.0  0.0  \n",
       "2  0.0   0.0  0.0  \n",
       "3  0.0   0.0  0.0  \n",
       "4  0.0   0.0  0.0  \n",
       "\n",
       "[5 rows x 14790 columns]"
      ]
     },
     "execution_count": 62,
     "metadata": {},
     "output_type": "execute_result"
    }
   ],
   "source": [
    "print(X_train_tvec_naive_df.shape)\n",
    "X_train_tvec_naive_df.head()"
   ]
  },
  {
   "cell_type": "code",
   "execution_count": 63,
   "metadata": {},
   "outputs": [],
   "source": [
    "# As same stop_words = 'english' being used, the number of features reduced will be the same.\n",
    "# No comparison with a post tvec-stop as it was done with cvec and cvec-stop above."
   ]
  },
  {
   "cell_type": "markdown",
   "metadata": {},
   "source": [
    "Note:\n",
    "As same stop_words = 'english' being used, the number of features reduced will be the same. No comparison with a post tvec_stop as it was done with cvec and cvec_stop above.\n"
   ]
  }
 ],
 "metadata": {
  "kernelspec": {
   "display_name": "Python 3",
   "language": "python",
   "name": "python3"
  },
  "language_info": {
   "codemirror_mode": {
    "name": "ipython",
    "version": 3
   },
   "file_extension": ".py",
   "mimetype": "text/x-python",
   "name": "python",
   "nbconvert_exporter": "python",
   "pygments_lexer": "ipython3",
   "version": "3.7.4"
  }
 },
 "nbformat": 4,
 "nbformat_minor": 2
}
